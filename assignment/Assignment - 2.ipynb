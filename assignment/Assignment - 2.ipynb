{
 "metadata": {
  "name": "",
  "signature": "sha256:0a46e4acba43f99e284c4421b2550707078f8a0bb8a580bebff182323ad8849d"
 },
 "nbformat": 3,
 "nbformat_minor": 0,
 "worksheets": [
  {
   "cells": [
    {
     "cell_type": "markdown",
     "metadata": {},
     "source": [
      "#####1) \ub2e4\uc74c 6 \uac1c\uc758 Expression\uc5d0 \ub300\ud574 Evaluation \uacb0\uacfc \uac12\uc744 \ucd9c\ub825\ud558\uace0, \ud574\ub2f9 \uacb0\uacfc\uac00 \ub098\uc628 \uc774\uc720\uc5d0 \ub300\ud574 \uc124\uba85\ud558\uc2dc\uc624"
     ]
    },
    {
     "cell_type": "code",
     "collapsed": false,
     "input": [
      "print 1 and 2 and 3 and 4\n",
      "print 1 or 2 or 3 or 4\n",
      "print 1 and 2 or 3 and 4\n",
      "print (1 and 2) or (3 and 4)\n",
      "print 1 or 2 and 3 or 4\n",
      "print (1 or 2) and (3 or 4)"
     ],
     "language": "python",
     "metadata": {},
     "outputs": [
      {
       "output_type": "stream",
       "stream": "stdout",
       "text": [
        "4\n",
        "1\n",
        "2\n",
        "2\n",
        "1\n",
        "3\n"
       ]
      }
     ],
     "prompt_number": 1
    },
    {
     "cell_type": "markdown",
     "metadata": {},
     "source": [
      "- 1 and 2 and 3 and 4 : and \uc5f0\uc0b0\uc790\ub294 \uc67c\ucabd\uc5d0\uc11c \ubd80\ud130 \uacc4\uc0b0\uc744 \ud558\uba74\uc11c \ud310\uc815\uc758 \ucd5c\uc885\uc801\uc73c\ub85c \uae30\uc5ec\ud55c \uac12\uc744 \ub9ac\ud134\ud558\uac8c\ub41c\ub2e4.\uc989, \uc67c\ucabd\uc758 \uac12\uc774 \uac70\uc9d3\uc778 \uacbd\uc6b0 \uc67c\ucabd\uac12\uc744 \ubc14\ub85c \ub9ac\ud134\ud558\uace0 \uacc4\uc0b0\uc744 \uc885\ub8cc\ud558\uac8c\ub418\uace0, \uc67c\ucabd\uc774 \ucc38\uc778\uacbd\uc6b0\uc5d0\ub294 \uc624\ub978\ucabd\uc758 \uac12\uc744 \ub9ac\ud134\ud558\uac8c \ub41c\ub2e4. \ub530\ub77c\uc11c 1 and 2\uc5d0\uc11c 2\ub97c \ub9ac\ud134\ud558\uace0 2 and 3 \uc5d0\uc11c 3\uc744 \ub9ac\ud134\ud558\uace0 3 and 4\ub97c \ub9ac\ud134\ud558\ub294 \uc5f0\uc0b0\uacfc\uc815\uc744 \uc9c4\ud589\ud558\uba70 \uacb0\uacfc\uc801\uc73c\ub85c 4\ub97c \ub9ac\ud134\ud558\uac8c \ub41c\ub2e4.\n",
      "\n",
      "- 1 or 2 or 3 or 4 : or \uc5f0\uc0b0\uc790 \uc5ed\uc2dc \uc67c\ucabd\uc5d0\uc11c\ubd80\ud130 \uacc4\uc0b0\uc744 \ud558\uba74\uc11c \ud310\uc815\uc758 \ucd5c\uc885\uc801\uc73c\ub85c \uae30\uc5ec\ud55c \uac12\uc744 \ub9ac\ud134\ud558\uac8c\ub41c\ub2e4. \uc989, \uc67c\ucabd\uc758 \uac12\uc774 \ucc38\uc778\uacbd\uc6b0 \uc67c\ucabd\uac12\uc744 \ubc14\ub85c \ub9ac\ud134\uc744 \ud558\uace0 \ub354 \uc774\uc0c1 \uacc4\uc0b0\uc744 \ud558\uc9c0 \uc54a\ub294\ub2e4. \uc774 \uacbd\uc6b0 1 or 2 \uc5f0\uc0b0\uc5d0\uc11c 1\uc744 \ub9ac\ud134\ud558\uace0 1 or 3\uc5d0\uc11c 1\uc744 \ub9ac\ud134\ud558\uace0 1 or 4 \uc5f0\uc0b0\uc5d0\uc11c 1\ub97c \ub9ac\ud134\ud558\ub294 \uacfc\uc815\uc73c\ub85c \uc9c4\ud589\ub418\uba70 \uacb0\uacfc\uc801\uc73c\ub85c 1\uc744 \ub9ac\ud134\ud558\uac8c \ub41c\ub2e4.\n",
      "\n",
      "- 1 and 2 or 3 and 4 : and \uc640 or\uc758 \uc5f0\uc0b0\uc790\uc758 \uacbd\uc6b0 and \uc5f0\uc0b0\uc790\uac00 \uc6b0\uc120\uc21c\uc704\uc5d0 \uc788\ub2e4. \ub530\ub77c\uc11c \uc774 \uacbd\uc6b0 1 and 2 \uc640 3 and 4\uc758 \uc5f0\uc0b0\uc744 \uc9c4\ud589\ud558\uace0 \uadf8 \uac12\ub4e4\uc744 or \uc5f0\uc0b0\ud558\ub294 \uacfc\uc815\uc744 \uac00\uc9c0\uac8c \ub41c\ub2e4. 1 and 2 \uc5d0\uc11c 2\uac00 \ub9ac\ud134\uc774\ub418\uace0, 3 and 4\uc5d0\uc11c 4\uac00 \ub9ac\ud134\uc774 \ub418\uc5b4 2 or 4 \uc5f0\uc0b0\uc774 \uc9c4\ud589\ub418\uc5b4 2\ub97c \ub9ac\ud134\ud558\uac8c \ub41c\ub2e4.\n",
      "\n",
      "- (1 and 2) or (3 and 4) : \uc704 \uacfc\uc815\uacfc \uac19\uc740 \uc2dd\uc73c\ub85c \uc0ac\uc6a9\uc790\uac00 \uc774\ud574\ud558\uae30 \uc27d\uac8c \uad04\ud638\ub97c \uc774\uc6a9\ud558\uc5ec \ub098\ud0c0\ub0b8\uc2dd\uc774\ub2e4. 2\ub97c \ub9ac\ud134\ud558\uac8c \ub41c\ub2e4.\n",
      "\n",
      "- 1 or 2 and 3 or 4 : and \uc5f0\uc0b0\uc790\uac00 \uc6b0\uc120\uc21c\uc704\uac00 \ub192\uae30 \ub54c\ubb38\uc5d0 2 and 3\uc758 \uc5f0\uc0b0\uc744 \uc6b0\uc120\uc801\uc73c\ub85c \ud55c\ub2e4. 2 and 3\uc5d0\uc11c 3\uc774 \ub9ac\ud134\ub418\uace0 1 or 3 \uc5d0\uc11c 1\uc774 \ub9ac\ud134\ub418\uace0 1 or 4\uc5d0\uc11c 1\uc774 \ub9ac\ud134\ub418\ub294 \uacfc\uc815\uc73c\ub85c \uc9c4\ud589\ud558\uac8c \ub41c\ub2e4.\n",
      "\n",
      "- (1 or 2) and (3 or 4) : \uad04\ud638 \ub0b4\ubd80\uac00 \uc5f0\uc0b0\uc21c\uc704\uac00 \ub192\uae30 \ub54c\ubb38\uc5d0 1 or 2, 3 or 4\ub97c \uc5f0\uc0b0\ud558\uace0 \uadf8 \ub9ac\ud134\uac12\ub4e4\uc744 and \uc5f0\uc0b0\ud558\ub294 \uacfc\uc815\uc774 \ub41c\ub2e4. 1 or 2\uc5d0\uc11c 1\uc774 \ub9ac\ud134\ub418\uace0 3 or 4\uc5d0\uc11c 3\uc774 \ub9ac\ud134\ub418\uace0 1 and 3 \uc5f0\uc0b0\uc5d0\uc11c 3\uc744 \ub9ac\ud134\ud558\ub294 \uacfc\uc815\uc73c\ub85c \uc9c4\ud589\ub41c\ub2e4."
     ]
    },
    {
     "cell_type": "markdown",
     "metadata": {},
     "source": [
      "#####2) 7/5, -7/5, -(7/5)\uc758 \uacb0\uacfc\ub97c \ud655\uc778\ud558\uace0 \uac01\uac01\uc758 \uacb0\uacfc\uac00 \uc65c \uadf8\ub807\uac8c \ub098\uc624\ub294 \uc9c0 \uc124\uba85\ud558\uc2dc\uc624"
     ]
    },
    {
     "cell_type": "code",
     "collapsed": false,
     "input": [
      "print 7/5\n",
      "print -7/5\n",
      "print -(7/5)"
     ],
     "language": "python",
     "metadata": {},
     "outputs": [
      {
       "output_type": "stream",
       "stream": "stdout",
       "text": [
        "1\n",
        "-2\n",
        "-1\n"
       ]
      }
     ],
     "prompt_number": 1
    },
    {
     "cell_type": "markdown",
     "metadata": {},
     "source": [
      "- 5\ub85c \ub098\ub204\uae30 \ub54c\ubb38\uc5d0 \ub098\uba38\uc9c0\ub294 0~4\uc758 \uac12\uc744 \ucde8\ud574\uc57c\ud55c\ub2e4.\n",
      "- 7 / 5 : 5 * 1 + 2 \uc758 \ubaab 1\uc774 \ub9ac\ud134\ub41c\ub2e4.\n",
      "- -7/ 5 : 5 * -2 + 3 \uc758 \ubaab -2\uac00 \ub9ac\ud134\ub41c\ub2e4\n",
      "- -(7/5): 1\ubc88\uc758 \uacb0\uacfc\uac12\uc5d0 \uc74c\uc218\ub97c \ucde8\ud558\ub294 -1\uc774 \ub9ac\ud134\ub41c\ub2e4.\n"
     ]
    },
    {
     "cell_type": "markdown",
     "metadata": {},
     "source": [
      "#####3) \ud0a4\ubcf4\ub4dc\ub85c \uc815\uc218\uac12\uc744 \uc785\ub825 \ubc1b\uace0 \uadf8 \uac12\uc774 \uc591\uc218\uc778\uc9c0 \uc74c\uc218\uc778\uc9c0\ub97c \ube44\ud2b8 \uc5f0\uc0b0\uc790\ub97c \uc774\uc6a9\ud558\uc5ec \ud310\ub2e8\ud558\ub294 \ud504\ub85c\uadf8\ub7a8\uc744 \uc791\uc131\ud558\uc2dc\uc624."
     ]
    },
    {
     "cell_type": "code",
     "collapsed": false,
     "input": [
      "num = int(raw_input('insert number : '))\n",
      "\n",
      "if(num  0):\n",
      "    print \"\uc74c\uc218\"\n",
      "else:\n",
      "    print \"\uc591\uc218\""
     ],
     "language": "python",
     "metadata": {},
     "outputs": [
      {
       "name": "stdout",
       "output_type": "stream",
       "stream": "stdout",
       "text": [
        "insert number : -1\n"
       ]
      },
      {
       "output_type": "stream",
       "stream": "stdout",
       "text": [
        "\uc74c\uc218\n"
       ]
      }
     ],
     "prompt_number": 7
    },
    {
     "cell_type": "markdown",
     "metadata": {},
     "source": [
      "#####4) \ub450 \uac1c\uc758 \ub9ac\uc2a4\ud2b8\ub97c \uc778\uc790\ub85c \ubc1b\uc544\uc11c \uadf8 \ub450 \uac1c\uc758 \ub9ac\uc2a4\ud2b8\uc5d0 \ub300\ud55c '\ud569\uc9d1\ud569'\uc744 \ubc18\ud658\ud558\ub294 \ud568\uc218 list_union(lista, listb)\ub97c \uc791\uc131\ud558\uc2dc\uc624.\n",
      "- \uc778\uc790\ub85c \uc804\ub2ec\ud558\ub294 \ub9ac\uc2a4\ud2b8 2 \uac1c\uc5d0\ub294 \uc815\uc218\uac12\ub9cc \ub4e4\uc5b4\uac04\ub2e4\uace0 \uac00\uc815\ud558\uc790.\n",
      "- \ud568\uc218 \ub0b4\uc5d0\uc11c \uc0c8\ub85c\uc6b4 \ub9ac\uc2a4\ud2b8\ub97c \ub9cc\ub4e4\uc5b4 \uadf8 \ub9ac\uc2a4\ud2b8 \ub0b4\uc5d0 \uc778\uc790\ub85c \ubc1b\uc740 \ub450 \ub9ac\uc2a4\ud2b8\uc758 \ubaa8\ub4e0 \uc6d0\uc18c\ub97c \ub123\uc5b4 \ubc18\ud658\ud55c\ub2e4.\n",
      "- \ubc18\ud658\ud558\ub294 \ub9ac\uc2a4\ud2b8\uc5d0\ub294 \uc808\ub300\ub85c \uc911\ubcf5\ub41c \uc6d0\uc18c\uac00 \ub4e4\uc5b4 \uc788\uc73c\uba74 \uc548\ub41c\ub2e4 (\uc9d1\ud569\uc758 \uc870\uac74).\n",
      "- \ubc18\ud658\ud558\ub294 \ub9ac\uc2a4\ud2b8\ub294 \uc815\ub82c\uc774 \ub418\uc5b4 \uc788\uc5b4\uc57c \ud55c\ub2e4.\n",
      "- \ub2e4\uc74c\uacfc \uac19\uc740 \uc2e4\ud589 \ubc0f \ucd9c\ub825 \uacb0\uacfc\uac00 \ub3c4\ucd9c\ub418\uc5b4\uc57c \ud55c\ub2e4.\n",
      "- list_union([1, 2, 3], [1, 2, 4])\n",
      "- [1, 2, 3, 4]\n",
      "- list_union([-10, -5, 0, -1], [100, 9, 0, 9])\n",
      "- [-10, -5, -1, 0, 9, 100]\n",
      "- list_union([0, 1, 2], [0, 1, 2])"
     ]
    },
    {
     "cell_type": "code",
     "collapsed": false,
     "input": [],
     "language": "python",
     "metadata": {},
     "outputs": []
    },
    {
     "cell_type": "markdown",
     "metadata": {},
     "source": [
      "##5) \uacbd\ub85c\uc5d0 \ud574\ub2f9\ud558\ub294 \ubb38\uc790\uc5f4 1\uac1c\ub97c \uc785\ub825 \ubc1b\uc544 \uadf8 \uc548\uc5d0 \ub514\ub809\ud1a0\ub9ac \uacbd\ub85c\uba85\uacfc \ud30c\uc77c\uba85\uc744 \ubd84\ub9ac\ud558\uc5ec \ub9ac\uc2a4\ud2b8\ub85c \ubc18\ud658\ud558\ub294 \ud568\uc218 div_path(s)\ub97c \uc791\uc131\ud558\uc2dc\uc624.\n",
      "- \uc778\uc790\ub85c \uc804\ub2ec\ud558\ub294 \ubb38\uc790\uc5f4\uc740 \uacbd\ub85c\ub9cc \ub4e4\uc5b4\uac04\ub2e4\uace0 \uac00\uc815\ud55c\ub2e4.\n",
      "- \uac01 \ub514\ub809\ud1a0\ub9ac\uc640 \ud30c\uc77c\uc744 \uad6c\ubd84\ud558\ub294 \ubb38\uc790\ub294 '/'\ub85c \uac00\uc815\ud55c\ub2e4.\n",
      "- \ubc18\ud658\ud558\ub294 \ub9ac\uc2a4\ud2b8\uc758 \uccab\ubc88\uc9f8 \uc6d0\uc18c\ub294 \ub514\ub809\ud1a0\ub9ac\uc774\uace0 \ub450\ubc88\uc9f8 \uc6d0\uc18c\ub294 \ud30c\uc77c\uba85\uc774\ub2e4.\n",
      "- \ub2e4\uc74c\uacfc \uac19\uc740 \uc2e4\ud589 \ubc0f \ucd9c\ub825 \uacb0\uacfc\uac00 \ub3c4\ucd9c\ub418\uc5b4\uc57c \ud55c\ub2e4.\n",
      "    div_path('/usr/local/bin/python')\n",
      "    ['/usr/local/bin', 'python']\n",
      "    div_path('/home/chulsoo/test.txt')\n",
      "    ['/home/chulsoo', 'test.txt']"
     ]
    },
    {
     "cell_type": "code",
     "collapsed": false,
     "input": [],
     "language": "python",
     "metadata": {},
     "outputs": []
    },
    {
     "cell_type": "markdown",
     "metadata": {},
     "source": [
      "#####6) \uc6f9 URL\ub85c \uc9c0\uc815\ub41c \uc6f9\ud398\uc774\uc9c0\ub97c \ubb38\uc790\uc5f4\ub85c \uac00\uc838\uc640 1) \ubaa8\ub4e0 HTML \ud0dc\uadf8 \ubc0f CSS\uc640 Javascript\ub97c \uc81c\uc678\ud55c \uc21c\uc218 \ud14d\uc2a4\ud2b8\ub9cc\uc744 \ucd9c\ub825\ud558\uace0, 2) \uadf8 \uc21c\uc218 \ud14d\uc2a4\ud2b8 \uc548\uc5d0 \uc874\uc7ac\ud558\ub294 \ub2e8\uc5b4\uac00 \ucd1d \uba87\uac1c\uc778\uc9c0 \ucd9c\ub825\ud558\ub294 \ud504\ub85c\uadf8\ub7a8\uc744 \uc791\uc131\ud558\uc2dc\uc624.\n",
      "\n",
      "- HTML \ud0dc\uadf8\ub294 \ub2e4\uc74c \uc870\uac74\uc744 \uac00\uc9c0\ub294 \uac83\uc774\ub2e4.\n",
      "    < \ub85c \uc2dc\uc791\ud558\uc5ec >\ub85c \ub05d\ub098\uac70\ub098 />\ub85c \ub05d\ub09c\ub2e4.\n",
      "    </ \ub85c \uc2dc\uc791\ud558\uc5ec > \ub85c \ub05d\ub09c\ub2e4.\n",
      "- HTML \ubb38\uc11c \ub0b4\uc5d0 \uc874\uc7ac\ud558\ub294 CSS \uc0ad\uc81c\uc2dc \ucc38\uace0\ud560 \uc0ac\ud56d\n",
      "    <style> \ud639\uc740 <STYLE>\ub85c \uc2dc\uc791\ud55c\ub2e4.\n",
      "    </style> \ud639\uc740 </STYLE>\ub85c \ub05d\ub09c\ub2e4.\n",
      "    <style> (\ud639\uc740 <STYLE>)\uacfc </style> (\ud639\uc740 </STYLE>) \ub0b4\uc5d0 \uc874\uc7ac\ud558\ub294 CSS \ucf54\ub4dc\ub294 \ubaa8\ub450 \uc0ad\uc81c\ud55c\ub2e4.\n",
      "- HTML \ubb38\uc11c \ub0b4\uc5d0 \uc874\uc7ac\ud558\ub294 Javascript \uc0ad\uc81c\uc2dc \ucc38\uace0\ud560 \uc0ac\ud56d\n",
      "    <script> \ud639\uc740 <SCRIPT>\ub85c \uc2dc\uc791\ud55c\ub2e4.\n",
      "    </script> \ud639\uc740 </SCRIPT>\ub85c \ub05d\ub09c\ub2e4.\n",
      "    <script> (\ud639\uc740 <SCRIPT>)\uacfc </script> (\ud639\uc740 </SCRIPT>) \ub0b4\uc5d0 \uc874\uc7ac\ud558\ub294 Javascript \ucf54\ub4dc\ub294 \ubaa8\ub450 \uc0ad\uc81c\ud55c\ub2e4.\n",
      "- \uc989, CSS \ucf54\ub4dc\uc640 Javascript \ucf54\ub4dc\ub294 \ub2e8\uc5b4\uc758 \ucd1d\uc218\ub97c \uce74\uc6b4\ud2b8 \ud560 \ub54c \uace0\ub824\ud558\uc9c0 \uc54a\ub294\ub2e4.\n",
      "- \ud55c\ud3b8, \ub2e4\uc74c\uc740 URL\ub85c \uc9c0\uc815\ub41c \uc6f9\ud398\uc774\uc9c0\ub97c \ud2b9\uc815 \ubb38\uc790\uc5f4\ub85c \uac00\uc838\uc624\ub294 \ucf54\ub4dc\uc774\ub2e4."
     ]
    },
    {
     "cell_type": "code",
     "collapsed": false,
     "input": [],
     "language": "python",
     "metadata": {},
     "outputs": []
    }
   ],
   "metadata": {}
  }
 ]
}