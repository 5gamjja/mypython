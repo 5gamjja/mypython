{
 "metadata": {
  "name": "",
  "signature": "sha256:19f8b6f03bc6ec44b6a32db202d7a485e9868398ba6733e413f82adf20bbd674"
 },
 "nbformat": 3,
 "nbformat_minor": 0,
 "worksheets": [
  {
   "cells": [
    {
     "cell_type": "markdown",
     "metadata": {},
     "source": [
      "# Assignment 2\n",
      "### \ud559\ubc88 : 2009135085 \uc774\ub984 : \uc774\uacbd\ubbfc"
     ]
    },
    {
     "cell_type": "markdown",
     "metadata": {},
     "source": [
      "####1) \ub2e4\uc74c 6 \uac1c\uc758 Expression\uc5d0 \ub300\ud574 Evaluation \uacb0\uacfc \uac12\uc744 \ucd9c\ub825\ud558\uace0, \ud574\ub2f9 \uacb0\uacfc\uac00 \ub098\uc628 \uc774\uc720\uc5d0 \ub300\ud574 \uc124\uba85\ud558\uc2dc\uc624"
     ]
    },
    {
     "cell_type": "code",
     "collapsed": false,
     "input": [
      "print 1 and 2 and 3 and 4\n",
      "print 1 or 2 or 3 or 4\n",
      "print 1 and 2 or 3 and 4\n",
      "print (1 and 2) or (3 and 4)\n",
      "print 1 or 2 and 3 or 4\n",
      "print (1 or 2) and (3 or 4)"
     ],
     "language": "python",
     "metadata": {},
     "outputs": [
      {
       "output_type": "stream",
       "stream": "stdout",
       "text": [
        "4\n",
        "1\n",
        "2\n",
        "2\n",
        "1\n",
        "3\n"
       ]
      }
     ],
     "prompt_number": 13
    },
    {
     "cell_type": "markdown",
     "metadata": {},
     "source": [
      "- 1 and 2 and 3 and 4 : and \uc5f0\uc0b0\uc790\ub294 \uc67c\ucabd\uc5d0\uc11c \ubd80\ud130 \uacc4\uc0b0\uc744 \ud558\uba74\uc11c \ud310\uc815\uc758 \ucd5c\uc885\uc801\uc73c\ub85c \uae30\uc5ec\ud55c \uac12\uc744 \ub9ac\ud134\ud558\uac8c\ub41c\ub2e4.\uc989, \uc67c\ucabd\uc758 \uac12\uc774 \uac70\uc9d3\uc778 \uacbd\uc6b0 \uc67c\ucabd\uac12\uc744 \ubc14\ub85c \ub9ac\ud134\ud558\uace0 \uacc4\uc0b0\uc744 \uc885\ub8cc\ud558\uac8c\ub418\uace0, \uc67c\ucabd\uc774 \ucc38\uc778\uacbd\uc6b0\uc5d0\ub294 \uc624\ub978\ucabd\uc758 \uac12\uc744 \ub9ac\ud134\ud558\uac8c \ub41c\ub2e4. \ub530\ub77c\uc11c 1 and 2\uc5d0\uc11c 2\ub97c \ub9ac\ud134\ud558\uace0 2 and 3 \uc5d0\uc11c 3\uc744 \ub9ac\ud134\ud558\uace0 3 and 4\ub97c \ub9ac\ud134\ud558\ub294 \uc5f0\uc0b0\uacfc\uc815\uc744 \uc9c4\ud589\ud558\uba70 \uacb0\uacfc\uc801\uc73c\ub85c 4\ub97c \ub9ac\ud134\ud558\uac8c \ub41c\ub2e4.\n",
      "\n",
      "- 1 or 2 or 3 or 4 : or \uc5f0\uc0b0\uc790 \uc5ed\uc2dc \uc67c\ucabd\uc5d0\uc11c\ubd80\ud130 \uacc4\uc0b0\uc744 \ud558\uba74\uc11c \ud310\uc815\uc758 \ucd5c\uc885\uc801\uc73c\ub85c \uae30\uc5ec\ud55c \uac12\uc744 \ub9ac\ud134\ud558\uac8c\ub41c\ub2e4. \uc989, \uc67c\ucabd\uc758 \uac12\uc774 \ucc38\uc778\uacbd\uc6b0 \uc67c\ucabd\uac12\uc744 \ubc14\ub85c \ub9ac\ud134\uc744 \ud558\uace0 \ub354 \uc774\uc0c1 \uacc4\uc0b0\uc744 \ud558\uc9c0 \uc54a\ub294\ub2e4. \uc774 \uacbd\uc6b0 1 or 2 \uc5f0\uc0b0\uc5d0\uc11c 1\uc744 \ub9ac\ud134\ud558\uace0 1 or 3\uc5d0\uc11c 1\uc744 \ub9ac\ud134\ud558\uace0 1 or 4 \uc5f0\uc0b0\uc5d0\uc11c 1\ub97c \ub9ac\ud134\ud558\ub294 \uacfc\uc815\uc73c\ub85c \uc9c4\ud589\ub418\uba70 \uacb0\uacfc\uc801\uc73c\ub85c 1\uc744 \ub9ac\ud134\ud558\uac8c \ub41c\ub2e4.\n",
      "\n",
      "- 1 and 2 or 3 and 4 : and \uc640 or\uc758 \uc5f0\uc0b0\uc790\uc758 \uacbd\uc6b0 and \uc5f0\uc0b0\uc790\uac00 \uc6b0\uc120\uc21c\uc704\uc5d0 \uc788\ub2e4. \ub530\ub77c\uc11c \uc774 \uacbd\uc6b0 1 and 2 \uc640 3 and 4\uc758 \uc5f0\uc0b0\uc744 \uc9c4\ud589\ud558\uace0 \uadf8 \uac12\ub4e4\uc744 or \uc5f0\uc0b0\ud558\ub294 \uacfc\uc815\uc744 \uac00\uc9c0\uac8c \ub41c\ub2e4. 1 and 2 \uc5d0\uc11c 2\uac00 \ub9ac\ud134\uc774\ub418\uace0, 3 and 4\uc5d0\uc11c 4\uac00 \ub9ac\ud134\uc774 \ub418\uc5b4 2 or 4 \uc5f0\uc0b0\uc774 \uc9c4\ud589\ub418\uc5b4 2\ub97c \ub9ac\ud134\ud558\uac8c \ub41c\ub2e4.\n",
      "\n",
      "- (1 and 2) or (3 and 4) : \uc704 \uacfc\uc815\uacfc \uac19\uc740 \uc2dd\uc73c\ub85c \uc0ac\uc6a9\uc790\uac00 \uc774\ud574\ud558\uae30 \uc27d\uac8c \uad04\ud638\ub97c \uc774\uc6a9\ud558\uc5ec \ub098\ud0c0\ub0b8\uc2dd\uc774\ub2e4. 2\ub97c \ub9ac\ud134\ud558\uac8c \ub41c\ub2e4.\n",
      "\n",
      "- 1 or 2 and 3 or 4 : and \uc5f0\uc0b0\uc790\uac00 \uc6b0\uc120\uc21c\uc704\uac00 \ub192\uae30 \ub54c\ubb38\uc5d0 2 and 3\uc758 \uc5f0\uc0b0\uc744 \uc6b0\uc120\uc801\uc73c\ub85c \ud55c\ub2e4. 2 and 3\uc5d0\uc11c 3\uc774 \ub9ac\ud134\ub418\uace0 1 or 3 \uc5d0\uc11c 1\uc774 \ub9ac\ud134\ub418\uace0 1 or 4\uc5d0\uc11c 1\uc774 \ub9ac\ud134\ub418\ub294 \uacfc\uc815\uc73c\ub85c \uc9c4\ud589\ud558\uac8c \ub41c\ub2e4.\n",
      "\n",
      "- (1 or 2) and (3 or 4) : \uad04\ud638 \ub0b4\ubd80\uac00 \uc5f0\uc0b0\uc21c\uc704\uac00 \ub192\uae30 \ub54c\ubb38\uc5d0 1 or 2, 3 or 4\ub97c \uc5f0\uc0b0\ud558\uace0 \uadf8 \ub9ac\ud134\uac12\ub4e4\uc744 and \uc5f0\uc0b0\ud558\ub294 \uacfc\uc815\uc774 \ub41c\ub2e4. 1 or 2\uc5d0\uc11c 1\uc774 \ub9ac\ud134\ub418\uace0 3 or 4\uc5d0\uc11c 3\uc774 \ub9ac\ud134\ub418\uace0 1 and 3 \uc5f0\uc0b0\uc5d0\uc11c 3\uc744 \ub9ac\ud134\ud558\ub294 \uacfc\uc815\uc73c\ub85c \uc9c4\ud589\ub41c\ub2e4."
     ]
    },
    {
     "cell_type": "markdown",
     "metadata": {},
     "source": [
      "####2) 7/5, -7/5, -(7/5)\uc758 \uacb0\uacfc\ub97c \ud655\uc778\ud558\uace0 \uac01\uac01\uc758 \uacb0\uacfc\uac00 \uc65c \uadf8\ub807\uac8c \ub098\uc624\ub294 \uc9c0 \uc124\uba85\ud558\uc2dc\uc624"
     ]
    },
    {
     "cell_type": "code",
     "collapsed": false,
     "input": [
      "print 7/5\n",
      "print -7/5\n",
      "print -(7/5)"
     ],
     "language": "python",
     "metadata": {},
     "outputs": [
      {
       "output_type": "stream",
       "stream": "stdout",
       "text": [
        "1\n",
        "-2\n",
        "-1\n"
       ]
      }
     ],
     "prompt_number": 14
    },
    {
     "cell_type": "markdown",
     "metadata": {},
     "source": [
      "- 5\ub85c \ub098\ub204\uae30 \ub54c\ubb38\uc5d0 \ub098\uba38\uc9c0\ub294 0~4\uc758 \uac12\uc744 \ucde8\ud574\uc57c\ud55c\ub2e4.\n",
      "- 7 / 5 : 5 * 1 + 2 \uc758 \ubaab 1\uc774 \ub9ac\ud134\ub41c\ub2e4.\n",
      "- -7/ 5 : 5 * -2 + 3 \uc758 \ubaab -2\uac00 \ub9ac\ud134\ub41c\ub2e4\n",
      "- -(7/5): 1\ubc88\uc758 \uacb0\uacfc\uac12\uc5d0 \uc74c\uc218\ub97c \ucde8\ud558\ub294 -1\uc774 \ub9ac\ud134\ub41c\ub2e4."
     ]
    },
    {
     "cell_type": "markdown",
     "metadata": {},
     "source": [
      "####3) \ud0a4\ubcf4\ub4dc\ub85c \uc815\uc218\uac12\uc744 \uc785\ub825 \ubc1b\uace0 \uadf8 \uac12\uc774 \uc591\uc218\uc778\uc9c0 \uc74c\uc218\uc778\uc9c0\ub97c \ube44\ud2b8 \uc5f0\uc0b0\uc790\ub97c \uc774\uc6a9\ud558\uc5ec \ud310\ub2e8\ud558\ub294 \ud504\ub85c\uadf8\ub7a8\uc744 \uc791\uc131\ud558\uc2dc\uc624."
     ]
    },
    {
     "cell_type": "code",
     "collapsed": false,
     "input": [
      "num = int(raw_input('insert number : '))\n",
      "\n",
      "if((num >> 128)):\n",
      "    print \"\uc74c\uc218\"\n",
      "else:\n",
      "    print \"\uc591\uc218\""
     ],
     "language": "python",
     "metadata": {},
     "outputs": []
    },
    {
     "cell_type": "markdown",
     "metadata": {},
     "source": [
      "- \ube44\ud2b8\ub97c \uc624\ub978\ucabd\uc73c\ub85c \uc774\ub3d9\uc2dc, \uc624\ub978\ucabd\uc5d0\ub294 \uc591\uc218\uc778\uacbd\uc6b0\ub294  0\uc73c\ub85c \ucc44\uc6cc\uc9c0\uace0 \uc74c\uc218\ub294 1\ub85c \ucc44\uc6cc\uc9c0\uac8c \ub41c\ub2e4.\n",
      "- \uc785\ub825 \uc22b\uc790\uc758 \ubc94\uc704\uac00 (-2^127 ~ 2^ 127)\uc778 \uacbd\uc6b0, \uc591\uc218\ub294 \uc5f0\uc0b0\uacb0\uacfc\uac00 0\uc774 \ub098\uc624\uac8c \ub418\uace0, \uc74c\uc218\ub294 -1\uc774 \ub098\uc624\uac8c \ub41c\ub2e4."
     ]
    },
    {
     "cell_type": "markdown",
     "metadata": {},
     "source": [
      "####4) \ub450 \uac1c\uc758 \ub9ac\uc2a4\ud2b8\ub97c \uc778\uc790\ub85c \ubc1b\uc544\uc11c \uadf8 \ub450 \uac1c\uc758 \ub9ac\uc2a4\ud2b8\uc5d0 \ub300\ud55c '\ud569\uc9d1\ud569'\uc744 \ubc18\ud658\ud558\ub294 \ud568\uc218 list_union(lista, listb)\ub97c \uc791\uc131\ud558\uc2dc\uc624.\n",
      "- \uc778\uc790\ub85c \uc804\ub2ec\ud558\ub294 \ub9ac\uc2a4\ud2b8 2 \uac1c\uc5d0\ub294 \uc815\uc218\uac12\ub9cc \ub4e4\uc5b4\uac04\ub2e4\uace0 \uac00\uc815\ud558\uc790.\n",
      "- \ud568\uc218 \ub0b4\uc5d0\uc11c \uc0c8\ub85c\uc6b4 \ub9ac\uc2a4\ud2b8\ub97c \ub9cc\ub4e4\uc5b4 \uadf8 \ub9ac\uc2a4\ud2b8 \ub0b4\uc5d0 \uc778\uc790\ub85c \ubc1b\uc740 \ub450 \ub9ac\uc2a4\ud2b8\uc758 \ubaa8\ub4e0 \uc6d0\uc18c\ub97c \ub123\uc5b4 \ubc18\ud658\ud55c\ub2e4.\n",
      "- \ubc18\ud658\ud558\ub294 \ub9ac\uc2a4\ud2b8\uc5d0\ub294 \uc808\ub300\ub85c \uc911\ubcf5\ub41c \uc6d0\uc18c\uac00 \ub4e4\uc5b4 \uc788\uc73c\uba74 \uc548\ub41c\ub2e4 (\uc9d1\ud569\uc758 \uc870\uac74).\n",
      "- \ubc18\ud658\ud558\ub294 \ub9ac\uc2a4\ud2b8\ub294 \uc815\ub82c\uc774 \ub418\uc5b4 \uc788\uc5b4\uc57c \ud55c\ub2e4.\n",
      "- \ub2e4\uc74c\uacfc \uac19\uc740 \uc2e4\ud589 \ubc0f \ucd9c\ub825 \uacb0\uacfc\uac00 \ub3c4\ucd9c\ub418\uc5b4\uc57c \ud55c\ub2e4.\n",
      "- list_union([1, 2, 3], [1, 2, 4])\n",
      "- [1, 2, 3, 4]\n",
      "- list_union([-10, -5, 0, -1], [100, 9, 0, 9])\n",
      "- [-10, -5, -1, 0, 9, 100]\n",
      "- list_union([0, 1, 2], [0, 1, 2])\n",
      "- [0, 1, 2]\n",
      "- [\ucc38\uace0] \ub9ac\uc2a4\ud2b8(l) \ub0b4\uc5d0 \uc0c8\ub85c\uc6b4 \uc815\uc218\uac12 (\uc608\ub97c \ub4e4\uc5b4 10)\uc744 \ub123\ub294 \ubc29\ubc95\uc740 l.append(10) \uc774\ub2e4.\n",
      "- [\ucc38\uace0] \uc784\uc758\uc758 \uc815\uc218\uac12 (x)\uc774 \ub9ac\uc2a4\ud2b8 (l) \ub0b4\uc5d0 \uc874\uc7ac\ud558\ub294\uc9c0 \ud310\ub2e8\ud558\ub294 \ubc29\ubc95\uc740 x in l \uc774\ub2e4."
     ]
    },
    {
     "cell_type": "code",
     "collapsed": false,
     "input": [
      "def list_union(a, b):\n",
      "    c = a\n",
      "    for i in range(len(b)):\n",
      "       if(not(b[i] in c)):\n",
      "        c.append(b[i])\n",
      "    c.sort()\n",
      "    print c\n",
      "\n",
      "list_union([1, 2, 3], [1, 2, 4])\n",
      "list_union([-10, -5, 0, -1], [100, 9, 0, 9])\n",
      "list_union([0, 1, 2], [0, 1, 2])   "
     ],
     "language": "python",
     "metadata": {},
     "outputs": []
    },
    {
     "cell_type": "markdown",
     "metadata": {},
     "source": [
      "- \ud568\uc218\uac00 \ub450 \ub9ac\uc2a4\ud2b8\ub97c \ubc1b\uc544\uc624\uba74 \uc0c8\ub85c\uc6b4 \ubcc0\uc218 c\uc5d0 \uccab \ubc88\uc9f8 \ub9ac\uc2a4\ud2b8 \uac12\uc744 \ubaa8\ub450 \uc9d1\uc5b4\ub123\uc740 \ud6c4\n",
      "- \ub450 \ubc88\uc9f8 \ub9ac\uc2a4\ud2b8\uc758 \ubb38\uc790\uc218 \ub9cc\ud07c for\ubb38\uc744 \ub3cc\ub824 \uc870\uac74\uc744 \uac80\uc0ac\ud558\uace0 \ubcc0\uc218c\uc5d0 \uc9d1\uc5b4\ub123\ub294\ub2e4.\n",
      "- \ub9c8\uc9c0\ub9c9\uc73c\ub85c \uc815\ub82c\uc744 \ud574\uc8fc\uace0 \ucd9c\ub825\uc744 \ud574\uc900\ub2e4."
     ]
    },
    {
     "cell_type": "markdown",
     "metadata": {},
     "source": [
      "####5) \uacbd\ub85c\uc5d0 \ud574\ub2f9\ud558\ub294 \ubb38\uc790\uc5f4 1\uac1c\ub97c \uc785\ub825 \ubc1b\uc544 \uadf8 \uc548\uc5d0 \ub514\ub809\ud1a0\ub9ac \uacbd\ub85c\uba85\uacfc \ud30c\uc77c\uba85\uc744 \ubd84\ub9ac\ud558\uc5ec \ub9ac\uc2a4\ud2b8\ub85c \ubc18\ud658\ud558\ub294 \ud568\uc218 div_path(s)\ub97c \uc791\uc131\ud558\uc2dc\uc624.\n",
      "- \uc778\uc790\ub85c \uc804\ub2ec\ud558\ub294 \ubb38\uc790\uc5f4\uc740 \uacbd\ub85c\ub9cc \ub4e4\uc5b4\uac04\ub2e4\uace0 \uac00\uc815\ud55c\ub2e4.\n",
      "  - \uac01 \ub514\ub809\ud1a0\ub9ac\uc640 \ud30c\uc77c\uc744 \uad6c\ubd84\ud558\ub294 \ubb38\uc790\ub294 '/'\ub85c \uac00\uc815\ud55c\ub2e4.\n",
      "  - \ubc18\ud658\ud558\ub294 \ub9ac\uc2a4\ud2b8\uc758 \uccab\ubc88\uc9f8 \uc6d0\uc18c\ub294 \ub514\ub809\ud1a0\ub9ac\uc774\uace0 \ub450\ubc88\uc9f8 \uc6d0\uc18c\ub294 \ud30c\uc77c\uba85\uc774\ub2e4. \n",
      "  - \ub2e4\uc74c\uacfc \uac19\uc740 \uc2e4\ud589 \ubc0f \ucd9c\ub825 \uacb0\uacfc\uac00 \ub3c4\ucd9c\ub418\uc5b4\uc57c \ud55c\ub2e4.\n",
      "    - div_path('/usr/local/bin/python')\n",
      "      - ['/usr/local/bin', 'python']\n",
      "    - div_path('/home/chulsoo/test.txt')\n",
      "      - ['/home/chulsoo', 'test.txt']"
     ]
    },
    {
     "cell_type": "code",
     "collapsed": false,
     "input": [
      "def div_path(s):\n",
      "    i = s.rfind('/')\n",
      "    print \"['\" + s[:i] + \"', '\" + s[i+1:] + \"']\"\n",
      "\n",
      "div_path('/usr/local/bin/python')\n",
      "div_path('/home/chulsoo/test.txt')"
     ],
     "language": "python",
     "metadata": {},
     "outputs": []
    },
    {
     "cell_type": "markdown",
     "metadata": {},
     "source": [
      "- \ud568\uc218\uac00 \ubb38\uc790\uc5f4\uc744 \uc785\ub825\ubc1b\uc73c\uba74 \uac00\uc7a5 \uc6b0\uce21\uc5d0 \uc788\ub294 '/'\uc744 \ucc3e\uc740 \ud6c4 \uc2ac\ub77c\uc774\uc2f1 \ud558\uc5ec \ub098\ud0c0\ub0b8\ub2e4 "
     ]
    },
    {
     "cell_type": "markdown",
     "metadata": {},
     "source": [
      "####6) \uc6f9 URL\ub85c \uc9c0\uc815\ub41c \uc6f9\ud398\uc774\uc9c0\ub97c \ubb38\uc790\uc5f4\ub85c \uac00\uc838\uc640 1) \ubaa8\ub4e0 HTML \ud0dc\uadf8 \ubc0f CSS\uc640 Javascript\ub97c \uc81c\uc678\ud55c \uc21c\uc218 \ud14d\uc2a4\ud2b8\ub9cc\uc744 \ucd9c\ub825\ud558\uace0, 2) \uadf8 \uc21c\uc218 \ud14d\uc2a4\ud2b8 \uc548\uc5d0 \uc874\uc7ac\ud558\ub294 \ub2e8\uc5b4\uac00 \ucd1d \uba87\uac1c\uc778\uc9c0 \ucd9c\ub825\ud558\ub294 \ud504\ub85c\uadf8\ub7a8\uc744 \uc791\uc131\ud558\uc2dc\uc624.\n",
      "\n",
      "  - HTML \ud0dc\uadf8\ub294 \ub2e4\uc74c \uc870\uac74\uc744 \uac00\uc9c0\ub294 \uac83\uc774\ub2e4.\n",
      "    - < \ub85c \uc2dc\uc791\ud558\uc5ec >\ub85c \ub05d\ub098\uac70\ub098 />\ub85c \ub05d\ub09c\ub2e4.\n",
      "    - </ \ub85c \uc2dc\uc791\ud558\uc5ec > \ub85c \ub05d\ub09c\ub2e4.\n",
      "  - HTML \ubb38\uc11c \ub0b4\uc5d0 \uc874\uc7ac\ud558\ub294 CSS \uc0ad\uc81c\uc2dc \ucc38\uace0\ud560 \uc0ac\ud56d\n",
      "    - &lt;style&gt; \ud639\uc740 &lt;STYLE&gt;\ub85c \uc2dc\uc791\ud55c\ub2e4.\n",
      "    - &lt;/style&gt; \ud639\uc740 &lt;/STYLE&gt;\ub85c \ub05d\ub09c\ub2e4.\n",
      "    - &lt;style&gt; (\ud639\uc740 &lt;STYLE&gt;)\uacfc &lt;/style&gt; (\ud639\uc740 &lt;/STYLE&gt;) \ub0b4\uc5d0 \uc874\uc7ac\ud558\ub294 CSS \ucf54\ub4dc\ub294 \ubaa8\ub450 \uc0ad\uc81c\ud55c\ub2e4.\n",
      "  - HTML \ubb38\uc11c \ub0b4\uc5d0 \uc874\uc7ac\ud558\ub294 Javascript \uc0ad\uc81c\uc2dc \ucc38\uace0\ud560 \uc0ac\ud56d\n",
      "    - &lt;script&gt; \ud639\uc740 &lt;SCRIPT&gt;\ub85c \uc2dc\uc791\ud55c\ub2e4.\n",
      "    - &lt;/script&gt; \ud639\uc740 &lt;/SCRIPT&gt;\ub85c \ub05d\ub09c\ub2e4.\n",
      "    - &lt;script&gt; (\ud639\uc740 &lt;SCRIPT&gt;)\uacfc &lt;/script&gt; (\ud639\uc740 &lt;/SCRIPT&gt;) \ub0b4\uc5d0 \uc874\uc7ac\ud558\ub294 Javascript \ucf54\ub4dc\ub294 \ubaa8\ub450 \uc0ad\uc81c\ud55c\ub2e4. \n",
      "  - \uc989, CSS \ucf54\ub4dc\uc640 Javascript \ucf54\ub4dc\ub294 \ub2e8\uc5b4\uc758 \ucd1d\uc218\ub97c \uce74\uc6b4\ud2b8 \ud560 \ub54c \uace0\ub824\ud558\uc9c0 \uc54a\ub294\ub2e4.\n",
      "  - \ub2e8\uc5b4\ub97c \ub098\ub204\ub294 \uae30\uc900\uc740 \uc624\ub85c\uc9c0 \uacf5\ubc31\ubb38\uc790\uc774\ub2e4.\n",
      "    - \ub2e4\uc74c \ucf54\ub4dc \ud65c\uc6a9\n",
      "      - import string\n",
      "      - c in string.whitespace"
     ]
    },
    {
     "cell_type": "code",
     "collapsed": false,
     "input": [
      "import urllib\n",
      "\n",
      "def clear_doc(s):\n",
      "    c = remove_html_tags(s).split()\n",
      "\n",
      "    for x in range (len(c)):\n",
      "        print c[x],\n",
      "    print '\\n\\n\ub2e8\uc5b4\uc218 : %d' % (len(c))\n",
      "    \n",
      "def remove_html_tags(s):\n",
      "    while True:\n",
      "        js_tag = False\n",
      "        css_tag = False\n",
      "        html_tag = False\n",
      "        html_tag2 = False\n",
      "        \n",
      "        if ((s.find('<script') != -1) or (s.find('<SCRIPT') != -1)):\n",
      "            a = s.find('<script')\n",
      "            b = s.find('<SCRIPT')\n",
      "            if(a != -1 and b != -1):\n",
      "                start = min(a, b)\n",
      "            elif(a == -1):\n",
      "                start = b\n",
      "            else:\n",
      "                start = a\n",
      "            js_tag = True\n",
      "        if js_tag and ((s.find('/script>') != -1) or (s.find('/SCRIPT>') != -1)):\n",
      "            a = s.find('/script>')\n",
      "            b = s.find('/SCRIPT>')\n",
      "            if(a != -1 and b != -1):\n",
      "                end = min(a, b)\n",
      "            elif(a == -1):\n",
      "                end = b\n",
      "            else:\n",
      "                end = a\n",
      "                \n",
      "        if (not js_tag) and ((s.find('<style') != -1) or (s.find('<STYLE') != -1)):\n",
      "            a = s.find('<style')\n",
      "            b = s.find('<STYLE')\n",
      "            if(a != -1 and b != -1):\n",
      "                start = min(a, b)\n",
      "            elif(a == -1):\n",
      "                start = b\n",
      "            else:\n",
      "                start = a\n",
      "            css_tag = True\n",
      "        if css_tag and ((s.find('/style>') != -1) or (s.find('/STYLE>') != -1)):\n",
      "            a = s.find('/style>')\n",
      "            b = end = s.find('/STYLE>')\n",
      "            if(a != -1 and b != -1):\n",
      "                end = min(a, b)\n",
      "            elif(a == -1):\n",
      "                end = b\n",
      "            else:\n",
      "                end = a\n",
      "        \n",
      "        if (not js_tag) and (not css_tag) and ((s.find('<') != -1) or (s.find('</') != -1)):\n",
      "            a = s.find('<')\n",
      "            b = s.find('</')\n",
      "            if(a != -1 and b != -1):\n",
      "                start = min(a, b)\n",
      "            elif(a == -1):\n",
      "                start = b\n",
      "            else:\n",
      "                start = a\n",
      "            html_tag = True\n",
      "        if html_tag and ((s.find('>') != -1) or (s.find('/>') != -1)):\n",
      "            a = s.find('>')\n",
      "            b = end = s.find('/>')\n",
      "            if(a != -1 and b != -1):\n",
      "                if (a < b):\n",
      "                    end = a\n",
      "                else:\n",
      "                    end = b\n",
      "                    html_tag2 = True;\n",
      "            elif(a == -1):\n",
      "                end = b\n",
      "                html_tag2 = True;\n",
      "            else:\n",
      "                end = a          \n",
      "                          \n",
      "        if (not js_tag) and (not css_tag) and (not html_tag):\n",
      "            return s\n",
      "     \n",
      "        if js_tag:    \n",
      "            s = s[:start] +\" \"+ s[end+8:] \n",
      "        elif css_tag:    \n",
      "            s = s[:start] +\" \"+ s[end+7:]\n",
      "        elif html_tag and (not html_tag2):\n",
      "            s = s[:start] +\" \"+ s[end+1:] \n",
      "        else:\n",
      "            s = s[:start] +\" \"+ s[end+2:]\n",
      "\n",
      "s = urllib.urlopen('http://cse.koreatech.ac.kr').read()\n",
      "clear_doc(s)"
     ],
     "language": "python",
     "metadata": {},
     "outputs": [
      {
       "output_type": "stream",
       "stream": "stdout",
       "text": [
        "\ucef4\ud4e8\ud130\uacf5\ud559\ubd80 \ud648\ud398\uc774\uc9c0 \ucef4\ud4e8\ud130\uacf5\ud559\ubd80 : \uad50\uc721\ubaa9\ud45c : \ucc3e\uc544\uc624\uc2dc\ub294\uae38 : \uc878\uc5c5\uc791\ud488 : \uacf5\ud559\uc124\uacc4 : \ucde8\uc5c5\uc870\uc0ac2014 : \ucde8\uc5c5\uc870\uc0ac2013 \uad50\uc218\uc9c4 : \ud559\uc0dd\ud68c \uc878\uc5c5\uc774\uc218\uc694\uac74 : \ucef4\ud4e8\ud130S/W : \ucef4\ud4e8\ud130H/W : \ucef4\ud4e8\ud130\uc2a4\ub9c8\ud2b8IT : \ucef4\ud4e8\ud130\uc2dc\uc2a4\ud15c\uc751\uc6a9 : \uc7a5\ud559\uc81c\ub3c4 \ubaa8\uc9d1\uc694\uac15 : \uc785\uc2dcQ&A \uacf5\uc9c0\uc0ac\ud56d : \uc790\uc720\uac8c\uc2dc\ud310 : \uc775\uba85\uac8c\uc2dc\ud310 : \ucde8\uc5c5\uac8c\uc2dc\ud310 : \ub3d9\ubb38\uac8c\uc2dc\ud310 : \uc0ac\uc9c4\uac8c\uc2dc\ud310 : \ud559\ubd80\uc0ac\uc9c4\uac94\ub7ec\ub9ac : \uace0\uc7a5\uc2e0\uace0\uac8c\uc2dc\ud310 \uac15\uc758\uc790\ub8cc\uc2e4 : \uc77c\ubc18\uc790\ub8cc\uc2e4 : \uc11c\uc2dd\ubc0f\uc591\uc2dd\uc790\ub8cc\uc2e4 \ub300\ud559\uc6d0\uc18c\uac1c : \uc5f0\uad6c\uc2e4\uc18c\uac1c : \ub300\ud559\uc6d0\uac8c\uc2dc\ud310 \uacf5\ud559\uc778\uc99d\uc548\ub0b4 : \uacf5\ud559\uc778\uc99d\uac8c\uc2dc\ud310 : C++ 2014/03/27 \uacf5\ud559\uc124\uacc4 \ud3ec\uc2a4\ud130\ubc1c\ud45c\uacbd\uc9c4\ub300\ud68c \ud22c\ud45c... 2013/12/10 2013\ub144 \uc878\uc5c5\uc791\ud488 \ube0c\ub85c\uc154 2013/10/07 \uc81c 4\ub300 \ucef4\ud4e8\ud130\uacf5\ud559\ubd80 \ud559\ud68c\uc7a5/\ubd80\ud559... 2012/11/05 \ub514\uc9c0\ud138 \uc2dc\uc2a4\ud15c \uc124\uacc41- [\uc2e4\uc2b5-\uc870\uad50] 2012/09/09 2015\ub144 \uc0c1\ubc18\uae30 \uc0bc\uc131 \uc18c\ud504\ud2b8\uc6e8\uc5b4 ... 2014/09/25 \uacfc \uc7a0\ubc14 \ubd88\ucd9c\uacf5\uc9c0\uc785\ub2c8\ub2e4!! 2014/09/23 9/18 NHN Entertainment \ucea0\ud37c\uc2a4 ... 2014/09/17 \ucef4\ud4e8\ud130\uacf5\ud559\ubd80 \ud559\uc220 \uc18c\ubaa8\uc784 \uc528\uc557(S... 2014/09/07 \ud39c\ud0c0\uc2dc\ud050\ub9ac\ud2f0\uc2dc\uc2a4\ud15c \ub300\ud559\uc0dd \ub9c8\ucf00... 2014/09/05 (\uc8fc)\uc5e0\ud504\ub860\ud2f0\uc5b4 \uc2dc\uc2a4\ud15c \uc6b4\uc601/\uac1c\ubc1c ... 2014/09/15 \ucef4\ud4e8\ud130\uacf5\ud559\ubd80 \ud559\ubd80\uc0ac\ubb34\uc2e4 \uccad\ub144\uc778\ud134... 2014/08/06 (\uc8fc)\uc2e0\uc9c4\uc5e0\ud14d 2014/06/16 \uc5d1\uc2dc\ucf58 \uae30\uc220\uc601\uc5c5 \ucc44\uc6a9. - \uaf2d \uc9c0\ub3c4... 2014/04/18 \uc628\ub77c\uc778\ud3c9\uc0dd\uad50\uc721\uc6d0 \uc774\ub7ec\ub2dd \uc0ac\uc5c5 \uacf5... 2014/04/16 2014\ub144 \uc878\uc5c5... \uae40\uc7ac\uc6b0\ucc98\uc7a5... 2014\ub144 \uc2a4\uc2b9... [\ud2b9\uc131\ud654\uc0ac\uc5c5\ub2e8]\ud29c\ud130\ub9c1 \ud504\ub85c\uadf8\ub7a8 ... 2014/09/29 (\uacf5\uc9c0)2014\ub144 \uc878\uc5c5\uc791\ud488 \uc601\uc5b4\ubc1c\ud45c ... 2014/09/25 [\ud2b9\uc131\ud654\uc0ac\uc5c5\ub2e8] IT\uacbd\uc9c4\ub300\ud68c \ucc38\uac00\uc9c0\uc6d0 2014/09/25 \uae34\uae09] \uc878\uc5c5\uc791\ud488\ube0c\ub85c\uc154 \uac80\ud1a0 2014/09/25 \ub808\ub4dc\ud587 \ucc4c\ub9b0\uc9c0 \uc548\ub0b4 2014/09/23 [\ud2b9\uc131\ud654\uc0ac\uc5c5\ub2e8] \ud574\uc678(\uc77c\ubcf8) \uae30\uc220... 2014/09/23 [\ud2b9\uc131\ud654\uc0ac\uc5c5\ub2e8]\ud29c\ud130\ub9c1 \ubaa8\uc9d1\uacf5\uace0(... 2014/09/22 KT, \uba64\ubc84\uc2ed \uac15\ud654\ud55c \uc0c1\ud488 \ud328\ud0a4\uc9c0 ... 2014-09-29 [IP\ub178\ubbf9\uc2a4]MS, \ubaa8\ubc14\uc77c \uc804\uae30\ud1b5\uc2e0 ... 2014-09-29 \ubbf8\ub798\ubd80, \ub3c4\ub85c\uc815\ubcf4\uac10\uc9c0\ub808\uc774\ub354\uc6a9 34... 2014-09-29 \uc18c\ub2c8\u00b7\ud654\uc6e8\uc774 \uc678\uc0b0\ud3f0 \ub300\uacf5\uc2b5\u00b7\u00b7\u00b7\ub2e8... 2014-09-29 \ud1b5\uc2e0\uc0ac \uccab \ud575\uc2ec\uae30\ub2a5 NFV \uad6c\ud604 \ub178... 2014-09-29 \n",
        "\n",
        "\ub2e8\uc5b4\uc218 : 189\n"
       ]
      }
     ],
     "prompt_number": 16
    },
    {
     "cell_type": "markdown",
     "metadata": {},
     "source": [
      "- HTML \ud0dc\uadf8\ub97c \uc9c0\uc6b0\ub294 \uacbd\uc6b0\ub294 Javascript, CSS\uc758 \ub0b4\uc6a9\uc744 \uc548\uc9c0\uc6b0\uace0 \ud0dc\uadf8\ub9cc \uc9c0\uc6b0\ub294 \uc5ed\ud65c\uc744 \ud560 \uc218 \uc788\uc73c\ubbc0\ub85c \uc6b0\uc120\uc21c\uc704\ub97c \uac00\uc7a5 \ub098\uc911\uc73c\ub85c \ud558\uc600\uc2b5\ub2c8\ub2e4.\n",
      "- find\ub294 \ud574\ub2f9 \uae00\uc790\uc758 \uccab \uc704\uce58\ub97c \ubc18\ud658\ud574\uc900\ub2e4. \ub530\ub77c\uc11c \uc2ac\ub77c\uc774\uc2f1\uc744 /script>, /style>, >, /> 4\uac1c\ub85c \uad6c\ubd84\ud558\uc600\uc2b5\ub2c8\ub2e4. \n",
      "- \ud0dc\uadf8\uac00 \ub05d\ub098\uae30\uc804\uc5d0 \uc0c8\ub85c\uc6b4 \ud0dc\uadf8\uac00 \uc2dc\uc791\ub418\ub294 \uacbd\uc6b0 \uc624\ub958\uac00 \ubc1c\uc0dd\ud569\ub2c8\ub2e4.\n",
      "\n",
      "\n",
      "\n",
      "- \uc544\ub798\uc758 \ub0b4\uc6a9\uc740 \ud574\ub2f9 \uacbd\uc6b0\uc758 \uc608\uc2dc\uc640 \uc18c\uc2a4\uc785\ub2c8\ub2e4.\n",
      "- link.koreatech.ac.kr \n",
      "    - &lt;!--&lt;img src=\"images/linkworkshop2.jpg\" alt=\"LINK 9\ufffd\ufffd \ufffd\ufffd\ufffd\ufffd\ufffd\ufffd \ufffd\ufffd\u0169\ufffd\ufffd\"/&gt;&lt;br/&gt;--&gt;\n",
      "\n",
      "\n",
      "- www.python.org\n",
      "    - &lt;script&gt;window.jQuery || document.write('&lt;script src=\"/static/js/libs/jquery-1.8.2.min.js\"&gt;&lt;\\/script>')&lt;/script&gt;"
     ]
    },
    {
     "cell_type": "markdown",
     "metadata": {},
     "source": [
      "\n",
      "### \ub290\ub080\uc810 : 6\ubc88 \ubb38\uc81c\ub97c \ud480\uba74\uc11c \uc704\uc758 \uc624\ub958\uc5d0 \ud574\ub2f9\ud558\ub294 \uacbd\uc6b0\ub97c \uc0dd\uac01\ud558\uc9c0 \ubabb\ud558\uace0 \uc18c\uc2a4\ub97c \uad6c\ud604\ud558\uc600\ub294\ub370 \uc2a4\ud0dd\uc744 \uc774\uc6a9\ud558\ub294 \ud615\ud0dc\ub85c \uad6c\ud604\ud558\uc600\ub2e4\uba74 \uae30\uc874\uc758 \uc18c\uc2a4\uc5d0 \ube44\ud574 \ubc18\ubcf5\ud69f\uc218\ub3c4 \uc904\uc77c \uc218 \uc788\uace0 \uc624\ub958\ub3c4 \uc5c6\uc568 \uac70\ub77c\uace0 \uc0dd\uac01\ub429\ub2c8\ub2e4."
     ]
    }
   ],
   "metadata": {}
  }
 ]
}