{
 "metadata": {
  "name": "",
  "signature": "sha256:4dbdc6c42c46f96d50fe8cb9620083d6241840bee973ff336844488e9514425a"
 },
 "nbformat": 3,
 "nbformat_minor": 0,
 "worksheets": [
  {
   "cells": [
    {
     "cell_type": "markdown",
     "metadata": {},
     "source": [
      "# Assignment 4\n",
      "### \ud559\ubc88 : 2009135085 \uc774\ub984 : \uc774\uacbd\ubbfc"
     ]
    },
    {
     "cell_type": "markdown",
     "metadata": {},
     "source": [
      "####[1\ubc88 \ubb38\uc81c] \ud30c\uc77c s.txt \ub0b4\uc758 \ub2e4\uc74c \ub0b4\uc6a9\uacfc \ud568\uaed8 \uc544\ub798 \ubb38\uc81c\uc758 \ucf54\ub4dc\ub97c \uc81c\uc2dc\ud558\uc2dc\uc624. \n",
      ">pig ham<br/>\n",
      ">cat dog<br/>\n",
      ">ham bird<br/>\n",
      ">dog pig<br/>"
     ]
    },
    {
     "cell_type": "markdown",
     "metadata": {},
     "source": [
      "&nbsp;&nbsp;&nbsp;&nbsp;&nbsp;&nbsp;&nbsp;&nbsp;&nbsp;&nbsp;  - 1) \ud30c\uc77c s.txt\uc744 \uc77d\uc5b4\uc11c \uac01 \ub77c\uc778\ub4e4\uc5d0 \uc788\ub294 \uccab \ubc88\uc9f8 \ub2e8\uc5b4(\ubb38\uc790\uc5f4)\ub4e4\uc744 \uae30\uc900\uc73c\ub85c \ub77c\uc778\ubcc4 \uc815\ub82c\ud6c4 \ud30c\uc77c s1.txt\uc5d0 \uadf8 \uacb0\uacfc\ub97c \uae30\ub85d\ud558\ub294 \ucf54\ub4dc\ub97c \uc791\uc131\ud558\uc2dc\uc624. \uc989, \ud504\ub85c\uadf8\ub7a8 \uc218\ud589 \ud6c4 s1.txt\uc5d0 \uc788\ub294 \ud30c\uc77c \ub0b4\uc6a9\uc740 \ub2e4\uc74c\uacfc \uac19\ub2e4.\n",
      ">cat dog<br/>\n",
      ">dog pig<br/>\n",
      ">ham bird<br/>\n",
      ">pig ham<br/>"
     ]
    },
    {
     "cell_type": "code",
     "collapsed": false,
     "input": [
      "import os\n",
      "\n",
      "f1 = open('s.txt', 'r')\n",
      "f2 = open('s1.txt', 'w')\n",
      " \n",
      "l = f1.read().split('\\n')\n",
      "l.sort()\n",
      "a = '\\n'.join(l)\n",
      "print a\n",
      "f2.write(a)\n",
      "\n",
      "f1.close()\n",
      "f2.close()"
     ],
     "language": "python",
     "metadata": {},
     "outputs": [
      {
       "output_type": "stream",
       "stream": "stdout",
       "text": [
        "cat dog\n",
        "dog pig\n",
        "ham bird\n",
        "pig ham\n"
       ]
      }
     ],
     "prompt_number": 5
    },
    {
     "cell_type": "markdown",
     "metadata": {},
     "source": [
      "- s.txt\ub97c \uc77d\uae30\ubaa8\ub4dc\ub85c \uc5f4\uc5b4 f1\uc5d0 \uc800\uc7a5\ud558\uace0 s1.txt\ub97c \uc4f0\uae30\ubaa8\ub4dc\ub85c \uc5f4\uc5b4 f2\uc5d0 \uc800\uc7a5\ud55c\ub2e4.\n",
      "- f1\uc744 read()\ud558\uc5ec \ubb38\uc790\uc5f4\uc744 \uc77d\uc5b4\ub0b4\uace0 split('\\n')\uc744 \uc774\uc6a9\ud558\uc5ec \ub9ac\uc2a4\ud2b8\ub85c \ub9cc\ub4e4\uc5b4 l\uc5d0 \uc800\uc7a5\ud55c\ub2e4.\n",
      "- l\uc744 \uc815\ub82c\ud558\uace0 join\uc744 \uc774\uc6a9\ud558\uc5ec \ubb38\uc790\uc5f4\ub85c \ub9cc\ub4e4\uc5b4 a\uc5d0 \uc800\uc7a5\ud55c\ub2e4.\n",
      "- a\uc5d0 \uc800\uc7a5\ub41c \ubb38\uc790\uc5f4\uc744 \ud30c\uc77c s1\uc5d0 \uae30\ub85d\ud55c \ud6c4 close()\ub97c \ud638\ucd9c\ud558\uc5ec \ud30c\uc77c\uc744 \ub2eb\uace0 \uc885\ub8cc\ud55c\ub2e4."
     ]
    },
    {
     "cell_type": "markdown",
     "metadata": {},
     "source": [
      "&nbsp;&nbsp;&nbsp;&nbsp;&nbsp;&nbsp;&nbsp;&nbsp;&nbsp;&nbsp;  - 2) \ud30c\uc77c s.txt\uc744 \uc77d\uc5b4\uc11c \uac01 \ub77c\uc778\ub4e4\uc5d0 \uc788\ub294 \ub450 \ubc88\uc9f8 \ub2e8\uc5b4(\ubb38\uc790\uc5f4)\ub4e4\uc744 \uae30\uc900\uc73c\ub85c \ub77c\uc778\ubcc4 \uc815\ub82c\ud6c4 \ud30c\uc77c s2.txt\uc5d0 \uadf8 \uacb0\uacfc\ub97c \uae30\ub85d\ud558\ub294 \ucf54\ub4dc\ub97c \uc791\uc131\ud558\uc2dc\uc624. \uc989, \ud504\ub85c\uadf8\ub7a8 \uc218\ud589 \ud6c4 s2.txt\uc5d0 \uc788\ub294 \ud30c\uc77c \ub0b4\uc6a9\uc740 \ub2e4\uc74c\uacfc \uac19\ub2e4.\n",
      ">ham bird<br/>\n",
      ">cat dog<br/>\n",
      ">pig ham<br/>\n",
      ">dog pig<br/>"
     ]
    },
    {
     "cell_type": "code",
     "collapsed": false,
     "input": [
      "import os\n",
      "\n",
      "def mycmp(a1, a2):\n",
      "    c1 = a1.find(' ')\n",
      "    c2 = a2.find(' ')\n",
      "    a1 = a1[c1:]\n",
      "    a2 = a2[c2:]\n",
      "    \n",
      "    return cmp(a1, a2)\n",
      "\n",
      "f1 = open('s.txt', 'r')\n",
      "f2 = open('s2.txt', 'w')\n",
      " \n",
      "l = f1.read().split('\\n')\n",
      "l.sort(mycmp)\n",
      "a = '\\n'.join(l)\n",
      "\n",
      "print a\n",
      "f2.write(a)\n",
      "\n",
      "f1.close()\n",
      "f2.close()"
     ],
     "language": "python",
     "metadata": {},
     "outputs": [
      {
       "output_type": "stream",
       "stream": "stdout",
       "text": [
        "ham bird\n",
        "cat dog\n",
        "pig ham\n",
        "dog pig\n"
       ]
      }
     ],
     "prompt_number": 2
    },
    {
     "cell_type": "markdown",
     "metadata": {},
     "source": [
      "- s.txt\ub97c \uc77d\uae30\ubaa8\ub4dc\ub85c \uc5f4\uc5b4 f1\uc5d0 \uc800\uc7a5\ud558\uace0 s2.txt\ub97c \uc4f0\uae30\ubaa8\ub4dc\ub85c \uc5f4\uc5b4 f2\uc5d0 \uc800\uc7a5\ud55c\ub2e4.\n",
      "- f1\uc744 read()\ud558\uc5ec \ubb38\uc790\uc5f4\uc744 \uc77d\uc5b4\ub0b4\uace0 split('\\n')\uc744 \uc774\uc6a9\ud558\uc5ec \ub9ac\uc2a4\ud2b8\ub85c \ub9cc\ub4e4\uc5b4 l\uc5d0 \uc800\uc7a5\ud55c\ub2e4.\n",
      "- l\uc744 \uc704\uc5d0 \uc815\uc758\ud55c mycmp\ub97c \uc774\uc6a9\ud558\uc5ec \uc815\ub82c\ud558\uace0 join\uc744 \uc774\uc6a9\ud558\uc5ec \ubb38\uc790\uc5f4\ub85c \ub9cc\ub4e4\uc5b4 a\uc5d0 \uc800\uc7a5\ud55c\ub2e4.\n",
      "- a\uc5d0 \uc800\uc7a5\ub41c \ubb38\uc790\uc5f4\uc744 \ud30c\uc77c s2\uc5d0 \uae30\ub85d\ud55c \ud6c4 close()\ub97c \ud638\ucd9c\ud558\uc5ec \ud30c\uc77c\uc744 \ub2eb\uace0 \uc885\ub8cc\ud55c\ub2e4.\n",
      "- mycmp\ub294 find\uc640 \uc2ac\ub77c\uc774\uc2f1\uc744 \uc774\uc6a9\ud558\uc5ec \uc785\ub825\ub41c \ub9ac\uc2a4\ud2b8\uc5d0 \uc800\uc7a5\ub41c \ubb38\uc790\uc5f4\uc758 \ub450 \ubc88\uc9f8 \ub2e8\uc5b4\ub97c \uae30\uc900\uc73c\ub85c \uc815\ub82c\ud558\uac8c \ud574\uc900\ub2e4.  "
     ]
    },
    {
     "cell_type": "markdown",
     "metadata": {},
     "source": [
      "&nbsp;&nbsp;&nbsp;&nbsp;&nbsp;&nbsp;&nbsp;&nbsp;&nbsp;&nbsp;  - 3) \ud30c\uc77c s.txt\uc744 \uc77d\uc5b4\uc11c \uac01 \ub77c\uc778\ub4e4\uc5d0 \uc788\ub294 \ubaa8\ub4e0 \ub2e8\uc5b4\ub4e4\uc744 \uc21c\ucc28\uc801\uc73c\ub85c \ub2e4\uc2dc \ub098\uc5f4\ud558\ub418 \uac01 \ub77c\uc778\uc5d0 \uc138 \uac1c\uc758 \ub2e8\uc5b4\ub4e4\uc774 \uc624\ub3c4\ub85d \ud558\uc5ec s3.txt\uc5d0 \uae30\ub85d\ud558\ub294 \ucf54\ub4dc\ub97c \uc791\uc131\ud558\uc2dc\uc624. \uc989, \ud504\ub85c\uadf8\ub7a8 \uc218\ud589 \ud6c4 s3.txt\uc5d0 \uc788\ub294 \ud30c\uc77c \ub0b4\uc6a9\uc740 \ub2e4\uc74c\uacfc \uac19\ub2e4.\n",
      ">pig ham cat<br/>\n",
      ">dog ham bird<br/>\n",
      ">dog pig<br/>"
     ]
    },
    {
     "cell_type": "code",
     "collapsed": false,
     "input": [
      "import os\n",
      "\n",
      "f1 = open('s.txt', 'r')\n",
      "f2 = open('s3.txt', 'w')\n",
      " \n",
      "a = ' '.join(f1.read().split('\\n'))\n",
      "l = []\n",
      "\n",
      "offset = 0\n",
      "count = 0\n",
      "\n",
      "while(1):\n",
      "    if a.find(' ', offset) == -1:\n",
      "        if(len(a) != 0):\n",
      "            l.append(a)\n",
      "        break\n",
      "    if a.find(' ', offset) != -1:\n",
      "        offset = a.find(' ', offset) + 1\n",
      "        count += 1\n",
      "    if count == 3:\n",
      "        l.append(a[:offset-1])\n",
      "        a = a[offset:]\n",
      "        offset = 0\n",
      "        count = 0\n",
      "\n",
      "a = '\\n'.join(l)\n",
      "print a\n",
      "\n",
      "f2.write(a)\n",
      "f1.close()\n",
      "f2.close()"
     ],
     "language": "python",
     "metadata": {},
     "outputs": [
      {
       "output_type": "stream",
       "stream": "stdout",
       "text": [
        "pig ham cat\n",
        "dog ham bird\n",
        "dog pig\n"
       ]
      }
     ],
     "prompt_number": 1
    },
    {
     "cell_type": "markdown",
     "metadata": {},
     "source": [
      "- s.txt\ub97c \uc77d\uae30\ubaa8\ub4dc\ub85c \uc5f4\uc5b4 f1\uc5d0 \uc800\uc7a5\ud558\uace0 s3.txt\ub97c \uc4f0\uae30\ubaa8\ub4dc\ub85c \uc5f4\uc5b4 f2\uc5d0 \uc800\uc7a5\ud55c\ub2e4.\n",
      "- f1\uc744 read()\ud558\uc5ec \ubb38\uc790\uc5f4\uc744 \uc77d\uc5b4\ub0b4\uace0 split('\\n')\uc744 \uc774\uc6a9\ud558\uc5ec \ub9ac\uc2a4\ud2b8\ub97c \ub9cc\ub4e4\uace0 \uadf8\uac83\uc744 join\uc744 \uc774\uc6a9\ud558\uc5ec \ud55c \uc904\ub85c \ub41c \ubb38\uc790\uc5f4\uc744 \ub9cc\ub4e4\uc5b4 a\uc5d0 \uc800\uc7a5\ud55c\ub2e4.\n",
      "- \uc870\uac74\ubb38\uc744 \uc774\uc6a9\ud558\uc5ec \ube48\uce78\uc758 \uac2f\uc218\ub97c \uc138\uace0 \uc138\ubc88\uc9f8 \ube48\uce78\uc744 \ucc3e\uc73c\uba74 \ubb38\uc790\uc5f4\uc744 \uc798\ub77c \ub9ac\uc2a4\ud2b8 l\uc5d0 \ucd94\uac00\ud55c\ub2e4.\n",
      "- \uc704 \uc791\uc5c5\uc744 \ubc18\ubcf5\ubb38\uc744 \uc774\uc6a9\ud558\uc5ec \uc218\ud589\ud55c\ub2e4.\n",
      "- \ub9ac\uc2a4\ud2b8l\uc744 join\uc744 \uc774\uc6a9\ud558\uc5ec \ubb38\uc790\uc5f4\ub85c \ub9cc\ub4e4\uc5b4 a\uc5d0 \uc800\uc7a5\ud55c\ub2e4.\n",
      "- a\uc5d0 \uc800\uc7a5\ub41c \ubb38\uc790\uc5f4\uc744 \ud30c\uc77c s3\uc5d0 \uae30\ub85d\ud55c \ud6c4 close()\ub97c \ud638\ucd9c\ud558\uc5ec \ud30c\uc77c\uc744 \ub2eb\uace0 \uc885\ub8cc\ud55c\ub2e4."
     ]
    },
    {
     "cell_type": "markdown",
     "metadata": {},
     "source": [
      "####[2\ubc88 \ubb38\uc81c] \ub2e4\uc74c\uacfc \uac19\uc740 \uc870\uac74\ub4e4\uc744 \ucc38\uace0\ud558\uc5ec \ud68c\uc6d0 \uac00\uc785 \ubc0f \ub85c\uadf8\uc778 \ud504\ub85c\uadf8\ub7a8\uc744 \uc791\uc131\ud558\uc2dc\uc624. \n",
      "  - 1) \ud504\ub85c\uadf8\ub7a8 \uc2dc\uc791 \ud6c4 \ub2e4\uc74c\uacfc \uac19\uc740 \uba54\uc2dc\uc9c0\uac00 \ucd9c\ub825\ub418\uc5b4 1, 2, 3 \uc911 \ud558\ub098\uc758 \uac12\uc744 \uc785\ub825 \ubc1b\ub3c4\ub85d \ud55c\ub2e4.\n",
      ">Welcome to Our Service<br/>\n",
      ">1. Sign Up<br/>\n",
      ">2. Sign In<br/>\n",
      ">3. Quit<br/>\n",
      "  - 2) 1\uc744 \uc120\ud0dd\ud558\uba74 ID, Password, Name, School\uc758 4\uac00\uc9c0 \uc815\ubcf4\ub97c \uc785\ub825\ubc1b\uc544 \ud30c\uc77c\uc5d0 \uc800\uc7a5\ud558\ub294 \ud504\ub85c\uadf8\ub7a8\uc744 \uc791\uc131\ud55c\ub2e4.\n",
      "    - 2-1) \uc785\ub825\ub41c \ub0b4\uc6a9\uc740 access \ub77c\ub294 \uc774\ub984\uc758 \ud30c\uc77c \ub0b4\uc5d0 \uc800\uc7a5\ub41c\ub2e4. \n",
      "    - 2-2) access \ud30c\uc77c\uc758 \uac01 \ub77c\uc778\uc5d0\ub294 \uac00\uc785\ub41c \ud68c\uc6d0 \uac01\uac01\uc758 \uc815\ubcf4\uac00 \"id: password, name, school\" \ud615\ud0dc\ub85c \uc800\uc7a5\ub41c\ub2e4.\n",
      "    - 2-3) \uc989, \uac00\uc785 \ud68c\uc6d0\uc774 10\uba85\uc774\uba74 access \ud30c\uc77c \ub0b4\uc5d0 \ub77c\uc778 \uc218\ub3c4 \uc815\ud655\ud788 10\uc774\ub2e4.\n",
      "    - 2-4) \uc554\ud638\ud654 \ubc29\uc2dd\uc740 sha \ubaa8\ub4c8\uc744 \ud65c\uc6a9\ud55c\ub2e4. sha \ubaa8\ub4c8 \ud65c\uc6a9 \ubc29\ubc95\uc740 \ubcf8 \ubb38\uc81c\uc758 \ub9c8\uc9c0\ub9c9\uc5d0 \uc81c\uc2dc\ub41c sha \ud65c\uc6a9 \uc608\ub97c \ucc38\uace0\ud55c\ub2e4.\n",
      "      - \uc989, access \ud30c\uc77c \ub0b4\uc5d0 password \uc815\ubcf4\ub294 \uc554\ud638\ud654 \ub418\uc5b4 \uc800\uc7a5\ub418\uc5b4\uc57c \ud55c\ub2e4.\n",
      "    - 2-5) \ud68c\uc6d0 \uc815\ubcf4\ub97c \uc785\ub825 \ubc1b\uc744 \ub54c id\ub97c \uc785\ub825 \ubc1b\uc740 \uc9c1\ud6c4 access\ub97c \ud655\uc778\ud558\uc5ec \uc774\ubbf8 \uc874\uc7ac\ud558\ub294 id\uac00 \uc785\ub825\ub418\uc5c8\ub2e4\uba74 \ub2e4\uc74c \uba54\uc2dc\uc9c0\ub97c \ucd9c\ub825\ud558\uace0 id \uc815\ubcf4\ub97c \ub2e4\uc2dc \uc785\ub825\ubc1b\ub294\ub2e4.\n",
      "      - Sorry, the entered ID is already used.\n",
      "  - 3) 2\ub97c \uc120\ud0dd\ud558\uba74 ID, Password\uc758 2\uac00\uc9c0 \uc815\ubcf4\ub97c \uc785\ub825\ubc1b\ub294 \ud504\ub85c\uadf8\ub7a8\uc744 \uc791\uc131\ud55c\ub2e4.\n",
      "    - 3-1) \uc785\ub825\ub41c ID \uc815\ubcf4\uac00 access\uc5d0 \uc874\uc7ac\ud558\uc9c0 \uc54a\uc73c\uba74 \ub2e4\uc74c\uacfc \uac19\uc740 \uba54\uc2dc\uc9c0\ub97c \ucd9c\ub825\ud558\uace0 \ub2e4\uc2dc \uc785\ub825\ubc1b\ub294\ub2e4.\n",
      "      - Sorry, you are not a registered member.\n",
      "    - 3-2) \uc785\ub825\ub41c ID\uac00 \uc62c\ubc14\ub974\uac8c \uc874\uc7ac\ud558\uc9c0\ub9cc Password \uc815\ubcf4\uac00 access \ud30c\uc77c\uc5d0 \uc788\ub294 \uc815\ubcf4\uc640 \ubd88\uc77c\uce58 \ud558\uba74 \ub2e4\uc74c\uacfc \uac19\uc740 \uba54\uc2dc\uc9c0\ub97c \ucd9c\ub825\ud558\uace0 \ub2e4\uc2dc \uc785\ub825\ubc1b\ub294\ub2e4.\n",
      "      - Sorry, the entered password is not correct.\n",
      "      - \uc774 \ub54c\uc5d0\ub3c4 \uc0ac\uc6a9\uc790\uac00 \uc785\ub825\ud55c \ud328\uc2a4\uc6cc\ub4dc \uc815\ubcf4\uc640 \ud568\uaed8 sha \ubaa8\ub4c8\uc774 \ud65c\uc6a9\ub418\uc5b4\uc57c \ud55c\ub2e4.\n",
      "    - 3-3) \uc785\ub825\ub41c ID\uc640 Password\uac00 \ubaa8\ub450 \uc62c\ubc14\ub974\uba74 \ub2e4\uc74c\uacfc \uac19\uc740 \uba54\uc2dc\uc9c0\ub97c \ucd9c\ub825\ud55c\ub2e4.\n",
      "      - Hello [name]!\n",
      "      - \uc704 [name]\uc5d0\ub294 access\uc5d0 \uae30\ub85d\ub418\uc5b4 \uc788\ub294 name \uc815\ubcf4\ub97c \ucd9c\ub825\ud55c\ub2e4.\n",
      "  - 4) 3\uc744 \uc120\ud0dd\ud558\uba74 \ud504\ub85c\uadf8\ub7a8\uc774 \ub05d\ub09c\ub2e4.\n",
      "  - [\ucc38\uace0] sha \ubaa8\ub4c8 \ud65c\uc6a9 \uc608"
     ]
    },
    {
     "cell_type": "code",
     "collapsed": false,
     "input": [
      "import os\n",
      "import sha\n",
      "\n",
      "def menu():\n",
      "    print \"\\nWelcome to Our Service\\n\"\n",
      "    print \"1. Sign Up\"\n",
      "    print \"2. Sign In\"\n",
      "    print \"3. Quit\"\n",
      "    return input('Select menu : ') \n",
      "\n",
      "def signUp():\n",
      "    f = open('access', 'a+')\n",
      "    userId = ['']\n",
      "    while(1):\n",
      "        count = 0\n",
      "        userId[0] = raw_input('ID : ')\n",
      "        f.seek(0)\n",
      "        for line in f:\n",
      "            a = line.find(\":\")\n",
      "            if userId[0] == line[:a]:\n",
      "                count += 1\n",
      "        if(count == 0):\n",
      "            break        \n",
      "        print \"Sorry, the entered ID is already used.\"    \n",
      "                    \n",
      "    password_plain = raw_input('Password : ')\n",
      "    password_encrypted = sha.new(password_plain).hexdigest()\n",
      "    userName = raw_input('Name : ')\n",
      "    userSchool = raw_input('School : ')\n",
      "    \n",
      "    f.seek(0, 2) \n",
      "    l = userId[0] +\": \" + password_encrypted + \", \" + userName + \", \" + userSchool + \"\\n\"\n",
      "    \n",
      "    f.write(l)\n",
      "    f.close()\n",
      "      \n",
      "def signIn(): \n",
      "    f = open('access', 'a+')\n",
      "    getPassword = []   \n",
      "    getName = [] \n",
      "    \n",
      "    idCount = 0\n",
      "    while(1):\n",
      "        count = 0\n",
      "        userId = raw_input('ID : ')\n",
      "        f.seek(0)\n",
      "        for line in f:\n",
      "            a = line.find(\":\")\n",
      "            if userId == line[:a]:\n",
      "                b = line.find(\",\")\n",
      "                c = line.find(\",\", b+1)\n",
      "                getPassword.append(line[a+2:b])\n",
      "                getName.append(line[b+2:c])\n",
      "                count += 1\n",
      "                break\n",
      "        if(count != 0):\n",
      "            break\n",
      "        print \"Sorry, you are not a registered member.\"\n",
      "        idCount += 1\n",
      "        if(idCount > 2):\n",
      "            return None\n",
      "    \n",
      "    passCount = 0\n",
      "    while(1):\n",
      "        password_plain = raw_input('Password : ')\n",
      "        password_encrypted = sha.new(password_plain).hexdigest()\n",
      "        \n",
      "        if(getPassword[0] == password_encrypted):\n",
      "            break\n",
      "        print \"Sorry, the entered password is not correct.\"\n",
      "        passCount += 1\n",
      "        if(passCount > 2):\n",
      "            return None\n",
      "        \n",
      "    print \"Hello [\" + getName[0] + \"]!\"\n",
      "    f.close()\n",
      "   \n",
      "while 1:\n",
      "    sel = menu()\n",
      "    \n",
      "    if sel < 0 or sel > 3:\n",
      "        continue\n",
      "    elif sel == 1:\n",
      "        signUp()\n",
      "    elif sel == 2:\n",
      "        signIn()\n",
      "    elif sel == 3:\n",
      "        break"
     ],
     "language": "python",
     "metadata": {},
     "outputs": [
      {
       "output_type": "stream",
       "stream": "stdout",
       "text": [
        "\n",
        "Welcome to Our Service\n",
        "\n",
        "1. Sign Up\n",
        "2. Sign In\n",
        "3. Quit\n"
       ]
      },
      {
       "name": "stdout",
       "output_type": "stream",
       "stream": "stdout",
       "text": [
        "Select menu : 4\n"
       ]
      },
      {
       "output_type": "stream",
       "stream": "stdout",
       "text": [
        "\n",
        "Welcome to Our Service\n",
        "\n",
        "1. Sign Up\n",
        "2. Sign In\n",
        "3. Quit\n"
       ]
      },
      {
       "name": "stdout",
       "output_type": "stream",
       "stream": "stdout",
       "text": [
        "Select menu : 0\n"
       ]
      },
      {
       "output_type": "stream",
       "stream": "stdout",
       "text": [
        "\n",
        "Welcome to Our Service\n",
        "\n",
        "1. Sign Up\n",
        "2. Sign In\n",
        "3. Quit\n"
       ]
      },
      {
       "name": "stdout",
       "output_type": "stream",
       "stream": "stdout",
       "text": [
        "Select menu : 1\n"
       ]
      },
      {
       "name": "stdout",
       "output_type": "stream",
       "stream": "stdout",
       "text": [
        "ID : kut\n"
       ]
      },
      {
       "output_type": "stream",
       "stream": "stdout",
       "text": [
        "Sorry, the entered ID is already used.\n"
       ]
      },
      {
       "name": "stdout",
       "output_type": "stream",
       "stream": "stdout",
       "text": [
        "ID : kut1\n"
       ]
      },
      {
       "name": "stdout",
       "output_type": "stream",
       "stream": "stdout",
       "text": [
        "Password : 1234\n"
       ]
      },
      {
       "name": "stdout",
       "output_type": "stream",
       "stream": "stdout",
       "text": [
        "Name : pepsi\n"
       ]
      },
      {
       "name": "stdout",
       "output_type": "stream",
       "stream": "stdout",
       "text": [
        "School : kut-cse\n"
       ]
      },
      {
       "output_type": "stream",
       "stream": "stdout",
       "text": [
        "\n",
        "Welcome to Our Service\n",
        "\n",
        "1. Sign Up\n",
        "2. Sign In\n",
        "3. Quit\n"
       ]
      },
      {
       "name": "stdout",
       "output_type": "stream",
       "stream": "stdout",
       "text": [
        "Select menu : 2\n"
       ]
      },
      {
       "name": "stdout",
       "output_type": "stream",
       "stream": "stdout",
       "text": [
        "ID : kut2\n"
       ]
      },
      {
       "output_type": "stream",
       "stream": "stdout",
       "text": [
        "Sorry, you are not a registered member.\n"
       ]
      },
      {
       "name": "stdout",
       "output_type": "stream",
       "stream": "stdout",
       "text": [
        "ID : kut3\n"
       ]
      },
      {
       "output_type": "stream",
       "stream": "stdout",
       "text": [
        "Sorry, you are not a registered member.\n"
       ]
      },
      {
       "name": "stdout",
       "output_type": "stream",
       "stream": "stdout",
       "text": [
        "ID : kut4\n"
       ]
      },
      {
       "output_type": "stream",
       "stream": "stdout",
       "text": [
        "Sorry, you are not a registered member.\n",
        "\n",
        "Welcome to Our Service\n",
        "\n",
        "1. Sign Up\n",
        "2. Sign In\n",
        "3. Quit\n"
       ]
      },
      {
       "name": "stdout",
       "output_type": "stream",
       "stream": "stdout",
       "text": [
        "Select menu : 2\n"
       ]
      },
      {
       "name": "stdout",
       "output_type": "stream",
       "stream": "stdout",
       "text": [
        "ID : kut\n"
       ]
      },
      {
       "name": "stdout",
       "output_type": "stream",
       "stream": "stdout",
       "text": [
        "Password : 12\n"
       ]
      },
      {
       "output_type": "stream",
       "stream": "stdout",
       "text": [
        "Sorry, the entered password is not correct.\n"
       ]
      },
      {
       "name": "stdout",
       "output_type": "stream",
       "stream": "stdout",
       "text": [
        "Password : 12\n"
       ]
      },
      {
       "output_type": "stream",
       "stream": "stdout",
       "text": [
        "Sorry, the entered password is not correct.\n"
       ]
      },
      {
       "name": "stdout",
       "output_type": "stream",
       "stream": "stdout",
       "text": [
        "Password : 12\n"
       ]
      },
      {
       "output_type": "stream",
       "stream": "stdout",
       "text": [
        "Sorry, the entered password is not correct.\n",
        "\n",
        "Welcome to Our Service\n",
        "\n",
        "1. Sign Up\n",
        "2. Sign In\n",
        "3. Quit\n"
       ]
      },
      {
       "name": "stdout",
       "output_type": "stream",
       "stream": "stdout",
       "text": [
        "Select menu : 2\n"
       ]
      },
      {
       "name": "stdout",
       "output_type": "stream",
       "stream": "stdout",
       "text": [
        "ID : kut\n"
       ]
      },
      {
       "name": "stdout",
       "output_type": "stream",
       "stream": "stdout",
       "text": [
        "Password : 1234\n"
       ]
      },
      {
       "output_type": "stream",
       "stream": "stdout",
       "text": [
        "Hello [pepsi]!\n",
        "\n",
        "Welcome to Our Service\n",
        "\n",
        "1. Sign Up\n",
        "2. Sign In\n",
        "3. Quit\n"
       ]
      },
      {
       "name": "stdout",
       "output_type": "stream",
       "stream": "stdout",
       "text": [
        "Select menu : 3\n"
       ]
      }
     ],
     "prompt_number": 1
    },
    {
     "cell_type": "markdown",
     "metadata": {},
     "source": [
      "- \ud504\ub85c\uadf8\ub7a8\uc774 \uc2dc\uc791\ub418\uba74 while\ubb38\uc744 \ud1b5\ud574 menu()\uac00 \uc2e4\ud589\uc774 \ub418\uba70 \uac12\uc744 \uc785\ub825\ubc1b\ub294\ub2e4.\n",
      "- 1~3 \uc774\uc678\uc758 \uc22b\uc790\uac00 \ub4e4\uc5b4\uc624\uba74 \ub2e4\uc2dc \uc785\ub825\ubc1b\ub294\ub2e4.\n",
      "\n",
      "- 1\uc774 \ub4e4\uc5b4\uc624\uba74 SignUp()\uc774 \uc2e4\ud589\ub41c\ub2e4.\n",
      "- \uc544\uc774\ub514\ub97c \uc785\ub825\ubc1b\uace0 \uc911\ubcf5\ub418\ub294\uc9c0\ub97c \ud655\uc778\ud558\uace0 \ucc98\ub9ac\ud55c\ub2e4.\n",
      "- \ube44\ubc00\ubc88\ud638\ub294 sha\ubaa8\ub4c8\uc744 \uc774\uc6a9\ud558\uc5ec \uc554\ud638\ud654 \ud55c\ub2e4.\n",
      "- seek(0,2)\ub97c \uc0ac\uc6a9\ud558\uc5ec \ud30c\uc77c\uac1d\uccb4 \ud3ec\uc778\ud130\ub97c \ub9e8 \ub4a4\ub85c \ubcf4\ub0b8 \ud6c4 \uc815\ubcf4\ub97c \uc800\uc7a5\ud558\uace0 close()\ub97c \ud638\ucd9c\ud558\uc5ec \ud30c\uc77c\uc744 \ub2eb\ub294\ub2e4.\n",
      "\n",
      "- 2\uac00 \ub4e4\uc5b4\uc624\uba74 SignIn()\uc774 \uc2e4\ud589\ub41c\ub2e4.\n",
      "- \uc544\uc774\ub514\ub97c \uc785\ub825\ubc1b\uace0 \uc800\uc7a5\ub41c \ub0b4\uc6a9\uc5d0 \ud574\ub2f9\ud558\ub294 \uc544\uc774\ub514\uac00 \uc788\ub294\uc9c0 \ucc3e\ub294\ub2e4.\n",
      "- 3\ubc88 \uc774\uc0c1 \ud2c0\ub9b0 \uacbd\uc6b0 \uba54\ub274\ub85c \ub3cc\uc544\uac04\ub2e4.\n",
      "- \uc62c\ubc14\ub978 \uc544\uc774\ub514\uac00 \uc785\ub825\ub418\uba74 \ube44\ubc00\ubc88\ud638\ub97c \uc785\ub825\ubc1b\ub294\ub2e4.\n",
      "- \uc785\ub825\ubc1b\uc740 \ube44\ubc00\ubc88\ud638\ub294 \uc554\ud638\ud654 \ud55c \ud6c4 \uc800\uc7a5\ub41c \ube44\ubc00\ubc88\ud638\uc640 \ub3d9\uc77c\ud55c\uc9c0 \ud310\ub2e8\ud55c\ub2e4.\n",
      "- 3\ubc88 \uc774\uc0c1 \ud2c0\ub9b0 \uacbd\uc6b0 \uba54\ub274\ub85c \ub3cc\uc544\uac04\ub2e4.\n",
      "- \uc62c\ubc14\ub978 \ube44\ubc00\ubc88\ud638\uac00 \uc785\ub825\ub418\uba74 Hello [name]!\uc744 \ucd9c\ub825\ud55c\ub2e4.\n",
      "\n",
      "- 3\uc774 \uc785\ub825\ub418\uba74 \ud504\ub85c\uadf8\ub7a8\uc774 \uc885\ub8cc\ub41c\ub2e4."
     ]
    },
    {
     "cell_type": "markdown",
     "metadata": {},
     "source": [
      "####[3\ubc88 \ubb38\uc81c] range() \ud568\uc218\uc640 \uc720\uc0ac\ud55c frange() \ud568\uc218\ub97c \ub2e4\uc74c \uc870\uac74\uc744 \ucc38\uace0\ud558\uc5ec \ub9cc\ub4dc\uc2dc\uc624.\n",
      "  - 1) frange()\uc758 \uc778\uc790 \uad6c\uc131\uc740 \ub2e4\uc74c\uacfc \uac19\uc774 range\uc640 \ub3d9\uc77c\ud558\uc9c0\ub9cc \uac01 \uc778\uc218\ub4e4\uc740 \uc74c\uc218\ub97c \ubc1b\uc9c0 \uc54a\ub294\ub2e4\uace0 \uac00\uc815\ud55c\ub2e4.\n",
      "  > range(stop)<br/>\n",
      "  > range(start, stop[, step])<br/>\n",
      "  - 2) frange() \ud568\uc218\uc758 \uc778\uc790\uc5d0 \ub300\ud55c \uae30\ubcf8 \uc2dc\uc791(start) \uac12\uc740 0.0\uc774\uace0, \uae30\ubcf8 \ub2e8\uacc4(step) \uac12\uc740 0.1\uc774\ub2e4. \n",
      "  - 3) frange \uc0ac\uc6a9 \uc608\n",
      "    - 3-1) frange(0.5)\n",
      "      - [0.0, 0.1, 0.2, 0.3, 0.4]\n",
      "    - 3-2) frange(1.0, 2.0)\n",
      "      - [1.0, 1.1, 1.2, 1.3, 1.4, 1.5, 1.6, 1.7, 1.8, 1.9]\n",
      "    - 3-3) frange(2.2, 4.0, 0.5)\n",
      "      - [2.2, 2.7, 3.2, 3.7]"
     ]
    },
    {
     "cell_type": "code",
     "collapsed": false,
     "input": [
      "from decimal import *\n",
      "\n",
      "def frange(*arg):\n",
      "    l = []\n",
      "    dStart = [Decimal('0.0')]\n",
      "    dStep = [Decimal('0.1')]\n",
      "    dEnd = [Decimal('0.0')]\n",
      "    i = len(arg)\n",
      "      \n",
      "    if(i == 1):\n",
      "        while(1):\n",
      "            if(dEnd[0] >= arg[0]):\n",
      "                break\n",
      "            dEnd[0] = dEnd[0] + dStep[0]\n",
      "    elif(i == 2):\n",
      "        while(1):\n",
      "            if(dStart[0] >= arg[0]):\n",
      "                break\n",
      "            dStart[0] = dStart[0] + dStep[0]\n",
      "        while(1):\n",
      "            if(dEnd[0] >= arg[1]):\n",
      "                break\n",
      "            dEnd[0] = dEnd[0] + dStep[0]\n",
      "    elif(i == 3):\n",
      "        while(1):\n",
      "            if(dStart[0] >= arg[0]):\n",
      "                break\n",
      "            dStart[0] = dStart[0] + dStep[0]\n",
      "        while(1):\n",
      "            if(dEnd[0] >= arg[1]):\n",
      "                break\n",
      "            dEnd[0] = dEnd[0] + dStep[0]\n",
      "        while(1):\n",
      "            if(dStep[0] >= arg[2]):\n",
      "                break\n",
      "            dStep[0] = dStep[0] + Decimal('0.1')   \n",
      "    elif(i == 0):\n",
      "        print 'range expected at least 1 arguments, got %d' %(i)\n",
      "        return None\n",
      "    else:\n",
      "        print 'range expected at most 3 arguments, got %d' %(i)\n",
      "        return None\n",
      "    \n",
      "    while(1):\n",
      "        if(dStart[0] >= dEnd[0]):\n",
      "            break\n",
      "        l.append(float(dStart[0]))\n",
      "        dStart[0] += dStep[0]\n",
      "    print l\n",
      "frange()    \n",
      "frange(0.7)\n",
      "frange(0.7, 2.5)\n",
      "frange(2.4, 10.0, 0.6)    \n",
      "frange(0, 1, 2, 3)"
     ],
     "language": "python",
     "metadata": {},
     "outputs": [
      {
       "output_type": "stream",
       "stream": "stdout",
       "text": [
        "range expected at least 1 arguments, got 0\n",
        "[0.0, 0.1, 0.2, 0.3, 0.4, 0.5, 0.6]\n",
        "[0.7, 0.8, 0.9, 1.0, 1.1, 1.2, 1.3, 1.4, 1.5, 1.6, 1.7, 1.8, 1.9, 2.0, 2.1, 2.2, 2.3, 2.4]\n",
        "[2.4, 3.0, 3.6, 4.2, 4.8, 5.4, 6.0, 6.6, 7.2, 7.8, 8.4, 9.0, 9.6]\n",
        "range expected at most 3 arguments, got 4\n"
       ]
      }
     ],
     "prompt_number": 4
    },
    {
     "cell_type": "markdown",
     "metadata": {},
     "source": [
      "- \uac00\ubcc0\uc778\uc218\ub97c \ubc1b\ub3c4\ub85d \uad6c\uc131\uc744 \ud558\uace0 \uac2f\uc218\uac00 0\uac1c \ub610\ub294 4\uac1c \uc774\uc0c1\uc77c\uc2dc \uc5d0\ub7ec \uba54\uc138\uc9c0\ub97c \ubcf4\ub0b8\ub2e4.\n",
      "- \ubd80\ub3d9\uc18c\uc218\uc810 \ud45c\ud604\uc774\ubbc0\ub85c decimal \ubaa8\ub4c8\uc744 \uc774\uc6a9\ud558\uc5ec \uad6c\uc131\uc744 \ud568\n",
      "- dStart, dEnd, dStep\ub294 l-value, r-value \ub458 \ub2e4 \uc0ac\uc6a9\ub420 \uc218 \uc788\uc73c\ubbc0\ub85c \ub9ac\uc2a4\ud2b8 \uc778\ub371\uc2f1\uc744 \uc774\uc6a9\ud55c\ub2e4.\n",
      "- \uc778\uc790\uac00 \ud558\ub098\uc778 \uacbd\uc6b0 dEnd\uac12\uc744 dStep\uc744 \uc774\uc6a9\ud558\uc5ec \uc99d\uac00\uc2dc\ucf1c \uc785\ub825\uac12\uacfc \ub9de\ucdb0\uc900\ub2e4.\n",
      "- \uc778\uc790\uac00 \ub450\uac1c\uc778 \uacbd\uc6b0 dStart\uac12\uacfc dEnd\uac12\uc744 dStep\uc744 \uc774\uc6a9\ud558\uc5ec \ub9de\ucdb0\uc900\ub2e4.\n",
      "- \uc778\uc790\uac00 \uc138\uac1c\uc778 \uacbd\uc6b0 dStart\uac12\uacfc dEnd\uac12\uc744 dStep\uc744 \uc774\uc6a9\ud558\uc5ec \ub9de\ucd98\ud6c4 dStep\uc740 Decimal('0.1')\uc744 \ub354\ud558\uba74\uc11c \ub9de\ucdb0\uc900\ub2e4.\n",
      "- dStart, dEnd, dStep\uc774 \uc138\ud305\uc774 \uc644\ub8cc\ub418\uba74 dStep\uc744 \uc774\uc6a9\ud558\uc5ec \uc99d\uac00\uc2dc\ud0a4\uba74\uc11c \ub9ac\uc2a4\ud2b8\uc5d0 \uac12\uc744 \uc800\uc7a5\ud558\uace0 \ucd9c\ub825\ud55c\ub2e4."
     ]
    },
    {
     "cell_type": "markdown",
     "metadata": {},
     "source": [
      "####[4\ubc88 \ubb38\uc81c] \uac00\ubcc0\uc778\uc218\ub97c \ubc1b\ub294 \ud568\uc218 sum()\uc744 \ub2e4\uc74c\uacfc \uac19\uc740 \uc870\uac74\uc744 \ucc38\uace0\ud558\uc5ec \uad6c\ud604\ud558\uc2dc\uc624\n",
      "  - 1) sum() \uc0ac\uc6a9 \uc608 \n",
      "    - sum()\n",
      "      - 0\n",
      "    - sum(1, 2)\n",
      "      - 3\n",
      "    - sum(1, 2, 3, 4, 5)\n",
      "      - 15\n",
      "    - sum(1, 5, 7, 2, -10)\n",
      "      - 5"
     ]
    },
    {
     "cell_type": "code",
     "collapsed": false,
     "input": [
      "def sum(*arg):\n",
      "    result = 0\n",
      "    for i in range(len(arg)):\n",
      "        result += arg[i]\n",
      "    \n",
      "    print result\n",
      "    \n",
      "sum()\n",
      "sum(1, 2)\n",
      "sum(1, 2, 3, 4, 5)\n",
      "sum(1, 5, 7, 2, -10)"
     ],
     "language": "python",
     "metadata": {},
     "outputs": [
      {
       "output_type": "stream",
       "stream": "stdout",
       "text": [
        "0\n",
        "3\n",
        "15\n",
        "5\n"
       ]
      }
     ],
     "prompt_number": 3
    },
    {
     "cell_type": "markdown",
     "metadata": {},
     "source": [
      "- \ud568\uc218 sum\uc5d0 \uac00\ubcc0 \uc778\uc218\uac00 \ub4e4\uc5b4\uc624\uba74 len\uc744 \uc774\uc6a9\ud558\uc5ec \uac2f\uc218\ub97c \ud30c\uc545\ud558\uace0 for\ubb38\uc744 \uc774\uc6a9\ud558\uc5ec \uac12\uc744 \ub354\ud55c\ud6c4 \ucd9c\ub825\ud574\uc8fc\ub294 \ud615\ud0dc\uc774\ub2e4. "
     ]
    },
    {
     "cell_type": "markdown",
     "metadata": {},
     "source": [
      "####[5\ubc88 \ubb38\uc81c] \uc5ec\ub7ec \ub2e8\uc5b4\ub85c \uc774\ub8e8\uc5b4\uc9c4 \ubb38\uc790\uc5f4\uc744 \uc785\ub825\ubc1b\uc544 \uac01 \ub2e8\uc5b4\uc758 \uccab\uae00\uc790\ub85c \uc774\ub8e8\uc5b4\uc9c4 \ub2e8\uc5b4\ub97c \ub300\ubb38\uc790\ub85c \ucd9c\ub825\ud558\ub294 myinitial() \ud568\uc218\ub97c \ub2e4\uc74c \uc870\uac74\uc744 \ucc38\uace0\ud558\uc5ec \uc791\uc131\ud558\uc2dc\uc624.\n",
      "  - 1) split, map, join \ud568\uc218\ub97c \ubaa8\ub450 \uc774\uc6a9\ud574\uc57c \ud55c\ub2e4.\n",
      "  - 2) myinitial() \ud568\uc218 \uc0ac\uc6a9 \uc608\n",
      "    - myinitial(\"as soon as possible\")\n",
      "      - ASAP"
     ]
    },
    {
     "cell_type": "code",
     "collapsed": false,
     "input": [
      "#split map join\n",
      "def myinitial(a):\n",
      "    print \"\".join(map(lambda x : x[0], a.split(\" \"))).upper()\n",
      "    \n",
      "myinitial(\"as soon as possible\")\n",
      "myinitial(\"hyper text markup language\")\n",
      "myinitial(\"cascading style sheets\")"
     ],
     "language": "python",
     "metadata": {},
     "outputs": [
      {
       "output_type": "stream",
       "stream": "stdout",
       "text": [
        "ASAP\n",
        "HTML\n",
        "CSS\n"
       ]
      }
     ],
     "prompt_number": 1
    },
    {
     "cell_type": "markdown",
     "metadata": {},
     "source": [
      "- \ud568\uc218\uc5d0 \ubb38\uc790\uc5f4\uc774 \ub4e4\uc5b4\uc624\uba74 split(\" \")\uc744 \uc774\uc6a9\ud558\uc5ec \ube48\uce78 \uae30\uc900\uc73c\ub85c \ub2e8\uc5b4 \ub2e8\uc704\ub85c \ucabc\uac1c \ub9ac\uc2a4\ud2b8\ub97c \ub9cc\ub4e0\ub2e4.\n",
      "- map\uacfc \ub78c\ub2e4\ud568\uc218\ub97c \uc774\uc6a9\ud558\uc5ec \uac01 \ub2e8\uc5b4\uc758 \uccab\uae00\uc790\ub85c \uc774\ub8e8\uc5b4\uc9c4 \ub9ac\uc2a4\ud2b8\ub97c \ub9cc\ub4e0\ub2e4.\n",
      "- join\uc744 \uc774\uc6a9\ud558\uc5ec \ubb38\uc790\uc5f4\ub85c \ub9cc\ub4e4\uc5b4\uc8fc\uace0 upper()\uba54\uc18c\ub4dc\ub97c \uc774\uc6a9\ud558\uc5ec \ub300\ubb38\uc790\ub85c \ubcc0\ud658\ud558\uc5ec \ucd9c\ub825\ud55c\ub2e4."
     ]
    },
    {
     "cell_type": "markdown",
     "metadata": {},
     "source": [
      "####[6\ubc88 \ubb38\uc81c] \uc74c\uc774 \uc544\ub2cc \uc815\uc218 n\ub97c \uc785\ub825\ubc1b\uc73c\uba74 n! (factorial)\uc744 \uacc4\uc0b0\ud558\ub294 myfact() \ud568\uc218\ub97c \uc7ac\uadc0\uc801 \ud568\uc218\ub85c \uad6c\ud604\ud558\uc2dc\uc624."
     ]
    },
    {
     "cell_type": "code",
     "collapsed": false,
     "input": [
      "def myfact(num, acc = 1):\n",
      "    if(num == 0):\n",
      "        print acc\n",
      "        return None\n",
      "    return myfact(num-1, num*acc)\n",
      "    \n",
      "myfact(0)\n",
      "myfact(1)\n",
      "myfact(5)\n",
      "myfact(10)"
     ],
     "language": "python",
     "metadata": {},
     "outputs": [
      {
       "output_type": "stream",
       "stream": "stdout",
       "text": [
        "1\n",
        "1\n",
        "120\n",
        "3628800\n"
       ]
      }
     ],
     "prompt_number": 2
    },
    {
     "cell_type": "markdown",
     "metadata": {},
     "source": [
      "- \ud568\uc218\ub97c \uc0ac\uc6a9\ud560\ub54c num\ub9cc \uc785\ub825\ud558\uace0 acc\ub294 \ub514\ud3f4\ud2b8 1\uc744 \uc0ac\uc6a9\ud55c\ub2e4.\n",
      "- \uaf2c\ub9ac\uc7ac\uadc0\ub85c \uad6c\uc131\ud558\uc600\uc73c\uba70 \uc7ac\uadc0 \ud638\ucd9c\uc2dc \uc778\uc790\ub85c num-1\uacfc num * acc\uac00 \ub4e4\uc5b4\uac00\uac8c \ub41c\ub2e4.\n",
      "- num\uac12\uc774 0\uc774 \ub418\uba74 \uc885\ub8cc\uc870\uac74\uc774 \ub418\uace0 \uacc4\uc0b0\ub41c acc \uac12\uc774 \ucd9c\ub825\ub41c\ub2e4."
     ]
    },
    {
     "cell_type": "markdown",
     "metadata": {},
     "source": [
      "####[7\ubc88 \ubb38\uc81c] (\uc11c\uc220\ud615) import string \uacfc from string import * \uc758 \ucc28\uc774\uc810\uc744 \uc124\uba85\ud558\uc2dc\uc624."
     ]
    },
    {
     "cell_type": "markdown",
     "metadata": {},
     "source": [
      "- \ucc28\uc774\ub85c\ub294 import string\uc758 \uacbd\uc6b0 \uc774\ub984 \uacf5\uac04 string\uc774 \uc720\uc9c0\uac00 \ub418\ub294\uac83\uc774\uace0\n",
      "- from string import * \uc758 \uacbd\uc6b0\ub294 \ud574\ub2f9 \ubaa8\ub4c8\uc5d0 \uc874\uc7ac\ud558\ub294 \uc774\ub984\ub4e4\uc744 \ud604\uc7ac \uc774\ub984 \uacf5\uac04\uc73c\ub85c \ubd88\ub7ec\ub4e4\uc774\ub294\uac83\uc774\ub2e4. \n",
      "- from string import * \uc744 \ud1b5\ud574 \ub4e4\uc5b4\uc624\ub294 \uc774\ub984\uc774 \ud604\uc7ac \uacf5\uac04\uc5d0 \uc815\uc758\ub418\uc5b4 \uc788\uc73c\uba74 \uadf8 \uc774\ub984\uc5d0 \uc758\ud574 \ucc38\uc870\ub418\ub358 \uae30\uc874 \uac1d\uccb4\ub4e4\uc740 \uc0c1\uc2e4\ud558\uac8c\ub41c\ub2e4."
     ]
    },
    {
     "cell_type": "markdown",
     "metadata": {},
     "source": [
      "####[8\ubc88 \ubb38\uc81c] \uc774\uc804 Assignment 3\uc758 \ub9c8\uc9c0\ub9c9 \ubb38\uc81c\ub294 \uc6f9 URL\ub85c \uc9c0\uc815\ub41c \uc6f9\ud398\uc774\uc9c0\ub97c \ubb38\uc790\uc5f4\ub85c \uac00\uc838\uc640 \ubaa8\ub4e0 HTML \ud0dc\uadf8 \ubc0f CSS\uc640 Javascript\ub97c \uc81c\uc678\ud55c \uc21c\uc218 \ud14d\uc2a4\ud2b8\ub97c \uc5bb\uc5b4\ub0b4\uace0 \uadf8 \uc548\uc5d0 \uc874\uc7ac\ud558\ub294 \ub2e8\uc5b4\ub97c \ucd94\ucd9c\ud558\uc5ec \uac01 \ub2e8\uc5b4\ub4e4\uc5d0 \ub300\ud574 \ucd9c\ud604\ube48\ub3c4\ub97c \uc0ac\uc804\ud615\ud0dc({'world': 2, 'hello': 1, 'python': 1})\ub85c \uc800\uc7a5\ud558\uc5ec \ucd9c\ub825\ud558\ub294 \uac83\uc774\uc5c8\ub2e4. \uc774\ubc88\uc5d0\ub294 Assignment 3\ub97c \ud655\uc7a5\ud558\uc5ec \ub2e4\uc74c\uacfc \uac19\uc740 \uc870\uac74\uc744 \ub9cc\uc871\ud558\ub3c4\ub85d \uad6c\ud604\ud558\uc2dc\uc624. \n",
      "  - 1) \uac01 URL\ub85c \uc9c0\uc815\ub41c \uc6f9\ud398\uc774\uc9c0\uc758 HTML \uc18c\uc2a4\ub97c \ud30c\uc77c\ub85c \uc800\uc7a5\ud558\uc2dc\uc624. \n",
      "    - URL\uc774 http://URL \uc774\ub77c\uba74 \ud30c\uc77c\uba85\uc740 URL.html \uc774\ub2e4. \n",
      "    - \uc608: URL\uc774 http://www.koreatech.ac.kr \uc774\ub77c\uba74 \ud30c\uc77c\uba85\uc740 www.koreatech.ac.kr.html \uc774\ub2e4. \n",
      "  - 2) \ub2e8\uc5b4\uc758 \ucd9c\ud604\ube48\ub3c4\uac00 \ub2f4\uae34 \uc0ac\uc804 \uac1d\uccb4\ub97c \uc704 HTML \uc18c\uc2a4 \ud30c\uc77c\uacfc \ub3d9\uc77c\ud55c \ud3f4\ub354\uc5d0 \ud30c\uc77c\ub85c \uc800\uc7a5\ud558\uc2dc\uc624.\n",
      "    - \uad50\uc7ac 11-2 \ud53c\ud074\ub9c1 \ubc29\ubc95\uc744 \ud65c\uc6a9\ud558\uc2dc\uc624. \n",
      "    - URL\uc774 http://URL \uc774\ub77c\uba74 \ud30c\uc77c\uba85\uc740 URL.words.frequency \uc774\ub2e4.\n",
      "    - \uc608: URL\uc774 http://www.koreatech.ac.kr \uc774\ub77c\uba74 \ud30c\uc77c\uba85\uc740 www.koreatech.ac.kr.words.frequency \uc774\ub2e4.\n",
      "  - 3) \ucd5c\uc18c 5\uac1c \uc774\uc0c1\uc758 \uc6f9 \uc0ac\uc774\ud2b8\uc5d0 \ub300\ud55c HTML \uc18c\uc2a4 \ud30c\uc77c\uacfc \ub2e8\uc5b4 \ucd9c\ud604\ube48\ub3c4 \ud30c\uc77c\uc744 \uc800\uc7a5\ud558\uc2dc\uc624. \n",
      "    - \uc989, \ucd1d 10\uac1c\uc758 \ud30c\uc77c\uc744 \ub3d9\uc77c\ud55c \ud3f4\ub354\uc5d0 \uc0dd\uc131\ud558\uc2dc\uc624."
     ]
    },
    {
     "cell_type": "code",
     "collapsed": false,
     "input": [
      "import urllib\n",
      "import string\n",
      "from collections import Counter\n",
      "import os\n",
      "import pickle\n",
      "\n",
      "count = 0\n",
      "\n",
      "while(1):\n",
      "    if(count > 4):\n",
      "        break\n",
      "    url = raw_input(\"insert url : \")\n",
      "    \n",
      "    source = urllib.urlopen(url).read()\n",
      "    url = url[7:]\n",
      "    url1 = url + \".html\"\n",
      "    f1 = open(url1, 'w')\n",
      "    f1.write(source)\n",
      "    \n",
      "    url2 = url + \".words.frequency\"\n",
      "    f2 = open(url2, 'w')\n",
      "    \n",
      "    len_source = len(source)\n",
      "        \n",
      "    i = 0\n",
      "    while (i < len_source):\n",
      "        found = False\n",
      "        if (found != True and source[i] == \"<\" and source[i+1 : i+7].lower() == \"script\"):\n",
      "            found = True;\n",
      "            j = i + 7;\n",
      "            while (True):\n",
      "                if (source[j] == \"<\" and source[j+1] == \"/\" and source[j+2 : j+8].lower() == \"script\"):\n",
      "                    source = source[:i] + ' ' + source[j+9:]\n",
      "                    break\n",
      "                j = j + 1\n",
      "                if (j > len_source):\n",
      "                    break\n",
      "            len_source = len(source)\n",
      "        i = i + 1\n",
      "    \n",
      "    len_source = len(source)\n",
      "    \n",
      "    i = 0\n",
      "    while (i < len_source):\n",
      "        found = False\n",
      "        if (found != True and source[i] == \"<\" and source[i+1 : i+6].lower() == \"style\"):\n",
      "            found = True;\n",
      "            j = i + 6;\n",
      "            while (True):\n",
      "                if (source[j] == \"<\" and source[j+1] == \"/\" and source[j+2 : j+7].lower() == \"style\"):\n",
      "                    source = source[:i] + ' ' + source[j+8:]\n",
      "                    break\n",
      "                j = j + 1\n",
      "                if (j > len_source):\n",
      "                    break\n",
      "            len_source = len(source)\n",
      "        i = i + 1\n",
      "    \n",
      "    len_source = len(source)\n",
      "    \n",
      "    i = 0\n",
      "    while (i < len_source):\n",
      "        found = False\n",
      "        if (found != True and source[i] == \"<\"):\n",
      "            found = True;\n",
      "            j = i + 1;\n",
      "            while (True):\n",
      "                if (source[j] == \">\"):\n",
      "                    source = source[:i] + ' ' + source[j+1:]\n",
      "                    break\n",
      "                j = j + 1\n",
      "                if (j > len_source):\n",
      "                    break\n",
      "            len_source = len(source)\n",
      "        i = i + 1\n",
      "    \n",
      "    words = (\"\".join(i for i in source if i not in string.punctuation)).split()    \n",
      "    counts = dict(Counter(words))\n",
      "\n",
      "    print counts\n",
      "    \n",
      "    pickle.dump(counts, f2)\n",
      "    f1.close()\n",
      "    f2.close()\n",
      "    count += 1"
     ],
     "language": "python",
     "metadata": {},
     "outputs": [
      {
       "name": "stdout",
       "output_type": "stream",
       "stream": "stdout",
       "text": [
        "insert url : http://ipython.org\n"
       ]
      },
      {
       "output_type": "stream",
       "stream": "stdout",
       "text": [
        "{'Web': 1, 'all': 3, 'code': 2, 'browserbased': 1, 'show': 1, 'text': 1, 'focus': 2, 'integration': 1, 'leads': 1, 'talks': 1, 'expressions': 1, 'availability': 1, 'forget': 1, 'impact': 1, 'Foundation': 2, 'We': 4, 'developers': 3, 'Award': 2, 'environment': 1, 'to': 21, 'citing': 1, 'Additionally': 1, 'announce': 1, 'Software': 1, 'Bussonnier': 1, 'do': 1, 'his': 2, 'get': 1, 'watch': 1, 'P': 1, 'While': 1, '123': 1, 'nearly': 1, 'continued': 1, 'advancedlevel': 1, 'Help': 1, 'Matthias': 1, 'fields': 1, 'notes': 1, 'list': 2, 'book': 5, 'multilanguage': 1, 'architecture': 2, 'team': 1, 'release': 3, 'Perez': 1, 'Panda': 1, 'kernel': 4, 'work': 3, 'For': 1, 'be': 2, 'GUI': 1, 'roadmap': 1, 'Citing': 1, 'actively': 1, 'are': 4, 'Easy': 1, 'download': 1, 'Versions': 1, 'contributed': 1, '\\xc2\\xb6': 2, 'HTML': 1, 'reproducible': 1, 'new': 1, 'contributes': 1, 'available': 1, 'Share': 1, 'Created': 1, 'citation': 1, 'Reddit': 1, 'here': 1, 'news': 1, 'Scientific': 1, 'News': 1, 'license': 1, '33': 1, '32': 1, 'acknowledge': 1, 'presentations': 1, 'guide': 1, 'Travis': 1, 'published': 2, 'changes': 1, 'load': 1, 'mechanics': 1, 'via': 1, 'FSF': 1, 'Support': 2, 'community': 1, 'Book': 4, 'Free': 1, 'learning': 1, '1st': 1, 'IPython': 30, 'Donate': 1, 'tools': 1, 'bugfix': 1, 'Packt': 2, 'languages': 1, 'use': 3, 'GitHub': 1, 'from': 5, 'August': 1, 'objectives': 1, 'two': 1, 'been': 1, 'Microsoft': 2, 'California': 1, 'basic': 1, 'BSD': 1, 'preview': 1, 'achieving': 1, 'more': 4, 'CI': 1, 'October': 2, 'Octave': 1, 'embeddable': 1, 'started': 1, 'bulk': 1, 'excellent': 1, 'Vagrantpowered': 1, 'has': 3, 'Videos': 1, 'To': 2, 'this': 4, 'science': 2, 'clients': 2, 'Roadmap': 1, 'will': 1, 'technical': 1, 'while': 1, 'can': 4, 'learn': 1, 'Our': 2, 'example': 3, 'scripting': 1, 'Shining': 1, 'mdash': 1, 'is': 9, 'it': 3, 'now': 1, 'high': 1, 'in': 8, 'donating': 2, 'Flexible': 1, 'You': 2, 'Several': 1, 'Cite': 1, 'if': 1, 'information': 1, 'wellspecified': 1, 'midJuly': 1, 'Python': 5, 'media': 1, 'proceeds': 2, 'machine': 1, 'speaks': 1, 'Stack': 1, 'A': 2, 'used': 2, 'Room': 2, 'collection': 1, 'notebook': 3, 'uses': 1, 'designed': 1, 'coming': 1, 'such': 2, 'data': 3, 'parallel': 1, 'Wiki': 1, 'older': 1, 'navigation': 1, 'documentation': 1, 'well': 1, 'Community': 1, 'IPython8217s': 3, 'academic': 1, 'Haskell': 1, 'so': 1, 'File': 1, 'things': 1, 'inline': 1, 'the': 33, 'If': 1, 'Visualization': 2, 'Loading': 1, 'protocol': 1, 'developed': 1, 'donates': 1, '130': 1, 'including': 1, 'reviewer': 1, 'its': 1, 'previous': 1, 'letting': 1, 'web': 1, '26': 1, '27': 1, '20': 2, 'thank': 2, '23': 2, 'bringing': 1, 'notebooks': 2, 'source': 2, 'add': 1, 'other': 4, 'advanced': 1, 'readymade': 1, '2014': 2, 'extensive': 1, 'ndash': 1, 'Tweet': 1, '2013': 2, '2012': 1, 'them': 1, 'read': 2, 'Powerful': 1, 'We8217ll': 1, 'Social': 1, 'using': 1, 'Cookbook': 1, 'projects': 3, 'several': 1, 'Computing': 2, '2x': 1, 'Learning': 1, 'each': 1, 'security': 1, 'rich': 2, 'out': 1, 'Find': 1, 'mathematical': 1, 'development': 4, 'Ruby': 1, 'terminal': 2, 'series': 1, 'creation': 1, 'languageagnostic': 1, 'Perl': 1, '115': 1, 'examples': 1, 'Alfred': 1, 'year': 1, 'quantum': 1, 'our': 7, 'beyond': 1, 'Bash': 1, 'More': 2, 'sprints': 1, 'funding': 1, 'for': 19, 'Sponsors': 1, 'research': 1, 'provides': 1, 'Overflow': 1, 'supports': 3, 'core': 1, 'scientific': 3, 'repository': 1, 'kernels': 1, 'This': 1, 'interpreters': 1, 'million': 1, 'please': 2, 'plots': 1, 'Mailing': 1, 'by': 2, 'on': 4, 'about': 3, 'language': 1, 'of': 17, 'programming': 1, 'range': 1, 'screencasts': 1, '100000': 2, 'Chat': 2, 'facilitate': 1, 'or': 6, 'first': 1, 'major': 1, 'own': 1, 'features': 2, 'Copyright': 1, 'into': 2, 'Advancement': 1, 'awarded': 2, 'open': 3, 'your': 3, 'mix': 1, 'statistics': 1, 'publication': 1, 'shells': 1, '1x': 1, 'support': 5, 'Cyrille': 2, 'IPythonfocused': 1, 'Notebook': 5, 'way': 2, 'widgets': 1, 'Data': 1, 'cite': 1, 'a': 17, 'Github': 1, 'Sphinx': 1, 'grant': 3, 'that': 3, 'tool': 1, 'sequel': 1, 'but': 1, 'released': 1, 'R': 1, 'library': 1, 'Install': 3, 'authors': 1, 'copy': 1, 'with': 7, 'bug': 1, 'O8217Reilly': 1, '10': 2, 'Interactive': 2, 'toolkits': 1, 'was': 2, 'official': 2, 'see': 2, 'us': 1, 'project': 6, 'See': 2, '\\xc2\\xb7': 6, 'grant8217s': 1, 'interactive': 5, 'and': 24, 'Cython': 1, 'Publishing': 2, 'videos': 1, 'computing': 4, 'topics': 1, 'Stable': 1, 'an': 3, 'Sloan': 2, 'as': 5, 'Julia': 1, 'Announcements': 2, 'ship': 1, '30dev': 1, 'any': 1, 'Development': 3, 'Mining': 1, 'variety': 1, 'Read': 1, 'Docs': 1, 'Qtbased': 1, 'able': 1, 'virtual': 1, 'also': 1, 'visualization': 1, 'details': 3, 'which': 2, 'performance': 1, 'you': 3, 'many': 1, 'don8217t': 1, 'collaborative': 1, 'Rossant': 2, 'Fernando': 1, 'important': 1, 'connected': 1, 'allowing': 1, 'entry': 1, 'gallery': 1, 'building': 1, 'multidirectory': 1, 'Viewer': 2, 'proud': 1, 'together': 1, 'An': 1, 'portion': 2, 'newer': 1, 'fact': 1}\n"
       ]
      },
      {
       "name": "stdout",
       "output_type": "stream",
       "stream": "stdout",
       "text": [
        "insert url : http://www.w3schools.com\n"
       ]
      },
      {
       "output_type": "stream",
       "stream": "stdout",
       "text": [
        "{'Web': 7, 'all': 1, 'less': 1, 'JS': 1, 'X': 1, 'Tutorials': 3, 'WITH': 1, 'web': 1, 'Refsnes': 1, 'w3schoolscom': 1, 'to': 6, 'add': 1, 'policy': 1, 'might': 1, 'Building': 4, 'WEB': 1, 'FORUM': 1, 'Mobile': 1, 'SVG': 2, 'AJAX': 1, '123': 1, 'using': 1, 'WSDL': 1, 'accepted': 1, 'day': 1, 'basics': 1, 'Reference': 6, 'warrant': 1, 'Tag': 1, 'SQL': 5, 'XSLFO': 1, 'PHP': 5, 'jQuery': 3, 'ABOUT': 1, 'Statistics': 1, 'testing': 1, 'DTD': 1, 'Certificates': 2, 'computer': 1, 'examples': 1, 'a': 3, 'our': 1, 'JQuery': 3, 'errors': 1, 'for': 1, 'avoid': 1, 'content': 1, 'HTML': 8, 'reading': 1, 'be': 1, 'we': 1, 'full': 1, 'terms': 1, 'Rights': 1, 'VBScript': 1, 'Server': 1, 'cookie': 1, 'understanding': 1, 'by': 1, 'CSS': 5, 'improve': 1, 'on': 1, 'training': 1, 'of': 3, 'Tags': 1, 'correctness': 1, 'US': 1, 'Symbols': 1, 's': 1, 'HTMLCSS': 1, 'Tutorial': 7, '1000': 1, 'XPath': 2, 'own': 1, 'Copyright': 1, 'DOM': 3, 'Support': 1, 'Maps': 2, 'references': 1, 'learning': 1, 'Online': 1, 'your': 2, 'jQueryMobile': 1, 'use': 1, 'ASP': 1, 'privacy': 1, '19992014': 1, 'create': 1, 'constantly': 1, 'JSON': 1, 'AngularJS': 1, 'basic': 1, 'Data': 1, 'XML': 4, 'CSS3': 2, 'Search': 1, 'Characters': 1, 'XSLT': 2, 'but': 1, 'Learn': 33, 'than': 1, 'this': 1, 'W3Schools': 2, 'Color': 2, 'References': 1, 'reviewed': 1, 'ADVERTISE': 1, 'agree': 1, 'are': 1, 'and': 5, 'website': 2, 'is': 1, 'JavaScript': 6, 'site': 1, 'have': 1, 'in': 1, 'Schema': 1, 'how': 2, 'XQuery': 1, 'simplified': 1, 'you': 1, 'building': 1, 'Bootstrap': 1, 'HTMLHTML5': 1, 'optimized': 1, 'HTML5': 1, 'Side': 1, 'Picker': 1, 'All': 1, 'Google': 2, 'Reserved': 1, 'database': 1, 'read': 1, 'AppML': 1, 'While': 1, 'cannot': 1, 'Examples': 2, 'the': 1, 'RSS': 1, 'ASPNET': 2}\n"
       ]
      },
      {
       "name": "stdout",
       "output_type": "stream",
       "stream": "stdout",
       "text": [
        "insert url : http://ieeexplore.ieee.org\n"
       ]
      },
      {
       "output_type": "stream",
       "stream": "stdout",
       "text": [
        "{'Canada': 1, 'all': 1, 'code': 1, 'Title': 1, 'flicker': 1, 'Research': 1, 'bring': 1, 'Systems': 2, 'portfolio': 1, 'networks': 1, 'Math': 1, 'Update': 1, 'presents': 1, 'to': 7, 'Lighting': 1, 'Plasmas': 1, 'Account': 3, 'reserved': 1, 'Industry': 1, 'Standards': 3, 'Magazine': 1, 'Popular': 2, 'partnered': 1, 'Help': 4, 'Just': 1, 'issue': 2, 'gridrelated': 1, 'biological': 1, 'Education': 3, 'Networks': 1, 'vision': 1, 'Networking': 1, 'Browse': 1, 'intelligence': 1, 'Create': 2, 'HardwareSoftware': 1, 'detection': 1, 'Performance': 1, 'Worldwide': 1, 'section': 1, 'access': 1, 'This': 1, 'Books': 2, 'Grid': 3, 'Tsinghua': 1, 'new': 1, 'ever': 1, 'Advanced': 1, 'can': 3, 'Basic': 1, 'pose': 1, 'terms': 1, 'Settings': 1, 'Contact': 2, 'key': 1, 'address': 1, 'Bioengineering': 1, 'My': 2, 'both': 1, 'items': 1, 'study': 2, 'Opting': 1, 'Xplore': 8, 'Computer': 1, 'Technology': 2, 'Privacy': 1, 'Top': 1, 'Published': 1, 'editors': 1, 'article': 1, 'illumination': 1, 'Smart': 3, 'Interests': 1, 'from': 1, 'vlsi': 1, 'Get': 1, 'Processing': 2, 'two': 1, 'notforprofit': 1, 'Most': 1, '732': 1, 'Aerospace': 1, 'criteria': 1, 'nbspnbspnbspnbsp': 1, 'Claypool': 3, 'more': 2, 'Mitigate': 1, 'Devices': 1, 'Sites': 1, 'Broadcasting': 1, 'Learn': 1, 'effort': 1, 'applied': 1, 'Feedback': 1, 'rights': 1, 'this': 3, 'Library': 3, 'General': 1, 'Electromagnetics': 1, 'Change': 1, 'Communication': 1, 'Energy': 1, 'Out': 1, 'Conference': 2, 'Citation': 1, 'concerted': 1, 'Lightingrdquo': 1, 'is': 1, 'Digital': 2, 'site': 1, 'Content': 2, 'Details': 1, 'in': 6, 'Policy': 1, '678': 1, 'technology': 1, 'Profile': 1, 'information': 1, 'different': 1, 'Terms': 3, 'provide': 1, 'IEEE': 16, '1': 2, 'digital': 1, 'Address': 1, 'android': 1, 'Payment': 1, 'eBooks': 3, 'A': 1, 'About': 2, 'explores': 1, 'Technical': 2, 'comprehensive': 1, 'Signal': 1, 'collection': 1, 'applications': 1, 'Resiliencyrdquo': 1, 'improving': 1, 'such': 1, 'data': 2, 'Order': 1, 'recent': 1, 'a': 3, 'All': 1, 'Waves': 1, 'light': 1, 'Middle': 1, 'materials': 1, 'In': 5, 'Need': 1, 'organization': 1, 'the': 12, '800': 1, 'Geoscience': 1, 'effects': 1, 'What': 2, 'Publication': 2, 'Author': 1, 'insight': 1, 'Editors': 1, 'Access': 2, 'including': 1, 'nbsp': 1, 'Synthesis': 1, 'web': 1, 'ElectroOptics': 1, 'highlights': 1, 'advancement': 1, 'Applications': 1, 'Effects': 1, 'Pioneers': 1, 'Support': 2, 'has': 1, 'Journals': 2, 'By': 2, 'smart': 2, 'Purchase': 2, 'Last': 1, 'represents': 1, 'big': 1, 'largest': 1, '4333': 1, 'Analysis': 1, 'grid': 1, 'Can': 1, 'Components': 1, 'ldquoDesigning': 1, 'amp': 12, 'UsernamePassword': 1, 'association': 1, 'Engineers': 1, 'Control': 1, 'worlds': 1, 'Cookies': 1, 'Dielectrics': 1, 'Computing': 1, 'Skip': 1, 'Robotics': 1, 'Profession': 2, 'Sampling': 1, 'Topic': 2, 'Learning': 2, 'security': 2, 'Documents': 2, 'Preferences': 2, '981': 1, 'webinar': 1, 'library': 1, 'challenges': 2, 'TechnologyndashA': 1, 'Issue': 1, 'special': 1, 'More': 2, 'Username': 2, 'network': 2, 'for': 3, 'Engineered': 1, 'research': 1, 'I': 2, 'cloud': 3, 'sensor': 1, 'Projects': 1, 'be': 1, 'Term': 1, 'Circuits': 1, 'processing': 1, 'agreement': 1, 'Us': 1, 'Materials': 1, 'Command': 1, 'Options': 2, 'First': 1, 'on': 2, 'about': 1, 'of': 12, 'Topics': 1, 'US': 1, 'Sign': 5, 'Forgot': 1, 'or': 1, 'Publications': 2, 'resiliency': 1, 'Use': 3, 'features': 1, 'Copyright': 1, 'image': 1, 'Alerts': 3, 'Start': 1, 'long': 1, 'your': 1, 'Transportation': 1, 'Enhancing': 1, 'signifies': 1, '0060': 1, 'View': 5, 'mining': 1, 'ldquoCloud': 1, 'that': 4, 'Science': 2, 'mitigate': 1, 'sophisticated': 1, 'wireless': 1, 'Photonics': 1, 'technologies': 1, 'copy': 1, 'with': 1, 'Sitemap': 1, 'History': 4, 'shortterm': 1, 'Nondiscrimination': 1, 'LED': 2, 'eBook': 1, 'Engineering': 3, 'future': 1, 'IEEEorg': 1, 'Purchased': 1, 'and': 10, 'Information': 1, '2014': 1, 'computing': 1, 'Personal': 3, 'Nuclear': 1, 'Cartnbsp0': 1, 'Search': 15, 'general': 1, 'prestigious': 1, 'as': 1, 'Other': 1, 'New': 2, 'Electronics': 1, 'Main': 1, 'documents': 1, 'Power': 2, 'Subscribe': 1, 'Resources': 1, 'malicious': 1, 'Volume': 1, 'conditions': 1, 'compares': 1, 'build': 1, 'papers': 1, 'performance': 1, 'Password': 2, 'Name': 3, 'models': 1, 'Fields': 1, 'problems': 1, 'Communications': 1, 'Future': 1, 'Morgan': 3, 'Enter': 1, '3856796': 1, 'The': 1, 'Page': 1, 'Vision': 1, 'demand': 1, 'Institutional': 1, 'into': 1, 'Flicker': 1, 'Spectrum': 1, 'raquo': 5, 'Magazines': 2, 'professional': 1}\n"
       ]
      },
      {
       "name": "stdout",
       "output_type": "stream",
       "stream": "stdout",
       "text": [
        "insert url : http://www.python.org\n"
       ]
      },
      {
       "output_type": "stream",
       "stream": "stdout",
       "text": [
        "{'limited': 1, 'all': 1, 'code': 4, 'tkInter': 1, 'issued': 1, 'NonEnglish': 2, 'gt': 1, 'recode': 1, 'go': 1, 'appetite': 1, 'Foundation': 3, 'Notice': 2, 'Business': 2, 'Javascript': 2, 'languages': 2, '0': 4, '340': 1, '341': 1, '342': 1, 'Not': 1, 'division': 2, 'straightforward': 1, 'very': 1, 'Django': 1, 'manipulated': 1, '17': 2, 'GO': 1, 'Salt': 1, 'Statements': 1, 'list': 3, 'Upcoming': 1, 'Platforms': 2, 'compositing': 1, 'copy20012014': 1, '1128': 1, 'Index': 2, 'Functions': 1, 'work': 3, 'be': 3, '1121': 2, '1122': 1, '1125': 1, 'Implementations': 2, 'Interest': 2, 'download': 1, 'PEPs': 1, 'n': 2, 'forhellip': 1, 'machines': 1, 'even': 1, 'sum': 6, 'Yoursquod': 1, 'find': 1, 'version': 1, 'Compound': 1, 'new': 2, 'PyRa': 1, 'full': 1, 'Light': 1, 'Documentation': 3, 'KaPy': 1, 'here': 2, 'Contact': 1, 'along': 1, 'allows': 1, 'Back': 2, 'experience': 2, '34': 4, 'indentation': 1, 'pick': 1, 'Download': 1, 'Alternative': 2, 'Pythons': 1, 'control': 3, 'Group': 5, 'Privacy': 1, 'namen': 1, 'Top': 2, 'sliced': 1, 'printHi': 1, 'Whet': 1, 'IPython': 1, 'Input': 1, 'Donate': 1, 'tools': 1, 'environment': 1, 'use': 2, 'to': 20, 'Microsoft': 1, 'fibn': 1, 'Awards': 2, 'Applications': 2, '6': 1, 'twists': 1, 'Merchandise': 2, 'more': 2, 'knows': 1, 'operators': 1, 'Proposals': 1, 'about': 3, 'Bottle': 1, 'known': 1, 'Latest': 2, 'Pyramid': 1, 'join': 1, 'this': 2, 'Frame': 1, 'PUG': 1, '0801': 1, 'printThe': 1, 'can': 3, 'install': 1, 'learn': 2, 'Our': 1, 'Archive': 4, 'def': 1, 'Conference': 1, 'Chrome': 1, 'mdash': 2, 'effectively': 1, 'Policy': 1, 'Banana': 2, '233': 1, 'end': 1, 'provide': 1, 'IRIX': 1, '1': 5, 'A': 3, '144': 1, 'License': 2, 'structure': 1, '610': 1, 'List': 2, 'Become': 1, 'data': 1, 'types': 1, 'a': 15, 'All': 3, 'Solaris': 1, 'Apple': 2, 'third': 1, 'Mexico': 1, 'Community': 7, 'Python': 55, '18th': 1, 'Linux': 1, 'Guadalajara': 1, 'RSS': 1, 'What': 1, 'over': 1, 'mission': 1, 'course': 1, 'own': 1, 'nbsp': 3, 'its': 2, 'equiv': 1, 'Shell': 1, '20': 1, 'Scientific': 3, 'better': 1, 'lt': 1, 'production': 2, 'systems': 1, '2014': 12, 'defining': 2, 'installers': 1, 'Register': 1, 'Beginnerrsquos': 1, 'compound': 1, 'not': 1, 'day': 1, 'printHello': 1, 'name': 3, 'Simple': 2, 'Skip': 1, 'Quotes': 2, 'Pythonorg': 1, 'Check': 1, '377': 1, 'Arts': 2, 'Network': 1, 'Quants': 1, 'series': 1, 'About': 2, 'related': 1, '89': 1, 'our': 2, 'More': 9, 'Welcome': 1, 'your': 4, 'content': 2, 'print': 1, 'math': 1, 'docspythonorg': 1, 'experienced': 1, 'This': 1, 'standard': 1, 'advance': 1, 'interaction': 1, 'language': 3, 'programming': 4, 'Sign': 3, 'motion': 1, 'turn': 1, 'place': 1, 'Expect': 1, 'facilitate': 1, 'first': 1, 'Copyright': 1, 'AudioVisual': 2, 'Administration': 1, 'one': 1, 'Start': 1, 'enumerate': 1, 'Website': 1, 'city': 1, 'communityrun': 1, 'ancient': 1, 'Started': 3, 'Member': 1, 'returns': 1, '2': 5, 'Data': 1, 'GUI': 1, 'gtgtgt': 2, 'Wiki': 2, 'Search': 1, 'Success': 3, 'that': 5, 'lists': 2, 'released': 3, '13': 1, 'b': 3, 'Colophon': 1, 'Conferences': 2, 'PyQt': 1, 'future': 1, 'fruits': 2, 'Lime': 2, 'and': 23, 'Easy': 1, 'Freenode': 1, 'argument': 1, 'Submit': 2, '278': 1, 'Other': 2, 'have': 1, 'any': 1, 'Development': 4, 'releases': 2, 'Docs': 6, 'Tru64': 1, 'builtin': 1, 'which': 1, 'online': 1, 'indexed': 1, 'sure': 1, 'Trac': 1, 'Getting': 2, 'programmers': 2, 'PyConChina': 1, 'The': 7, 'understands': 1, 'Google': 2, 'flow': 2, 'clean': 1, '0317': 1, 'Speed': 1, '0311': 2, 'Web': 1, 'Flask': 1, 'syntax': 2, 'keyword': 1, 'agrees': 1, 'fruitupper': 1, 'trying': 1, '5666666666666667': 1, 'integrate': 1, '8': 3, 'thousands': 1, 'Magic': 1, 'Whether': 1, 'Larger': 1, 'While': 1, 'Stories': 3, 'international': 1, 'Quick': 1, 'X': 3, 'runs': 1, 'Help': 3, 'hangzhou': 1, 'Ansible': 1, 'release': 3, 'Education': 2, 'available': 2, 'mandatory': 1, 'For': 2, 'Source': 2, '9650': 3, 'num': 2, 'are': 4, '05': 1, '3': 9, 'loudfruits': 1, 'tens': 1, 'developer': 1, 'Roundup': 1, 'Buildbot': 1, 'Programming': 1, 'job': 1, 'key': 1, 'modeling': 1, 'optional': 1, '21': 1, 'protect': 1, 'parentheses': 1, 'PSF': 4, 's': 1, 'Unicode': 1, 'Logo': 2, 'browser': 2, 'expression': 1, 'capable': 1, 'Compaq': 1, 'simple': 2, 'overview': 1, 'ILM': 1, 'PEP': 2, 'community': 1, 'OpenStack': 1, 'Events': 11, 'printloudfruits': 1, 'APPLE': 1, 'source': 1, 'PyPI': 1, 'been': 3, 'quickly': 2, 'comprehensions': 1, 'Groups': 2, 'Your': 1, 'tutorials': 1, 'LIME': 1, '4': 1, 'website': 1, 'Flow': 1, 'Learn': 3, 'Software': 6, 'batch': 1, 'Meetup': 1, 'General': 1, 'will': 1, 'while': 2, 'Fibonacci': 1, 'loop': 1, 'Menu': 1, 'is': 13, 'Looking': 1, 'Tim': 1, 'Calculations': 1, 'in': 9, 'Karlsruhe': 1, 'if': 1, 'different': 1, 'Tornado': 1, 'FAQ': 2, 'Socialize': 1, 'arguments': 2, 'Types': 1, 'development': 1, 'Runs': 1, 'used': 2, 'assignment': 1, 'running': 1, 'fruit': 1, 'Fortenberry': 1, 'IRC': 3, 'Developer39s': 2, 'programs': 1, 'youre': 2, 'wxPython': 1, 'Im': 2, 'extensible': 1, 'In': 2, 'Talks': 2, 'position': 1, 'the': 14, '800': 1, 'Legal': 1, 'usual': 1, 'Pythonnbsp3': 5, '9660': 1, 'guides': 1, 'web': 1, 'Jobs': 2, 'candidate': 2, '335': 1, 'lets': 1, 'board': 1, 'easy': 2, 'News': 11, 'has': 4, 'Reset': 1, 'Intuitive': 1, 'Launch': 1, 'fib1000': 1, 'amp': 3, 'web2py': 1, 'jobspythonorg': 1, 'printa': 1, 'Smaller': 1, '55': 1, 'Numeric': 1, 'Defined': 1, 'Enhancement': 1, 'arbitrary': 1, 'output': 1, 'OS': 3, 'essential': 1, 'grouping': 1, '340rc1': 1, 'some': 1, '987': 1, 'library': 1, 'growth': 1, 'inputWhat': 1, 'Hello': 1, 'Experienced': 1, 'for': 13, 'Government': 2, 'listenumeratefruits': 1, 'Downloads': 2, 'per': 1, '0220': 1, 'Hi': 1, 'Facebook': 1, 'speak': 1, 'core': 1, 'processing': 1, 'Up': 1, 'Mailing': 2, 'by': 2, 'on': 5, 'pipeline': 2, 'of': 13, 'Get': 1, 'discussed': 1, 'Event': 2, 'range': 1, 'or': 3, 'Use': 1, 'Upgrade': 1, 'statements': 1, 'float': 1, 'rendering': 1, 'frames': 1, 'Thousands': 1, 'Pandas': 1, 'Diversity': 3, 'support': 1, 'Lists': 4, 'User': 5, 'way': 1, 'November': 1, 'was': 2, 'function': 1, 'Beginner39s': 2, 'System': 1, 'beginners': 1, 'expected': 1, 'PyGtk': 1, 'promote': 1, 'with': 9, 'Guide': 5, 'Interactive': 1, 'hire': 1, 'Industrial': 1, 'Interpretation': 1, 'versions': 1, 'arrays': 1, 'bugfix': 1, 'Twitter': 1, 'up': 2, 'Engineering': 2, 'Books': 2, 'today': 1, 'Close': 1, 'BANANA': 1, 'Special': 2, 'Initiatives': 1, 'ab': 1, 'Please': 1, 'classic': 1, 'an': 3, 'as': 2, 'diverse': 1, 'together': 1, 'functions': 4, 'floor': 1, 'May': 1, 'Mac': 2, 'other': 4, '5': 2, 'you': 1, 'arithmetic': 1, 'picture': 1, 'users': 1, 'Windows': 3, 'includes': 1, 'SciPy': 1, 'PyCon': 2, 'faster': 1, 'Site': 1, 'daily': 1}\n"
       ]
      },
      {
       "name": "stdout",
       "output_type": "stream",
       "stream": "stdout",
       "text": [
        "insert url : http://www.apple.com\n"
       ]
      },
      {
       "output_type": "stream",
       "stream": "stdout",
       "text": [
        "{'Use': 1, 'Copyright': 1, 'Privacy': 1, 'visit': 1, 'Support': 1, 'iTunes': 1, '5K': 1, 'Online': 1, 'find': 1, 'Store': 3, 'Updated': 1, 'personal': 1, 'Watch': 2, 'than': 1, '2': 1, 'come\\xc2\\xa0many': 1, '6': 1, 'News': 1, '1800MYAPPLE': 1, 'Change': 1, 'Reset': 1, 'Search': 3, 'Air': 1, 'iPhone': 2, '2014': 1, 'Feeds': 1, 'Retail': 1, 'with': 1, 'Display': 1, 'bigger': 1, 'Apple': 8, 'Shop': 1, 'rights': 1, '\\xc2\\xa9': 1, 'iMac': 1, 'air': 1, 'applecom': 3, 'Our': 1, 'Inc': 1, 'iPad': 2, 'reserved': 1, 'Menu': 1, 'is': 1, 'an': 1, 'Hot': 1, 'in': 1, 'Policy': 1, 'Map': 1, 'Terms': 1, 'Retina': 1, 'yet': 1, 'Mac': 1, 'Bigger': 1, 'Info': 1, 'Us': 1, 'most': 1, 'Contact': 1, 'device': 1, 'a': 1, 'All': 1, 'From\\xc2\\xa0one\\xc2\\xa0gift': 1, 'reseller': 1, 'of': 1, 'iPod': 1, 'Site': 1, 'the': 2, 'or': 1, 'RSS': 1}\n"
       ]
      }
     ],
     "prompt_number": 3
    },
    {
     "cell_type": "markdown",
     "metadata": {},
     "source": [
      "- 3\ubc88 \uacfc\uc81c\uc5d0\uc11c \uc218\uc815\n",
      "- while\ubb38\uc744 \uc774\uc6a9\ud558\uc5ec 5\ubc88 url\uc744 \uc785\ub825\ubc1b\ub294\ub2e4.\n",
      "- \uc785\ub825\ubc1b\uc740 url\uc758 http://\ub97c \uc81c\uac70\ud558\uace0 \ud574\ub2f9\ud558\ub294 \ud30c\uc77c\uba85\uc73c\ub85c f1, f2 \ud30c\uc77c\uc744 \uc5f0\ub2e4.\n",
      "- f1\uc5d0\ub294 urllib\uc73c\ub85c \ubc1b\uc740 source\ub97c \ubc14\ub85c \uc800\uc7a5\ud55c\ub2e4.\n",
      "- f2\uc5d0\ub294 \ud0dc\uadf8\ub97c \uc81c\uac70\ud55c \uc0ac\uc804\ud615\uc744 \ud53c\ud074\ub9c1\uc744 \ud1b5\ud574 \uc800\uc7a5\ud55c\ub2e4."
     ]
    },
    {
     "cell_type": "markdown",
     "metadata": {},
     "source": [
      "####[9\ubc88 \ubb38\uc81c] \uc704 \ubb38\uc81c\uc5d0\uc11c \uc800\uc7a5\ud55c \ubaa8\ub4e0 words.frequency \ud30c\uc77c\ub4e4\uc744 \ub85c\ub4dc \ud558\uc5ec \ubcf8\uc778\uc774 \uc800\uc7a5\ud558\uc5ec \ubd84\uc11d\ud55c \uc0ac\uc774\ud2b8\ub4e4\uc5d0\uc11c \uac00\uc7a5 \ub9ce\uc774 \ucd9c\ud604\ud55c \ub2e8\uc5b4\ub97c \ubf51\uc544 \uc81c\uc2dc\ud558\uc2dc\uc624.\n",
      "  - 8\ubc88 \ubb38\uc81c\uc640\ub294 \ub2e4\ub978 \ubcc4\ub3c4\uc758 \ud504\ub85c\uadf8\ub7a8\uc73c\ub85c \uc791\uc131\ud558\uc2dc\uc624."
     ]
    },
    {
     "cell_type": "code",
     "collapsed": false,
     "input": [
      "import pickle\n",
      "\n",
      "f1 = open('ipython.org.words.frequency')     \n",
      "f2 = open('www.w3schools.com.words.frequency')     \n",
      "f3 = open('ieeexplore.ieee.org.words.frequency')     \n",
      "f4 = open('www.python.org.words.frequency')     \n",
      "f5 = open('www.apple.com.words.frequency')  \n",
      "                      \n",
      "a = pickle.load(f1)\n",
      "b = pickle.load(f2)\n",
      "c = pickle.load(f3)\n",
      "d = pickle.load(f4)\n",
      "e = pickle.load(f5)\n",
      "\n",
      "for key, value in b.items():\n",
      "    if key in a:\n",
      "        a[key] += b[key]\n",
      "    else:\n",
      "        a[key] = 1\n",
      "for key, value in c.items():\n",
      "    if key in a:\n",
      "        a[key] += c[key]\n",
      "    else:\n",
      "        a[key] = 1\n",
      "for key, value in d.items():\n",
      "    if key in a:\n",
      "        a[key] += d[key]\n",
      "    else:\n",
      "        a[key] = 1\n",
      "for key, value in e.items():\n",
      "    if key in a:\n",
      "        a[key] += e[key]\n",
      "    else:\n",
      "        a[key] = 1\n",
      "\n",
      "getValue = 0\n",
      "getKey = \"\"\n",
      "for key, value in a.items():\n",
      "    if(value > getValue):\n",
      "        getKey = key\n",
      "        getValue = value\n",
      "\n",
      "print getKey, getValue\n",
      "\n",
      "f1.close()\n",
      "f2.close()\n",
      "f3.close()\n",
      "f4.close()\n",
      "f5.close()"
     ],
     "language": "python",
     "metadata": {},
     "outputs": [
      {
       "output_type": "stream",
       "stream": "stdout",
       "text": [
        "and 62\n"
       ]
      }
     ],
     "prompt_number": 7
    },
    {
     "cell_type": "markdown",
     "metadata": {},
     "source": [
      "- 8\ubc88\uc5d0 \ub9cc\ub4e0 5\uac1c\uc758 \ud30c\uc77c\uc744 \uc5f0\ub2e4.\n",
      "- pickle.load\ub97c \uc774\uc6a9\ud558\uc5ec \uc77d\uc5b4 \uc628\ub2e4.\n",
      "- \uc0ac\uc804 a\ub97c \uae30\uc900\uc73c\ub85c b, c, d, e\uc758 \ud0a4\uac00 \uc788\ub294\uc9c0 \ud310\ub2e8\ud558\uace0 \uc5c6\uc73c\uba74 \ub9cc\ub4e4\uc5b4\uc8fc\uace0 \uac12\uc744 1 \ub123\uc5b4\uc900\ub2e4.\n",
      "- a\uc5d0 \ud0a4\uac00 \uc788\ub294\uacbd\uc6b0 a\uc640 \ud574\ub2f9 \uc0ac\uc804\uc758 \uac12\uc744 \ud569\ud574 a\uc5d0 \uc800\uc7a5\ud55c\ub2e4.\n",
      "- \uc704 \uc791\uc5c5\uc744 \uc218\ud589\ud55c \uc0ac\uc804 a\uc5d0 for\ubb38\uc744 \ud1b5\ud574 \uac00\uc7a5 \ub9ce\uc774 \ucd9c\ub825\ub41c \ub2e8\uc5b4\ub97c \ucc3e\uc544 getKey, getValue\uc5d0 \uc800\uc7a5\ud55c \ud6c4 \ucd9c\ub825\ud55c\ub2e4.\n",
      "- close\ub97c \ud638\ucd9c\ud558\uc5ec \ud30c\uc77c\uc744 \ub2eb\uace0 \uc885\ub8cc\ub41c\ub2e4.\n",
      "- and\uac00 62\ubc88\uc73c\ub85c \uac00\uc7a5 \ub9ce\uc774 \ucd9c\ub825\ub418\uc5c8\uc73c\uba70 \uac01 \uc0ac\uc804\uc5d0\ub294 \ub2e4\uc74c\uacfc \uac19\uc774 \ub4f1\ub85d\ub418\uc5b4\uc788\ub2e4.\n",
      "- a[\"and\"] = 24\n",
      "- b[\"and\"] = 5\n",
      "- c[\"and\"] = 10\n",
      "- d[\"and\"] = 23\n",
      "- e[\"and\"] = 0"
     ]
    },
    {
     "cell_type": "markdown",
     "metadata": {},
     "source": [
      "\n",
      "####\ub290\ub080 \uc810 : \uc774\ubc88 \uacfc\uc81c\ub97c \ud1b5\ud574 \ud30c\uc77c \uc785\ucd9c\ub825\uc744 \uc790\uc138\ud788 \uc54c\uac8c \ub418\uc5c8\uc2b5\ub2c8\ub2e4. \uac00\ubcc0 \uc778\uc218 \ub9ac\uc2a4\ud2b8\ub97c \uc785\ub825\ubc1b\ub294 \ud568\uc218 \uad6c\ud604\uc744 \uc774\ud574\ud558\uac8c \ub418\uc5c8\uc2b5\ub2c8\ub2e4.\n"
     ]
    }
   ],
   "metadata": {}
  }
 ]
}