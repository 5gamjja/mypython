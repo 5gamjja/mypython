{
 "metadata": {
  "name": "",
  "signature": "sha256:9a0a3666938c9bc02ed1ae8ba0d233751d9fedbcaf8b590bca7e29825ff6aa60"
 },
 "nbformat": 3,
 "nbformat_minor": 0,
 "worksheets": [
  {
   "cells": [
    {
     "cell_type": "markdown",
     "metadata": {},
     "source": [
      "# Assignment 3\n",
      "### \ud559\ubc88 : 2009135085 \uc774\ub984 : \uc774\uacbd\ubbfc"
     ]
    },
    {
     "cell_type": "markdown",
     "metadata": {},
     "source": [
      "####1)L=[1, 2, 3, 4, 5]\uc77c \ub54c \ub2e4\uc74c \uac01 \ubb38\uc7a5\uc744 \uc218\ud589\ud55c \ud6c4\uc758 \uacb0\uacfc\ub97c \ubcf4\uace0 \ub0a9\ub4dd\ud560 \ub9cc\ud55c \uc774\uc720\ub97c \uc124\uba85\ud558\uc2dc\uc624.  "
     ]
    },
    {
     "cell_type": "code",
     "collapsed": false,
     "input": [
      "# 1)\n",
      "L = [1, 2, 3, 4, 5]\n",
      "L[1:3] = [100]\n",
      "print L"
     ],
     "language": "python",
     "metadata": {},
     "outputs": [
      {
       "output_type": "stream",
       "stream": "stdout",
       "text": [
        "[1, 100, 4, 5]\n"
       ]
      }
     ],
     "prompt_number": 6
    },
    {
     "cell_type": "markdown",
     "metadata": {},
     "source": [
      "\ub9ac\uc2a4\ud2b8 L\uc758 1\ubc88\uc9f8 \uc778\ub371\uc2a4 \ud3ec\ud568 ~ 3 \ubbf8\ud3ec\ud568\uc758 \uac12\uc744 100\uc73c\ub85c \uc2ac\ub77c\uc774\uc2a4 \uce58\ud658\ud55c\ub2e4 "
     ]
    },
    {
     "cell_type": "code",
     "collapsed": false,
     "input": [
      "# 2)\n",
      "L = [1, 2, 3, 4, 5]\n",
      "L[1:3] = [(100)]\n",
      "print L"
     ],
     "language": "python",
     "metadata": {},
     "outputs": [
      {
       "output_type": "stream",
       "stream": "stdout",
       "text": [
        "[1, 100, 4, 5]\n"
       ]
      }
     ],
     "prompt_number": 7
    },
    {
     "cell_type": "markdown",
     "metadata": {},
     "source": [
      "\uc6d0\uc18c\uac00 \ud558\ub098\uc774\uace0 ,\uac00 \uc5c6\uc73c\ubbc0\ub85c \ud29c\ud50c\ub85c \uc778\uc2dd\ud558\uc9c0 \uc54a\uace0 int\ub85c \uc778\uc2dd\ud558\uac8c \ub41c\ub2e4.\n",
      "\ub530\ub77c\uc11c 1\ubc88\uc758 \uacb0\uacfc\uc640 \ub3d9\uc77c\ud558\uac8c \ucd9c\ub825\ub41c\ub2e4."
     ]
    },
    {
     "cell_type": "code",
     "collapsed": false,
     "input": [
      "# 3)\n",
      "L = [1, 2, 3, 4, 5]\n",
      "L[1:3] = 100\n",
      "print L"
     ],
     "language": "python",
     "metadata": {},
     "outputs": [
      {
       "ename": "TypeError",
       "evalue": "can only assign an iterable",
       "output_type": "pyerr",
       "traceback": [
        "\u001b[1;31m---------------------------------------------------------------------------\u001b[0m\n\u001b[1;31mTypeError\u001b[0m                                 Traceback (most recent call last)",
        "\u001b[1;32m<ipython-input-8-c34257c95b9a>\u001b[0m in \u001b[0;36m<module>\u001b[1;34m()\u001b[0m\n\u001b[0;32m      1\u001b[0m \u001b[1;31m# 3)\u001b[0m\u001b[1;33m\u001b[0m\u001b[1;33m\u001b[0m\u001b[0m\n\u001b[0;32m      2\u001b[0m \u001b[0mL\u001b[0m \u001b[1;33m=\u001b[0m \u001b[1;33m[\u001b[0m\u001b[1;36m1\u001b[0m\u001b[1;33m,\u001b[0m \u001b[1;36m2\u001b[0m\u001b[1;33m,\u001b[0m \u001b[1;36m3\u001b[0m\u001b[1;33m,\u001b[0m \u001b[1;36m4\u001b[0m\u001b[1;33m,\u001b[0m \u001b[1;36m5\u001b[0m\u001b[1;33m]\u001b[0m\u001b[1;33m\u001b[0m\u001b[0m\n\u001b[1;32m----> 3\u001b[1;33m \u001b[0mL\u001b[0m\u001b[1;33m[\u001b[0m\u001b[1;36m1\u001b[0m\u001b[1;33m:\u001b[0m\u001b[1;36m3\u001b[0m\u001b[1;33m]\u001b[0m \u001b[1;33m=\u001b[0m \u001b[1;36m100\u001b[0m\u001b[1;33m\u001b[0m\u001b[0m\n\u001b[0m\u001b[0;32m      4\u001b[0m \u001b[1;32mprint\u001b[0m \u001b[0mL\u001b[0m\u001b[1;33m\u001b[0m\u001b[0m\n",
        "\u001b[1;31mTypeError\u001b[0m: can only assign an iterable"
       ]
      }
     ],
     "prompt_number": 8
    },
    {
     "cell_type": "markdown",
     "metadata": {},
     "source": [
      "\uc5d0\ub7ec \uba54\uc2dc\uc9c0\ub97c \ubcf4\uba74 \uc6b0\uce21 \uac12\uc774 \ubc18\ubcf5 \uac00\ub2a5\ud55c \uac12\uc774 \uc5ec\uc57c \ud55c\ub2e4\uace0 \ub098\uc628\ub2e4. 100\uc740 int\ub85c \ubc18\ubcf5\uc774 \uac00\ub2a5\ud558\uc9c0 \uc54a\ub2e4\ub294 \uac83\uc73c\ub85c \uc720\ucd94\ud560 \uc218 \uc788\ub2e4."
     ]
    },
    {
     "cell_type": "code",
     "collapsed": false,
     "input": [
      "# 4)\n",
      "L = [1, 2, 3, 4, 5]\n",
      "L[1:3] = (100)\n",
      "print L"
     ],
     "language": "python",
     "metadata": {},
     "outputs": [
      {
       "ename": "TypeError",
       "evalue": "can only assign an iterable",
       "output_type": "pyerr",
       "traceback": [
        "\u001b[1;31m---------------------------------------------------------------------------\u001b[0m\n\u001b[1;31mTypeError\u001b[0m                                 Traceback (most recent call last)",
        "\u001b[1;32m<ipython-input-9-b44168b7eb0d>\u001b[0m in \u001b[0;36m<module>\u001b[1;34m()\u001b[0m\n\u001b[0;32m      1\u001b[0m \u001b[1;31m# 4)\u001b[0m\u001b[1;33m\u001b[0m\u001b[1;33m\u001b[0m\u001b[0m\n\u001b[0;32m      2\u001b[0m \u001b[0mL\u001b[0m \u001b[1;33m=\u001b[0m \u001b[1;33m[\u001b[0m\u001b[1;36m1\u001b[0m\u001b[1;33m,\u001b[0m \u001b[1;36m2\u001b[0m\u001b[1;33m,\u001b[0m \u001b[1;36m3\u001b[0m\u001b[1;33m,\u001b[0m \u001b[1;36m4\u001b[0m\u001b[1;33m,\u001b[0m \u001b[1;36m5\u001b[0m\u001b[1;33m]\u001b[0m\u001b[1;33m\u001b[0m\u001b[0m\n\u001b[1;32m----> 3\u001b[1;33m \u001b[0mL\u001b[0m\u001b[1;33m[\u001b[0m\u001b[1;36m1\u001b[0m\u001b[1;33m:\u001b[0m\u001b[1;36m3\u001b[0m\u001b[1;33m]\u001b[0m \u001b[1;33m=\u001b[0m \u001b[1;33m(\u001b[0m\u001b[1;36m100\u001b[0m\u001b[1;33m)\u001b[0m\u001b[1;33m\u001b[0m\u001b[0m\n\u001b[0m\u001b[0;32m      4\u001b[0m \u001b[1;32mprint\u001b[0m \u001b[0mL\u001b[0m\u001b[1;33m\u001b[0m\u001b[0m\n",
        "\u001b[1;31mTypeError\u001b[0m: can only assign an iterable"
       ]
      }
     ],
     "prompt_number": 9
    },
    {
     "cell_type": "markdown",
     "metadata": {},
     "source": [
      "\uc704\uc758 \ubb38\uc81c\uc640 \ub3d9\uc77c\ud55c \uc5d0\ub7ec\ub85c (100)\uc758 \uacbd\uc6b0 \uc6d0\uc18c\uac00 \ud558\ub098\uc774\uace0 ,\uac00 \uc5c6\uc73c\ubbc0\ub85c \ud29c\ud50c\uc774 \uc544\ub2cc int\ub85c \uc778\uc2dd\ud558\uac8c \ub41c\ub2e4. \ub530\ub77c\uc11c \ubc18\ubcf5 \uac00\ub2a5\ud55c \uac12\uc774 \uc544\ub2c8\ubbc0\ub85c \uc5d0\ub7ec\uac00 \ubc1c\uc0dd\ud55c\ub2e4."
     ]
    },
    {
     "cell_type": "code",
     "collapsed": false,
     "input": [
      "# 5)\n",
      "L = [1, 2, 3, 4, 5]\n",
      "L[1:3] = (100, 101, 102)\n",
      "print L"
     ],
     "language": "python",
     "metadata": {},
     "outputs": [
      {
       "output_type": "stream",
       "stream": "stdout",
       "text": [
        "[1, 100, 101, 102, 4, 5]\n"
       ]
      }
     ],
     "prompt_number": 10
    },
    {
     "cell_type": "markdown",
     "metadata": {},
     "source": [
      "(100, 101, 102)\ub294 \ud29c\ud50c\ub85c \ubc18\ubcf5\uc774 \uac00\ub2a5\ud558\ubbc0\ub85c \uc5d0\ub7ec\uac00 \ubc1c\uc0dd\ud558\uc9c0 \uc54a\ub294\ub2e4. \uc2ac\ub77c\uc774\uc2f1 \uce58\ud658\uc2dc \ud29c\ud50c\ub85c \ub4e4\uc5b4\uac00\uc9c0 \uc54a\uace0 \ud615 \ubcc0\ud658\ud558\uc5ec \ub4e4\uc5b4\uac00\ub294\uac83\uc73c\ub85c \ubcf4\uc5ec\uc9c4\ub2e4."
     ]
    },
    {
     "cell_type": "code",
     "collapsed": false,
     "input": [
      "# 6)\n",
      "L = [1, 2, 3, 4, 5]\n",
      "L[1:3] = [100, 101, 102]\n",
      "print L"
     ],
     "language": "python",
     "metadata": {},
     "outputs": [
      {
       "output_type": "stream",
       "stream": "stdout",
       "text": [
        "[1, 100, 101, 102, 4, 5]\n"
       ]
      }
     ],
     "prompt_number": 11
    },
    {
     "cell_type": "markdown",
     "metadata": {},
     "source": [
      "\uce58\ud658\ud558\ub294 \uac12\uc758 \ud06c\uae30\uac00 \ub354 \ud070 \uacbd\uc6b0\uc758 \uce58\ud658\uc774\ub2e4. \ub9ac\uc2a4\ud2b8 L\uc758 2\uac1c\uc758 \uc6d0\uc18c\uc640 [100, 101, 102] 3\uac1c\uc758 \uc6d0\uc18c\uac00 \uce58\ud658\ud55c\ub2e4."
     ]
    },
    {
     "cell_type": "code",
     "collapsed": false,
     "input": [
      "# 7)\n",
      "L = [1, 2, 3, 4, 5]\n",
      "L[1:3] = [(100, 101, 102)]\n",
      "print L"
     ],
     "language": "python",
     "metadata": {},
     "outputs": [
      {
       "output_type": "stream",
       "stream": "stdout",
       "text": [
        "[1, (100, 101, 102), 4, 5]\n"
       ]
      }
     ],
     "prompt_number": 12
    },
    {
     "cell_type": "markdown",
     "metadata": {},
     "source": [
      "\ud29c\ud50c\uc744 \ub9ac\uc2a4\ud2b8\ub85c \ubb36\uc740 \uac12\uc744 \uce58\ud658\ud558\ub294 \uacbd\uc6b0\uc774\ub2e4. \uc774 \uacbd\uc6b0 \ud29c\ud50c\ub85c \uac12\uc774 \ub4e4\uc5b4\uac00\ub294\uac83\uc744 \ubcfc \uc218\uac00 \uc788\ub2e4. \ub9ac\uc2a4\ud2b8 L\uc758 1\ud3ec\ud568 ~ 3 \ubbf8\ud3ec\ud568\uc758 \uac12\uc744 \ud29c\ud50c(100, 101, 102)\ub85c \uce58\ud658\ud55c\ub2e4."
     ]
    },
    {
     "cell_type": "code",
     "collapsed": false,
     "input": [
      "# 8)\n",
      "L = [1, 2, 3, 4, 5]\n",
      "L[1:3] = [[100, 101, 102]]\n",
      "print L"
     ],
     "language": "python",
     "metadata": {},
     "outputs": [
      {
       "output_type": "stream",
       "stream": "stdout",
       "text": [
        "[1, [100, 101, 102], 4, 5]\n"
       ]
      }
     ],
     "prompt_number": 13
    },
    {
     "cell_type": "markdown",
     "metadata": {},
     "source": [
      "\ub9ac\uc2a4\ud2b8\ub97c \ub9ac\uc2a4\ud2b8\ub85c \ubb36\uc740 \uac12\uc744 \uce58\ud658\ud558\ub294 \uacbd\uc6b0\uc774\ub2e4. \ub9ac\uc2a4\ud2b8 L\uc758 1\ud3ec\ud568 ~ 3 \ubbf8\ud3ec\ud568\uc758 \uac12\uc744 \ub9ac\uc2a4\ud2b8[100, 101, 102]\ub85c \uce58\ud658\ud55c\ub2e4."
     ]
    },
    {
     "cell_type": "markdown",
     "metadata": {},
     "source": [
      "####2)\ubb38\uc790\uc5f4 S = 'Hello World and Python'\uc5d0 \ub300\ud574 \ub2e4\uc74c \uc694\uad6c\uc0ac\ud56d\uc5d0 \ub300\ud55c Python \ucf54\ub4dc\ub97c \uc81c\uc2dc\ud558\uc2dc\uc624. \n",
      "  - 1) \ub2e8\uc5b4\uc758 \uc21c\uc11c\uac00 \uc5ed\uc21c\uc73c\ub85c \ub418\uc5b4\uc9c4 \ubb38\uc790\uc5f4 ('Python and World Hello')\uc744 \ub9cc\ub4e4\uace0  \n",
      "  - 2) 1)\uc758 \uacb0\uacfc \ubb38\uc790\uc5f4\uc5d0 \ub300\ud574 \uba54\uc18c\ub4dc split\uacfc join\uc744 \uc774\uc6a9\ud558\uc5ec \uacf5\ubc31\uc744 \ubaa8\ub450 \uc5c6\uc5d4 \ubb38\uc790\uc5f4 'PythonandWorldHello'\uc744 \ub9cc\ub4dc\uc2dc\uc624."
     ]
    },
    {
     "cell_type": "code",
     "collapsed": false,
     "input": [
      "S = 'Hello World and Python'\n",
      "s = S[16:] + S[11:16] + S[6:12] + S[:5]\n",
      "t = ''.join(s.split()) \n",
      "print t"
     ],
     "language": "python",
     "metadata": {},
     "outputs": [
      {
       "output_type": "stream",
       "stream": "stdout",
       "text": [
        "PythonandWorldHello\n"
       ]
      }
     ],
     "prompt_number": 14
    },
    {
     "cell_type": "markdown",
     "metadata": {},
     "source": [
      "\uc2ac\ub77c\uc774\uc2f1\uc744 \uc774\uc6a9\ud558\uc5ec 'Python and World Hello' \ubb38\uc790\uc5f4 s\ub97c \uc0dd\uc131\ud558\uace0, split\uc640 join\uc744 \uc774\uc6a9\ud558\uc5ec \uacf5\ubc31\uc744 \uc5c6\uc5d4 \ubb38\uc790\uc5f4 t\ub97c \uc0dd\uc131\ud558\uc600\ub2e4."
     ]
    },
    {
     "cell_type": "markdown",
     "metadata": {},
     "source": [
      "####3)\ub2e4\uc74c \ucf54\ub4dc\ub97c \ubcf4\uace0 \ubb3c\uc74c\uc5d0 \ub2f5\ud558\uc2dc\uc624."
     ]
    },
    {
     "cell_type": "code",
     "collapsed": false,
     "input": [
      "a = [1, 2, 3]\n",
      "b = a * 3\n",
      "c = [a] * 3\n",
      "print b\n",
      "print c\n",
      "print\n",
      "\n",
      "a[0]=0\n",
      "print b\n",
      "print c"
     ],
     "language": "python",
     "metadata": {},
     "outputs": [
      {
       "output_type": "stream",
       "stream": "stdout",
       "text": [
        "[1, 2, 3, 1, 2, 3, 1, 2, 3]\n",
        "[[1, 2, 3], [1, 2, 3], [1, 2, 3]]\n",
        "\n",
        "[1, 2, 3, 1, 2, 3, 1, 2, 3]\n",
        "[[0, 2, 3], [0, 2, 3], [0, 2, 3]]\n"
       ]
      }
     ],
     "prompt_number": 15
    },
    {
     "cell_type": "markdown",
     "metadata": {},
     "source": [
      "  - 1) \uc704 \ucf54\ub4dc\ub97c \uc218\ud589\ud55c \uc774\ud6c4 \ub2e4\uc74c \ucf54\ub4dc\ub97c \uc218\ud589\ud55c \ud6c4 b\uc640 c\uc758 \ub0b4\uc6a9\uc744 \ud655\uc778\ud558\uc2dc\uc624.\n",
      "    <pre>a[0]=0</pre>\n",
      "    b\ub294 \uac12\uc774 \ubcc0\uacbd\ub418\uc9c0 \uc54a\uc558\uace0 c\ub294 \ubcc0\uacbd\uc774 \ub418\uc5c8\ub2e4.\n",
      "    \n",
      "  - 2) b\uc640 c \uac1d\uccb4\uc758 \ucc28\uc774\ub294 \ubb34\uc5c7\uc778\uac00?\n",
      "  \n",
      "  b\ub294 \uc2e4\uc81c \uac1d\uccb4\uc758 \ubcf5\uc0ac\ub85c a\uc758 \ubcc0\uacbd\uc5d0 \uc601\ud5a5\uc744 \ubc1b\uc9c0 \uc54a\ub294\ub2e4. c\ub294 \ub808\ud37c\ub7f0\uc2a4 \ubcf5\uc0ac\ub85c a\uc758 \ubcc0\uacbd\uc5d0 \uc601\ud5a5\uc744 \ubc1b\ub294\ub2e4."
     ]
    },
    {
     "cell_type": "markdown",
     "metadata": {},
     "source": [
      "####4)\ub2e4\uc74c \ubb38\uc790\uc5f4\uc744 ':'\uc744 \uae30\uc900\uc73c\ub85c \ubd84\ub9ac\ud558\uc5ec \ub9ac\uc2a4\ud2b8\ub85c \ub9cc\ub4e4\uace0 \uac01 \ubb38\uc790\uc5f4\uc758 \uc88c\uc6b0 \uacf5\ubc31\uc744 \uc81c\uac70\ud558\uc2dc\uc624 (\uc989, \ubb38\uc790\uc5f4 S\uc5d0\uc11c l\uc744 \ub9cc\ub4e4\uc5b4\ub77c)\n",
      "<pre>\n",
      "s = '  first star   :   second star   :    third star  '\n",
      "l = ['first star', 'second star', 'third star']\n",
      "</pre>\n",
      "  - 1) for ~ in \ubb38\uc744 \uc774\uc6a9\ud55c \ucf54\ub4dc\ub97c \uc791\uc131\ud558\uc2dc\uc624. \n",
      "  - 2) \ub9ac\uc2a4\ud2b8 \ub0b4\ud3ec(list comprehension)\ub97c \uc774\uc6a9\ud55c \ucf54\ub4dc\ub97c \uc791\uc131\ud558\uc2dc\uc624."
     ]
    },
    {
     "cell_type": "code",
     "collapsed": false,
     "input": [
      "s = '  first star   :   second star   :    third star  '\n",
      "x = 0\n",
      "l =[]\n",
      "for i in range(len(s)):\n",
      "    if(s[i] == \":\" or i == (len(s)-1)):\n",
      "        l.append(s[x:i].strip())\n",
      "        x = i+1;\n",
      "print l"
     ],
     "language": "python",
     "metadata": {},
     "outputs": [
      {
       "output_type": "stream",
       "stream": "stdout",
       "text": [
        "['first star', 'second star', 'third star']\n"
       ]
      }
     ],
     "prompt_number": 16
    },
    {
     "cell_type": "code",
     "collapsed": false,
     "input": [
      "s = '  first star   :   second star   :    third star  '\n",
      "l = [x.strip() for x in s.split(\":\")]\n",
      "print l"
     ],
     "language": "python",
     "metadata": {},
     "outputs": [
      {
       "output_type": "stream",
       "stream": "stdout",
       "text": [
        "['first star', 'second star', 'third star']\n"
       ]
      }
     ],
     "prompt_number": 17
    },
    {
     "cell_type": "markdown",
     "metadata": {},
     "source": [
      "for\ubb38\uc758 \uacbd\uc6b0\uc5d0\ub294 x\uc640 i\ub97c \uc774\uc6a9\ud558\uc5ec \uc2ac\ub77c\uc774\uc2f1\uc744 \ud558\uc5ec \ubb38\uc81c\ub97c \ud574\uacb0\ud558\uc600\uace0, \ub9ac\uc2a4\ud2b8 \ub0b4\ud3ec\uc758 \uacbd\uc6b0\uc5d0\ub294 split\uacfc strip\uc744 \uc774\uc6a9\ud558\uc5ec \ud574\uacb0\ud558\uc600\uc2b5\ub2c8\ub2e4."
     ]
    },
    {
     "cell_type": "markdown",
     "metadata": {},
     "source": [
      "####5)\ub2e4\uc74c\uacfc \uac19\uc774 0\ubcf4\ub2e4 \ud070 \uc815\uc218 \ub9ac\uc2a4\ud2b8 \ubcc0\uc218 list\ub97c \uc778\uc790\ub85c \ubc1b\ub294 \ud568\uc218 addall(list)\uc640 addallodd(list)\ub97c for ~ in \ub9ac\ud130\ub110\uacfc \ub9ac\uc2a4\ud2b8 \ub0b4\ud3ec \ubc29\uc2dd\uc73c\ub85c \uac01\uac01 \uc81c\uc2dc\ud558\uc2dc\uc624.\n",
      "  - 1) addall(list) \ud568\uc218 (\ub9ac\uc2a4\ud2b8 \ub0b4\uc758 \ubaa8\ub4e0 \uc815\uc218\ub97c \ub354\ud558\ub294 \ud568\uc218\ub85c\uc11c \ud574\ub2f5\uc73c\ub85c\ub294 for ~ in \ub9ac\ud130\ub7f4\uacfc \ub9ac\uc2a4\ud2b8 \ub0b4\ud3ec \ubc29\uc2dd\uc73c\ub85c \uac01\uac01 \uc81c\uc2dc\ud558\uc2dc\uc624.)\n",
      "  - 2) addallodd(list) \ud568\uc218 (\ub9ac\uc2a4\ud2b8\ub0b4\uc758 \ubaa8\ub4e0 \ud640\uc218\ub97c \ub354\ud558\ub294 \ud568\uc218\ub85c\uc11c \ud574\ub2f5\uc73c\ub85c\ub294 for ~ in \ub9ac\ud130\ub7f4\uacfc \ub9ac\uc2a4\ud2b8 \ub0b4\ud3ec \ubc29\uc2dd\uc73c\ub85c \uac01\uac01 \uc81c\uc2dc\ud558\uc2dc\uc624.)\n",
      "    - <pre>>>> addallodd([1])\n",
      "    1</pre>\n",
      "    - <pre>>>> addallodd([1, 2, 3, 4, 5, 6, 7, 8, 9])\n",
      "    25</pre>"
     ]
    },
    {
     "cell_type": "code",
     "collapsed": false,
     "input": [
      "def addall(List) :\n",
      "    sum = 0\n",
      "    for i in range(len(List)):\n",
      "        sum += List[i]\n",
      "    print sum\n",
      "def addallodd(List) :\n",
      "    sum = 0\n",
      "    for i in range(len(List)):\n",
      "        if(List[i] % 2 == 1):\n",
      "            sum += List[i]\n",
      "    print sum\n",
      "addall([1])\n",
      "addall([1, 2, 3, 4, 5, 6, 7, 8, 9])\n",
      "addallodd([1])\n",
      "addallodd([1, 2, 3, 4, 5, 6, 7, 8, 9])"
     ],
     "language": "python",
     "metadata": {},
     "outputs": [
      {
       "output_type": "stream",
       "stream": "stdout",
       "text": [
        "1\n",
        "45\n",
        "1\n",
        "25\n"
       ]
      }
     ],
     "prompt_number": 1
    },
    {
     "cell_type": "code",
     "collapsed": false,
     "input": [
      "def addall(List) :\n",
      "    product = [List[i]  for i in range(len(List))]\n",
      "    print sum(product)\n",
      "def addallodd(List) :\n",
      "    product = [List[i]  for i in range(len(List)) if(List[i] %2 == 1)]\n",
      "    print sum(product)\n",
      "    \n",
      "addall([1])\n",
      "addall([1, 2, 3, 4, 5, 6, 7, 8, 9])\n",
      "addallodd([1])\n",
      "addallodd([1, 2, 3, 4, 5, 6, 7, 8, 9])"
     ],
     "language": "python",
     "metadata": {},
     "outputs": [
      {
       "output_type": "stream",
       "stream": "stdout",
       "text": [
        "1\n",
        "45\n",
        "1\n",
        "25\n"
       ]
      }
     ],
     "prompt_number": 19
    },
    {
     "cell_type": "markdown",
     "metadata": {},
     "source": [
      "addall\uc758 \uacbd\uc6b0\uc5d0\ub294 \ud06c\uac8c \ucc28\uc774\uac00 \ub098\uc9c0 \uc54a\uc9c0\ub9cc, addallodd\uc758 \uacbd\uc6b0\uc5d0\ub294 \ub9ac\uc2a4\ud2b8 \ub0b4\ud3ec\uac00 \ud655\uc2e4\ud788 \uae54\ub054\ud55c \uac83\uc744 \uc54c \uc218 \uc788\uc5c8\ub2e4. \ud558\uc9c0\ub9cc \ub9ac\uc2a4\ud2b8 \ub0b4\ud3ec\uac00 \uc544\uc9c1 \uc801\uc751\ub418\uc9c0 \uc54a\uc544\uc11c \uac00\ub3c5\uc131\uc740 \uae30\uc874\uc758 for\ubb38\uc774 \uc88b\uc740 \uac83 \uac19\uc2b5\ub2c8\ub2e4."
     ]
    },
    {
     "cell_type": "markdown",
     "metadata": {},
     "source": [
      "####6)\ub2e4\uc74c \ucf54\ub4dc\ub97c \ubcf4\uace0 \ubb3c\uc74c\uc5d0 \ub2f5\ud558\uc2dc\uc624."
     ]
    },
    {
     "cell_type": "code",
     "collapsed": false,
     "input": [
      "L1 = [1, 2, 3]\n",
      "L2 = [4, 5, 6]\n",
      "d = {'low':L1, 'high':L2}\n",
      "e = d\n",
      "f = d.copy()\n",
      "print d\n",
      "print e\n",
      "print f\n",
      "print\n",
      "d['low'] = [10, 20, 30]\n",
      "d['high'][1] = 500\n",
      "print d\n",
      "print e\n",
      "print f"
     ],
     "language": "python",
     "metadata": {},
     "outputs": [
      {
       "output_type": "stream",
       "stream": "stdout",
       "text": [
        "{'high': [4, 5, 6], 'low': [1, 2, 3]}\n",
        "{'high': [4, 5, 6], 'low': [1, 2, 3]}\n",
        "{'high': [4, 5, 6], 'low': [1, 2, 3]}\n",
        "\n",
        "{'high': [4, 500, 6], 'low': [10, 20, 30]}\n",
        "{'high': [4, 500, 6], 'low': [10, 20, 30]}\n",
        "{'high': [4, 500, 6], 'low': [1, 2, 3]}\n"
       ]
      }
     ],
     "prompt_number": 20
    },
    {
     "cell_type": "markdown",
     "metadata": {},
     "source": [
      "  - 1) \uc704 \ucf54\ub4dc\uc758 \uc218\ud589 \uacb0\uacfc d\uc640 e\ub294 \ud56d\uc0c1 \uac19\uc740 \uacb0\uacfc\ub97c \ucd9c\ub825\ud55c\ub2e4. \uadf8 \uc774\uc720\ub294 \ubb34\uc5c7\uc778\uac00?\n",
      "  \n",
      "  e\ub294 d\ub97c \ub808\ud37c\ub7f0\uc2a4\ubcf5\uc0ac\ud55c \uac12\uc73c\ub85c \uac19\uc740 \uac1d\uccb4\ub97c \uac00\ub9ac\ud0a4\uae30 \ub54c\ubb38\uc5d0 \ud56d\uc0c1 \uac19\uc740 \uac12\uc744 \ucd9c\ub825\ud55c\ub2e4.\n",
      "  \n",
      "  \n",
      "  - 2) \uc704 \ucf54\ub4dc\uc758 \uc218\ud589 \uacb0\uacfc \ub9c8\uc9c0\ub9c9 f\uc758 \ub0b4\uc6a9\uc740 \ub2e4\uc74c\uacfc \uac19\ub2e4. \uc774 \ub54c 'high' \ud0a4\uc758 \uac12 \ub0b4\uc6a9 \uc911 500\uc774 \ucd9c\ub825\ub41c \uc774\uc720\uc640 'low' \ud0a4\uc758 \uac12 \ub0b4\uc6a9 \uc911 [1, 2, 3]\uc774 \ucd9c\ub825\ub41c \uc774\uc720\ub97c \uc124\uba85\ud558\uc2dc\uc624 ([hint]: shallow copy \uad00\uc810\uc5d0\uc11c \uc124\uba85\ud558\uc2dc\uc624.)\n",
      "  \n",
      "  f\uc758 \uacbd\uc6b0 shallow copy\ud55c \uac12\uc73c\ub85c \uac1d\uccb4\ub97c \ub530\ub85c \uc0dd\uc131\ud558\uace0 \ub0b4\uc6a9\uc740 \ub808\ud37c\ub7f0\uc2a4 \ubcf5\uc0ac\ud55c\ub2e4. \ub530\ub77c\uc11c \ub0b4\uc6a9\uc774 \uac1d\uccb4\uc778 \uacbd\uc6b0\ub294 \uac19\uc740 \uac1d\uccb4\ub97c \uac00\ub9ac\ud0a4\uae30 \ub54c\ubb38\uc5d0 L2[1]\uc758 \ubcc0\uacbd\uc774 \uc601\ud5a5\uc744 \ubc1b\ub294\ub2e4"
     ]
    },
    {
     "cell_type": "markdown",
     "metadata": {},
     "source": [
      "####7)\uc0ac\uc804 d = {'one':1, 'two':2, 'three':3, 'four':4, 'five':5}\uac00 \uc8fc\uc5b4\uc84c\uc744 \ub54c \ub2e4\uc74c \uc694\uad6c\uc0ac\ud56d\uc5d0 \ub9de\ub294 \ucf54\ub4dc\ub97c \uc81c\uc2dc\ud558\uc2dc\uc624 \n",
      "  - [\ucc38\uace0]: d.keys(), d.values()\ub97c \ud1b5\ud574 \ub9ac\uc2a4\ud2b8\ub97c \uc5bb\uc5b4\ub0b8 \ud6c4 \ub9ac\uc2a4\ud2b8\uac00 \uc9c0\ub2c8\uace0 \uc788\ub294 sort(cmp=None, key=None, reverse=False)\ud568\uc218\ub97c \ud65c\uc6a9\ud558\uc2dc\uc624.\n",
      "  - 1) \ud0a4\uc758 \uc54c\ud30c\ubcb3 \uc624\ub984\ucc28\uc21c \uc21c\uc11c\ub300\ub85c \ud29c\ud50c (\ud0a4, \uac12)\uc744 \ucc28\ub840\ub300\ub85c \ucd9c\ub825\ud558\uc2dc\uc624.\n",
      "  - 2) \ud0a4\uc758 \uc54c\ud30c\ubcb3 \ub0b4\ub9bc\ucc28\uc21c \uc21c\uc11c\ub300\ub85c \ud29c\ud50c (\ud0a4, \uac12)\uc744 \ucc28\ub840\ub300\ub85c \ucd9c\ub825\ud558\uc2dc\uc624.\n",
      "  - 3) \uac12\uc758 \uc624\ub984\ucc28\uc21c \uc21c\uc11c\ub300\ub85c \ud29c\ud50c (\ud0a4, \uac12)\uc744 \ucc28\ub840\ub300\ub85c \ucd9c\ub825\ud558\uc2dc\uc624. \n",
      "  - 4) \uac12\uc758 \ub0b4\ub9bc\ucc28\uc21c \uc21c\uc11c\ub300\ub85c \ud29c\ud50c (\ud0a4, \uac12)\uc744 \ucc28\ub840\ub300\ub85c \ucd9c\ub825\ud558\uc2dc\uc624."
     ]
    },
    {
     "cell_type": "code",
     "collapsed": false,
     "input": [
      "d = {'one':1, 'two':2, 'three':3, 'four':4, 'five':5}\n",
      "\n",
      "keys = d.keys()\n",
      "values = d.values()\n",
      "\n",
      "print \"Sort by Key Ascending\"\n",
      "keys.sort()\n",
      "for key in keys:\n",
      "    print key, d[key]\n",
      "    \n",
      "print \"Sort by Key Descending\"\n",
      "keys.sort(reverse = True)\n",
      "for key in keys:\n",
      "    print key, d[key]\n",
      "    \n",
      "print \"Sort by Value Ascending\"\n",
      "values.sort()\n",
      "for l_value in values:\n",
      "    for d_key, d_value in d.items():\n",
      "        if(l_value == d_value):\n",
      "           print d_key, d_value     \n",
      "\n",
      "print \"Sort by Value Descending\"        \n",
      "values.sort(reverse = True)\n",
      "for l_value in values:\n",
      "    for d_key, d_value in d.items():\n",
      "        if(l_value == d_value):\n",
      "           print d_key, d_value"
     ],
     "language": "python",
     "metadata": {},
     "outputs": [
      {
       "output_type": "stream",
       "stream": "stdout",
       "text": [
        "Sort by Key Ascending\n",
        "five 5\n",
        "four 4\n",
        "one 1\n",
        "three 3\n",
        "two 2\n",
        "Sort by Key Descending\n",
        "two 2\n",
        "three 3\n",
        "one 1\n",
        "four 4\n",
        "five 5\n",
        "Sort by Value Ascending\n",
        "one 1\n",
        "two 2\n",
        "three 3\n",
        "four 4\n",
        "five 5\n",
        "Sort by Value Descending\n",
        "five 5\n",
        "four 4\n",
        "three 3\n",
        "two 2\n",
        "one 1\n"
       ]
      }
     ],
     "prompt_number": 21
    },
    {
     "cell_type": "markdown",
     "metadata": {},
     "source": [
      "\ud0a4\uc758 \uacbd\uc6b0\uc5d0\ub294 \ud070 \ubb38\uc81c\uac00 \uc5c6\uc9c0\ub9cc, \uac12\uc758 \uacbd\uc6b0\uc5d0\ub294 \ud45c\uae30\ud558\uae30 \uc704\ud574 for\ubb38\uc744 2\ubc88 \uc911\ucca9\ud574\uc57c \ud588\uace0 \uac12\uc774 \uc911\ubcf5\ub41c \uacbd\uc6b0\uac00 \uc788\uc744\uc2dc \ubb38\uc81c\uac00 \ubc1c\uc0dd\ud569\ub2c8\ub2e4."
     ]
    },
    {
     "cell_type": "markdown",
     "metadata": {},
     "source": [
      "####8)\uc774\uc804 Assignment 2\uc758 \ub9c8\uc9c0\ub9c9 \ubb38\uc81c\ub294 \uc6f9 URL\ub85c \uc9c0\uc815\ub41c \uc6f9\ud398\uc774\uc9c0\ub97c \ubb38\uc790\uc5f4\ub85c \uac00\uc838\uc640 \ubaa8\ub4e0 HTML \ud0dc\uadf8 \ubc0f CSS\uc640 Javascript\ub97c \uc81c\uc678\ud55c \uc21c\uc218 \ud14d\uc2a4\ud2b8\ub97c \uc5bb\uc5b4\ub0b4\uace0 \uadf8 \uc548\uc5d0 \uc874\uc7ac\ud558\ub294 \ub2e8\uc5b4\ub97c \ucd94\ucd9c\ud558\ub294 \ud504\ub85c\uadf8\ub7a8\uc744 \uc791\uc131\ud558\ub294 \uac83\uc774\uc5c8\ub2e4. \uc774\ubc88\uc5d0\ub294 \uadf8 \ub9c8\uc9c0\ub9c9 \uc219\uc81c\ub97c \uadf8\ub300\ub85c \ud655\uc7a5\ud558\uc5ec \uc6f9 URL\ub85c \uc9c0\uc815\ub41c \uc6f9\ud398\uc774\uc9c0 \ub0b4 \uc21c\uc218 \ud14d\uc2a4\ud2b8 \uc548\uc5d0 \uc874\uc7ac\ud558\ub294 \uac01 \ub2e8\uc5b4\ub4e4\uc5d0 \ub300\ud574 \ub2e4\uc74c \uc694\uad6c\uc0ac\ud56d \ub300\ub85c \ucd9c\ub825\ud558\ub294 \ud504\ub85c\uadf8\ub7a8\uc744 \uc791\uc131\ud558\uc2dc\uc624. \n",
      "  - \uc694\uad6c\uc0ac\ud56d 1. \uc21c\uc218 \ud14d\uc2a4\ud2b8 \uc548\uc5d0 \uc874\uc7ac\ud558\ub294 \ub2e8\uc5b4\ub4e4\uc5d0 \ub300\ud574 string \ubaa8\ub4c8\uc744 \ud65c\uc6a9\ud558\uc5ec \ubaa8\ub4e0 punctuation (\uad6c\ub450\ubb38\uc790)\ub97c \uc644\ubcbd\ud788 \uc81c\uac70\ud558\uc2dc\uc624 (\uad50\uc7ac 166\ud398\uc774\uc9c0 \ucc38\uace0).\n",
      "    - \uc608: ['world!', ':', '+hello+', '~python$$$', '=', 'world'] ---> ['world', 'hello', 'python', 'world']\n",
      "  - \uc694\uad6c\uc0ac\ud56d 2. \uac01 \ub2e8\uc5b4\ub4e4\uc758 \ucd9c\ud604\ube48\ub3c4\ub97c \uc0ac\uc804\ud615\ud0dc\ub85c \uc800\uc7a5\ud558\uc5ec \ucd9c\ub825\ud558\uc2dc\uc624.\n",
      "    - \uc608: ['world', 'hello', 'python', 'world'] ---> {'world': 2, 'hello': 1, 'python': 1}"
     ]
    },
    {
     "cell_type": "code",
     "collapsed": false,
     "input": [
      "import urllib\n",
      "import string\n",
      "from collections import Counter\n",
      "\n",
      "source = urllib.urlopen(\"http://ipython.org/\").read()\n",
      "\n",
      "len_source = len(source)\n",
      "\n",
      "i = 0\n",
      "while (i < len_source):\n",
      "    found = False\n",
      "    if (found != True and source[i] == \"<\" and source[i+1 : i+7].lower() == \"script\"):\n",
      "        found = True;\n",
      "        j = i + 7;\n",
      "        while (True):\n",
      "            if (source[j] == \"<\" and source[j+1] == \"/\" and source[j+2 : j+8].lower() == \"script\"):\n",
      "                source = source[:i] + ' ' + source[j+9:]\n",
      "                break\n",
      "            j = j + 1\n",
      "            if (j > len_source):\n",
      "                break\n",
      "        len_source = len(source)\n",
      "    i = i + 1\n",
      "\n",
      "len_source = len(source)\n",
      "\n",
      "i = 0\n",
      "while (i < len_source):\n",
      "    found = False\n",
      "    if (found != True and source[i] == \"<\" and source[i+1 : i+6].lower() == \"style\"):\n",
      "        found = True;\n",
      "        j = i + 6;\n",
      "        while (True):\n",
      "            if (source[j] == \"<\" and source[j+1] == \"/\" and source[j+2 : j+7].lower() == \"style\"):\n",
      "                source = source[:i] + ' ' + source[j+8:]\n",
      "                break\n",
      "            j = j + 1\n",
      "            if (j > len_source):\n",
      "                break\n",
      "        len_source = len(source)\n",
      "    i = i + 1\n",
      "\n",
      "len_source = len(source)\n",
      "\n",
      "i = 0\n",
      "while (i < len_source):\n",
      "    found = False\n",
      "    if (found != True and source[i] == \"<\"):\n",
      "        found = True;\n",
      "        j = i + 1;\n",
      "        while (True):\n",
      "            if (source[j] == \">\"):\n",
      "                source = source[:i] + ' ' + source[j+1:]\n",
      "                break\n",
      "            j = j + 1\n",
      "            if (j > len_source):\n",
      "                break\n",
      "        len_source = len(source)\n",
      "    i = i + 1\n",
      "\n",
      "\n",
      "words = (\"\".join(i for i in source if i not in string.punctuation)).split()\n",
      "counts = dict(Counter(words))\n",
      "print counts"
     ],
     "language": "python",
     "metadata": {},
     "outputs": [
      {
       "output_type": "stream",
       "stream": "stdout",
       "text": [
        "{'Web': 1, 'all': 3, 'code': 2, 'browserbased': 1, 'show': 1, 'text': 1, 'focus': 2, 'integration': 1, 'leads': 1, 'talks': 1, 'expressions': 1, 'availability': 1, 'forget': 1, 'impact': 1, 'Foundation': 2, 'We': 4, 'developers': 3, 'Award': 2, 'environment': 1, 'to': 21, 'citing': 1, 'Additionally': 1, 'announce': 1, 'Software': 1, 'Bussonnier': 1, 'do': 1, 'his': 2, 'get': 1, 'watch': 1, 'P': 1, 'While': 1, '123': 1, 'nearly': 1, 'continued': 1, 'advancedlevel': 1, 'Help': 1, 'Matthias': 1, 'fields': 1, 'notes': 1, 'list': 2, 'book': 5, 'multilanguage': 1, 'architecture': 2, 'team': 1, 'release': 3, 'Perez': 1, 'Panda': 1, 'kernel': 4, 'work': 3, 'For': 1, 'be': 2, 'GUI': 1, 'roadmap': 1, 'Citing': 1, 'actively': 1, 'are': 4, 'Easy': 1, 'download': 1, 'Versions': 1, 'contributed': 1, '\\xc2\\xb6': 2, 'HTML': 1, 'reproducible': 1, 'new': 1, 'contributes': 1, 'available': 1, 'Share': 1, 'Created': 1, 'citation': 1, 'Reddit': 1, 'here': 1, 'news': 1, 'Scientific': 1, 'News': 1, 'license': 1, '33': 1, '32': 1, 'acknowledge': 1, 'presentations': 1, 'guide': 1, 'Travis': 1, 'published': 2, 'changes': 1, 'load': 1, 'mechanics': 1, 'via': 1, 'FSF': 1, 'Support': 2, 'community': 1, 'Book': 4, 'Free': 1, 'learning': 1, '1st': 1, 'IPython': 30, 'Donate': 1, 'tools': 1, 'bugfix': 1, 'Packt': 2, 'languages': 1, 'use': 3, 'GitHub': 1, 'from': 5, 'August': 1, 'objectives': 1, 'two': 1, 'been': 1, 'Microsoft': 2, 'California': 1, 'basic': 1, 'BSD': 1, 'preview': 1, 'achieving': 1, 'more': 4, 'CI': 1, 'October': 2, 'Octave': 1, 'embeddable': 1, 'started': 1, 'bulk': 1, 'excellent': 1, 'Vagrantpowered': 1, 'has': 3, 'Videos': 1, 'To': 2, 'this': 4, 'science': 2, 'clients': 2, 'Roadmap': 1, 'will': 1, 'technical': 1, 'while': 1, 'can': 4, 'learn': 1, 'Our': 2, 'example': 3, 'scripting': 1, 'Shining': 1, 'mdash': 1, 'is': 9, 'it': 3, 'now': 1, 'high': 1, 'in': 8, 'donating': 2, 'Flexible': 1, 'You': 2, 'Several': 1, 'Cite': 1, 'if': 1, 'information': 1, 'wellspecified': 1, 'midJuly': 1, 'Python': 5, 'media': 1, 'proceeds': 2, 'machine': 1, 'speaks': 1, 'Stack': 1, 'A': 2, 'used': 2, 'Room': 2, 'collection': 1, 'notebook': 3, 'uses': 1, 'designed': 1, 'coming': 1, 'such': 2, 'data': 3, 'parallel': 1, 'Wiki': 1, 'older': 1, 'navigation': 1, 'documentation': 1, 'well': 1, 'Community': 1, 'IPython8217s': 3, 'academic': 1, 'Haskell': 1, 'so': 1, 'File': 1, 'things': 1, 'inline': 1, 'the': 33, 'If': 1, 'Visualization': 2, 'Loading': 1, 'protocol': 1, 'developed': 1, 'donates': 1, '130': 1, 'including': 1, 'reviewer': 1, 'its': 1, 'previous': 1, 'letting': 1, 'web': 1, '26': 1, '27': 1, '20': 2, 'thank': 2, '23': 2, 'bringing': 1, 'notebooks': 2, 'source': 2, 'add': 1, 'other': 4, 'advanced': 1, 'readymade': 1, '2014': 2, 'extensive': 1, 'ndash': 1, 'Tweet': 1, '2013': 2, '2012': 1, 'them': 1, 'read': 2, 'Powerful': 1, 'We8217ll': 1, 'Social': 1, 'using': 1, 'Cookbook': 1, 'projects': 3, 'several': 1, 'Computing': 2, '2x': 1, 'Learning': 1, 'each': 1, 'security': 1, 'rich': 2, 'out': 1, 'Find': 1, 'mathematical': 1, 'development': 4, 'Ruby': 1, 'terminal': 2, 'series': 1, 'creation': 1, 'languageagnostic': 1, 'Perl': 1, '115': 1, 'examples': 1, 'Alfred': 1, 'year': 1, 'quantum': 1, 'our': 7, 'beyond': 1, 'Bash': 1, 'More': 2, 'sprints': 1, 'funding': 1, 'for': 19, 'Sponsors': 1, 'research': 1, 'provides': 1, 'Overflow': 1, 'supports': 3, 'core': 1, 'scientific': 3, 'repository': 1, 'kernels': 1, 'This': 1, 'interpreters': 1, 'million': 1, 'please': 2, 'plots': 1, 'Mailing': 1, 'by': 2, 'on': 4, 'about': 3, 'language': 1, 'of': 17, 'programming': 1, 'range': 1, 'screencasts': 1, '100000': 2, 'Chat': 2, 'facilitate': 1, 'or': 6, 'first': 1, 'major': 1, 'own': 1, 'features': 2, 'Copyright': 1, 'into': 2, 'Advancement': 1, 'awarded': 2, 'open': 3, 'your': 3, 'mix': 1, 'statistics': 1, 'publication': 1, 'shells': 1, '1x': 1, 'support': 5, 'Cyrille': 2, 'IPythonfocused': 1, 'Notebook': 5, 'way': 2, 'widgets': 1, 'Data': 1, 'cite': 1, 'a': 17, 'Github': 1, 'Sphinx': 1, 'grant': 3, 'that': 3, 'tool': 1, 'sequel': 1, 'but': 1, 'released': 1, 'R': 1, 'library': 1, 'Install': 3, 'authors': 1, 'copy': 1, 'with': 7, 'bug': 1, 'O8217Reilly': 1, '10': 2, 'Interactive': 2, 'toolkits': 1, 'was': 2, 'official': 2, 'see': 2, 'us': 1, 'project': 6, 'See': 2, '\\xc2\\xb7': 6, 'grant8217s': 1, 'interactive': 5, 'and': 24, 'Cython': 1, 'Publishing': 2, 'videos': 1, 'computing': 4, 'topics': 1, 'Stable': 1, 'an': 3, 'Sloan': 2, 'as': 5, 'Julia': 1, 'Announcements': 2, 'ship': 1, '30dev': 1, 'any': 1, 'Development': 3, 'Mining': 1, 'variety': 1, 'Read': 1, 'Docs': 1, 'Qtbased': 1, 'able': 1, 'virtual': 1, 'also': 1, 'visualization': 1, 'details': 3, 'which': 2, 'performance': 1, 'you': 3, 'many': 1, 'don8217t': 1, 'collaborative': 1, 'Rossant': 2, 'Fernando': 1, 'important': 1, 'connected': 1, 'allowing': 1, 'entry': 1, 'gallery': 1, 'building': 1, 'multidirectory': 1, 'Viewer': 2, 'proud': 1, 'together': 1, 'An': 1, 'portion': 2, 'newer': 1, 'fact': 1}\n"
       ]
      }
     ],
     "prompt_number": 22
    },
    {
     "cell_type": "markdown",
     "metadata": {},
     "source": [
      "\ud0dc\uadf8\ub4e4\uc744 \uc81c\uac70\ud55c source\uc5d0 punctuation\uc744 \uc81c\uac70\ud55c \ud6c4 join\uc744 \uc774\uc6a9\ud558\uc5ec \uc5f0\uacb0\ud55c \ubb38\uc790\uc5f4\uc744 \uc0dd\uc131 \ud6c4, split()\uc744 \uc774\uc6a9\ud558\uc5ec \uacf5\ubc31\uc73c\ub85c \ubd84\ub9ac\ud558\uc5ec \ub9ac\uc2a4\ud2b8\ub97c \uc0dd\uc131\ud55c\ub2e4.\n",
      "\n",
      "counter \ub77c\ub294 \ubaa8\ub4c8\uc744 \uc774\uc6a9\ud558\uba74 \uc190\uc27d\uac8c \ucd9c\ud604\ube48\ub3c4\ub97c \uad6c\ud604\ud560 \uc218\uac00 \uc788\ub2e4."
     ]
    },
    {
     "cell_type": "markdown",
     "metadata": {},
     "source": [
      "\n",
      "####\ub290\ub080 \uc810 : \ubb38\uc81c 1-3\ubc88\uc774 \uc5d0\ub7ec\uac00 \ub098\ub294 \uac83\uc774 \uc774\ud574\uac00 \uac00\uc9c0 \uc54a\ub294\ub2e4. \ud30c\uc774\uc36c\uc740 \ub2e4\ub978 \uc5b8\uc5b4\uc5d0 \ube44\ud574 \uc0ac\uc6a9\uc790 \ud3b8\uc758\ub97c \ub9ce\uc774 \uc99d\uac00 \uc2dc\ud0a8 \uac83 \uac19\uc740\ub370 \ubb38\uc81c 1-3\ubc88\uacfc \uac19\uc774 \ub2f9\uc5f0\ud788 \uce58\ud658 \ub420 \uac70 \uac19\uc740 \uacbd\uc6b0\uc778\ub370 \ud615 \ubcc0\ud658\uc744 \uc548 \ud574 \uc8fc\uace0 \uc5d0\ub7ec\uac00 \ubc1c\uc0dd\ud558\ub294 \uc810\uc774 \uc774\ud574\uac00 \uc548 \ub418\uace0 \uc9c0\uc6d0\uc744 \uc548\ud574\uc8fc\ub294 \uc774\uc720\uac00 \uc788\ub294\uc9c0 \uad81\uae08\ud558\ub2e4."
     ]
    }
   ],
   "metadata": {}
  }
 ]
}